{
 "cells": [
  {
   "cell_type": "code",
   "execution_count": null,
   "metadata": {},
   "outputs": [],
   "source": [
    "from sklearn.preprocessing import LabelEncoder\n",
    "from sklearn.preprocessing import MinMaxScaler\n",
    "import pandas as pd\n",
    "\n",
    "def preprocess_data(data):\n",
    "    \n",
    "    # Remove duplicates\n",
    "    data.drop_duplicates(inplace=True)\n",
    "\n",
    "    #drop null values\n",
    "    data.dropna(inplace=True)\n",
    "\n",
    "    # Encoding categorical or object fetaures  using Label Encoding\n",
    "    label_encoder = LabelEncoder()\n",
    "    data['Device_Name'] = label_encoder.fit_transform(data['Device_Name'])\n",
    "    data['Attack'] = label_encoder.fit_transform(data['Attack'])\n",
    "    data['Attack_subType'] = label_encoder.fit_transform(data['Attack_subType'])\n",
    "\n",
    "    # Scaling dataset\n",
    "    scaler = MinMaxScaler()\n",
    "    data = pd.DataFrame(scaler.fit_transform(data), columns=data.columns)\n",
    "\n",
    "    # dropping label column as they are not required\n",
    "    data.drop(['label'], axis=1, inplace=True)\n",
    "\n",
    "\n",
    "    processed_data = data\n",
    "    return processed_data, \"Preprocess successful\""
   ]
  }
 ],
 "metadata": {
  "language_info": {
   "name": "python"
  }
 },
 "nbformat": 4,
 "nbformat_minor": 2
}
