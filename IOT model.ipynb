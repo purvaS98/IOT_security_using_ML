{
 "cells": [
  {
   "cell_type": "code",
   "execution_count": 46,
   "metadata": {},
   "outputs": [],
   "source": [
    "import pandas as pd\n",
    "import seaborn as sn\n",
    "import matplotlib.pyplot as plt\n",
    "import numpy as np"
   ]
  },
  {
   "cell_type": "code",
   "execution_count": 47,
   "metadata": {},
   "outputs": [],
   "source": [
    "data = pd.read_csv(r'C:\\Users\\Dell\\OneDrive\\Desktop\\BoTNeTIoT-L01-v2.csv')\n"
   ]
  },
  {
   "cell_type": "code",
   "execution_count": 48,
   "metadata": {},
   "outputs": [
    {
     "name": "stdout",
     "output_type": "stream",
     "text": [
      "(7062606, 27)\n"
     ]
    }
   ],
   "source": [
    "print(data.shape)"
   ]
  },
  {
   "cell_type": "code",
   "execution_count": 49,
   "metadata": {},
   "outputs": [
    {
     "name": "stdout",
     "output_type": "stream",
     "text": [
      "<bound method NDFrame.describe of          MI_dir_L0.1_weight  MI_dir_L0.1_mean  MI_dir_L0.1_variance  \\\n",
      "0                  1.000000         98.000000          0.000000e+00   \n",
      "1                  1.931640         98.000000          1.818989e-12   \n",
      "2                  2.904273         86.981750          2.311822e+02   \n",
      "3                  3.902546         83.655268          2.040614e+02   \n",
      "4                  4.902545         81.685828          1.775746e+02   \n",
      "...                     ...               ...                   ...   \n",
      "7062601            2.937269        217.763487          1.770682e+04   \n",
      "7062602            1.730254        282.630543          1.054589e+04   \n",
      "7062603            2.730251        299.980395          7.204117e+03   \n",
      "7062604            2.882414        216.723647          1.775308e+04   \n",
      "7062605            2.032574        154.377267          1.303249e+04   \n",
      "\n",
      "         H_L0.1_weight  H_L0.1_mean  H_L0.1_variance  HH_L0.1_weight  \\\n",
      "0             1.000000    98.000000     0.000000e+00        1.000000   \n",
      "1             1.931640    98.000000     1.818989e-12        1.931640   \n",
      "2             2.904273    86.981750     2.311822e+02        1.000000   \n",
      "3             3.902546    83.655268     2.040614e+02        1.000000   \n",
      "4             4.902545    81.685828     1.775746e+02        2.000000   \n",
      "...                ...          ...              ...             ...   \n",
      "7062601       2.937269   217.763487     1.770682e+04        1.220882   \n",
      "7062602       1.730254   282.630543     1.054589e+04        1.213342   \n",
      "7062603       2.730251   299.980395     7.204117e+03        1.213352   \n",
      "7062604       2.882414   216.723647     1.775308e+04        1.209274   \n",
      "7062605       2.032574   154.377267     1.303249e+04        1.299681   \n",
      "\n",
      "         HH_L0.1_mean   HH_L0.1_std  HH_L0.1_magnitude  ...  HpHp_L0.1_mean  \\\n",
      "0           98.000000  0.000000e+00          98.000000  ...       98.000000   \n",
      "1           98.000000  1.348699e-06         138.592929  ...       98.000000   \n",
      "2           66.000000  0.000000e+00         114.856432  ...       66.000000   \n",
      "3           74.000000  0.000000e+00          74.000000  ...       74.000000   \n",
      "4           74.000000  9.536743e-07          74.000000  ...       74.000000   \n",
      "...               ...           ...                ...  ...             ...   \n",
      "7062601     60.000000  9.540000e-07          84.852814  ...       60.000000   \n",
      "7062602    330.000000  5.390000e-06         431.490440  ...      330.000000   \n",
      "7062603    330.000000  6.610000e-06         431.490440  ...      330.000000   \n",
      "7062604     60.000000  6.740000e-07          84.852814  ...       60.000000   \n",
      "7062605    145.339354  1.010891e+02         195.783485  ...      145.339354   \n",
      "\n",
      "         HpHp_L0.1_std  HpHp_L0.1_magnitude  HpHp_L0.1_radius  \\\n",
      "0         0.000000e+00            98.000000      0.000000e+00   \n",
      "1         1.348699e-06           138.592929      1.818989e-12   \n",
      "2         0.000000e+00           114.856432      0.000000e+00   \n",
      "3         0.000000e+00            74.000000      0.000000e+00   \n",
      "4         0.000000e+00            74.000000      0.000000e+00   \n",
      "...                ...                  ...               ...   \n",
      "7062601   9.540000e-07            84.852814      1.290000e-12   \n",
      "7062602   5.390000e-06           431.490440      2.910000e-11   \n",
      "7062603   6.610000e-06           431.490440      4.370000e-11   \n",
      "7062604   6.740000e-07            84.852814      4.550000e-13   \n",
      "7062605   1.010891e+02           195.783485      1.218303e+04   \n",
      "\n",
      "         HpHp_L0.1_covariance  HpHp_L0.1_pcc  \\\n",
      "0                0.000000e+00   0.000000e+00   \n",
      "1                0.000000e+00   0.000000e+00   \n",
      "2                0.000000e+00   0.000000e+00   \n",
      "3                0.000000e+00   0.000000e+00   \n",
      "4                0.000000e+00   0.000000e+00   \n",
      "...                       ...            ...   \n",
      "7062601          1.720000e-29   1.890000e-17   \n",
      "7062602          7.390000e-83   0.000000e+00   \n",
      "7062603          1.560000e-81   0.000000e+00   \n",
      "7062604          8.910000e-30   0.000000e+00   \n",
      "7062605          1.917443e+03   2.328946e-01   \n",
      "\n",
      "                                      Device_Name  Attack  Attack_subType  \\\n",
      "0                                Danmini_Doorbell  gafgyt           combo   \n",
      "1                                Danmini_Doorbell  gafgyt           combo   \n",
      "2                                Danmini_Doorbell  gafgyt           combo   \n",
      "3                                Danmini_Doorbell  gafgyt           combo   \n",
      "4                                Danmini_Doorbell  gafgyt           combo   \n",
      "...                                           ...     ...             ...   \n",
      "7062601  SimpleHome_XCS7_1003_WHT_Security_Camera  Normal          Normal   \n",
      "7062602  SimpleHome_XCS7_1003_WHT_Security_Camera  Normal          Normal   \n",
      "7062603  SimpleHome_XCS7_1003_WHT_Security_Camera  Normal          Normal   \n",
      "7062604  SimpleHome_XCS7_1003_WHT_Security_Camera  Normal          Normal   \n",
      "7062605  SimpleHome_XCS7_1003_WHT_Security_Camera  Normal          Normal   \n",
      "\n",
      "         label  \n",
      "0            0  \n",
      "1            0  \n",
      "2            0  \n",
      "3            0  \n",
      "4            0  \n",
      "...        ...  \n",
      "7062601      1  \n",
      "7062602      1  \n",
      "7062603      1  \n",
      "7062604      1  \n",
      "7062605      1  \n",
      "\n",
      "[7062606 rows x 27 columns]>\n"
     ]
    }
   ],
   "source": [
    "print(data.describe)"
   ]
  },
  {
   "cell_type": "code",
   "execution_count": 50,
   "metadata": {},
   "outputs": [
    {
     "name": "stdout",
     "output_type": "stream",
     "text": [
      "<bound method DataFrame.info of          MI_dir_L0.1_weight  MI_dir_L0.1_mean  MI_dir_L0.1_variance  \\\n",
      "0                  1.000000         98.000000          0.000000e+00   \n",
      "1                  1.931640         98.000000          1.818989e-12   \n",
      "2                  2.904273         86.981750          2.311822e+02   \n",
      "3                  3.902546         83.655268          2.040614e+02   \n",
      "4                  4.902545         81.685828          1.775746e+02   \n",
      "...                     ...               ...                   ...   \n",
      "7062601            2.937269        217.763487          1.770682e+04   \n",
      "7062602            1.730254        282.630543          1.054589e+04   \n",
      "7062603            2.730251        299.980395          7.204117e+03   \n",
      "7062604            2.882414        216.723647          1.775308e+04   \n",
      "7062605            2.032574        154.377267          1.303249e+04   \n",
      "\n",
      "         H_L0.1_weight  H_L0.1_mean  H_L0.1_variance  HH_L0.1_weight  \\\n",
      "0             1.000000    98.000000     0.000000e+00        1.000000   \n",
      "1             1.931640    98.000000     1.818989e-12        1.931640   \n",
      "2             2.904273    86.981750     2.311822e+02        1.000000   \n",
      "3             3.902546    83.655268     2.040614e+02        1.000000   \n",
      "4             4.902545    81.685828     1.775746e+02        2.000000   \n",
      "...                ...          ...              ...             ...   \n",
      "7062601       2.937269   217.763487     1.770682e+04        1.220882   \n",
      "7062602       1.730254   282.630543     1.054589e+04        1.213342   \n",
      "7062603       2.730251   299.980395     7.204117e+03        1.213352   \n",
      "7062604       2.882414   216.723647     1.775308e+04        1.209274   \n",
      "7062605       2.032574   154.377267     1.303249e+04        1.299681   \n",
      "\n",
      "         HH_L0.1_mean   HH_L0.1_std  HH_L0.1_magnitude  ...  HpHp_L0.1_mean  \\\n",
      "0           98.000000  0.000000e+00          98.000000  ...       98.000000   \n",
      "1           98.000000  1.348699e-06         138.592929  ...       98.000000   \n",
      "2           66.000000  0.000000e+00         114.856432  ...       66.000000   \n",
      "3           74.000000  0.000000e+00          74.000000  ...       74.000000   \n",
      "4           74.000000  9.536743e-07          74.000000  ...       74.000000   \n",
      "...               ...           ...                ...  ...             ...   \n",
      "7062601     60.000000  9.540000e-07          84.852814  ...       60.000000   \n",
      "7062602    330.000000  5.390000e-06         431.490440  ...      330.000000   \n",
      "7062603    330.000000  6.610000e-06         431.490440  ...      330.000000   \n",
      "7062604     60.000000  6.740000e-07          84.852814  ...       60.000000   \n",
      "7062605    145.339354  1.010891e+02         195.783485  ...      145.339354   \n",
      "\n",
      "         HpHp_L0.1_std  HpHp_L0.1_magnitude  HpHp_L0.1_radius  \\\n",
      "0         0.000000e+00            98.000000      0.000000e+00   \n",
      "1         1.348699e-06           138.592929      1.818989e-12   \n",
      "2         0.000000e+00           114.856432      0.000000e+00   \n",
      "3         0.000000e+00            74.000000      0.000000e+00   \n",
      "4         0.000000e+00            74.000000      0.000000e+00   \n",
      "...                ...                  ...               ...   \n",
      "7062601   9.540000e-07            84.852814      1.290000e-12   \n",
      "7062602   5.390000e-06           431.490440      2.910000e-11   \n",
      "7062603   6.610000e-06           431.490440      4.370000e-11   \n",
      "7062604   6.740000e-07            84.852814      4.550000e-13   \n",
      "7062605   1.010891e+02           195.783485      1.218303e+04   \n",
      "\n",
      "         HpHp_L0.1_covariance  HpHp_L0.1_pcc  \\\n",
      "0                0.000000e+00   0.000000e+00   \n",
      "1                0.000000e+00   0.000000e+00   \n",
      "2                0.000000e+00   0.000000e+00   \n",
      "3                0.000000e+00   0.000000e+00   \n",
      "4                0.000000e+00   0.000000e+00   \n",
      "...                       ...            ...   \n",
      "7062601          1.720000e-29   1.890000e-17   \n",
      "7062602          7.390000e-83   0.000000e+00   \n",
      "7062603          1.560000e-81   0.000000e+00   \n",
      "7062604          8.910000e-30   0.000000e+00   \n",
      "7062605          1.917443e+03   2.328946e-01   \n",
      "\n",
      "                                      Device_Name  Attack  Attack_subType  \\\n",
      "0                                Danmini_Doorbell  gafgyt           combo   \n",
      "1                                Danmini_Doorbell  gafgyt           combo   \n",
      "2                                Danmini_Doorbell  gafgyt           combo   \n",
      "3                                Danmini_Doorbell  gafgyt           combo   \n",
      "4                                Danmini_Doorbell  gafgyt           combo   \n",
      "...                                           ...     ...             ...   \n",
      "7062601  SimpleHome_XCS7_1003_WHT_Security_Camera  Normal          Normal   \n",
      "7062602  SimpleHome_XCS7_1003_WHT_Security_Camera  Normal          Normal   \n",
      "7062603  SimpleHome_XCS7_1003_WHT_Security_Camera  Normal          Normal   \n",
      "7062604  SimpleHome_XCS7_1003_WHT_Security_Camera  Normal          Normal   \n",
      "7062605  SimpleHome_XCS7_1003_WHT_Security_Camera  Normal          Normal   \n",
      "\n",
      "         label  \n",
      "0            0  \n",
      "1            0  \n",
      "2            0  \n",
      "3            0  \n",
      "4            0  \n",
      "...        ...  \n",
      "7062601      1  \n",
      "7062602      1  \n",
      "7062603      1  \n",
      "7062604      1  \n",
      "7062605      1  \n",
      "\n",
      "[7062606 rows x 27 columns]>\n"
     ]
    }
   ],
   "source": [
    "print(data.info)"
   ]
  },
  {
   "cell_type": "code",
   "execution_count": 51,
   "metadata": {},
   "outputs": [
    {
     "name": "stdout",
     "output_type": "stream",
     "text": [
      "Index(['MI_dir_L0.1_weight', 'MI_dir_L0.1_mean', 'MI_dir_L0.1_variance',\n",
      "       'H_L0.1_weight', 'H_L0.1_mean', 'H_L0.1_variance', 'HH_L0.1_weight',\n",
      "       'HH_L0.1_mean', 'HH_L0.1_std', 'HH_L0.1_magnitude', 'HH_L0.1_radius',\n",
      "       'HH_L0.1_covariance', 'HH_L0.1_pcc', 'HH_jit_L0.1_weight',\n",
      "       'HH_jit_L0.1_mean', 'HH_jit_L0.1_variance', 'HpHp_L0.1_weight',\n",
      "       'HpHp_L0.1_mean', 'HpHp_L0.1_std', 'HpHp_L0.1_magnitude',\n",
      "       'HpHp_L0.1_radius', 'HpHp_L0.1_covariance', 'HpHp_L0.1_pcc',\n",
      "       'Device_Name', 'Attack', 'Attack_subType', 'label'],\n",
      "      dtype='object')\n"
     ]
    }
   ],
   "source": [
    "print(data.columns)"
   ]
  },
  {
   "cell_type": "code",
   "execution_count": 52,
   "metadata": {},
   "outputs": [
    {
     "name": "stdout",
     "output_type": "stream",
     "text": [
      "MI_dir_L0.1_weight      0\n",
      "MI_dir_L0.1_mean        0\n",
      "MI_dir_L0.1_variance    0\n",
      "H_L0.1_weight           0\n",
      "H_L0.1_mean             0\n",
      "H_L0.1_variance         0\n",
      "HH_L0.1_weight          0\n",
      "HH_L0.1_mean            0\n",
      "HH_L0.1_std             0\n",
      "HH_L0.1_magnitude       0\n",
      "HH_L0.1_radius          0\n",
      "HH_L0.1_covariance      0\n",
      "HH_L0.1_pcc             0\n",
      "HH_jit_L0.1_weight      0\n",
      "HH_jit_L0.1_mean        0\n",
      "HH_jit_L0.1_variance    0\n",
      "HpHp_L0.1_weight        0\n",
      "HpHp_L0.1_mean          0\n",
      "HpHp_L0.1_std           0\n",
      "HpHp_L0.1_magnitude     0\n",
      "HpHp_L0.1_radius        0\n",
      "HpHp_L0.1_covariance    0\n",
      "HpHp_L0.1_pcc           0\n",
      "Device_Name             0\n",
      "Attack                  0\n",
      "Attack_subType          0\n",
      "label                   0\n",
      "dtype: int64\n"
     ]
    }
   ],
   "source": [
    "print(data.isna().sum())"
   ]
  },
  {
   "cell_type": "code",
   "execution_count": 53,
   "metadata": {},
   "outputs": [
    {
     "name": "stdout",
     "output_type": "stream",
     "text": [
      "27\n"
     ]
    }
   ],
   "source": [
    "print(len(data.columns))"
   ]
  },
  {
   "cell_type": "code",
   "execution_count": 54,
   "metadata": {},
   "outputs": [
    {
     "name": "stdout",
     "output_type": "stream",
     "text": [
      "<class 'pandas.core.frame.DataFrame'>\n",
      "RangeIndex: 7062606 entries, 0 to 7062605\n",
      "Data columns (total 27 columns):\n",
      " #   Column                Dtype  \n",
      "---  ------                -----  \n",
      " 0   MI_dir_L0.1_weight    float64\n",
      " 1   MI_dir_L0.1_mean      float64\n",
      " 2   MI_dir_L0.1_variance  float64\n",
      " 3   H_L0.1_weight         float64\n",
      " 4   H_L0.1_mean           float64\n",
      " 5   H_L0.1_variance       float64\n",
      " 6   HH_L0.1_weight        float64\n",
      " 7   HH_L0.1_mean          float64\n",
      " 8   HH_L0.1_std           float64\n",
      " 9   HH_L0.1_magnitude     float64\n",
      " 10  HH_L0.1_radius        float64\n",
      " 11  HH_L0.1_covariance    float64\n",
      " 12  HH_L0.1_pcc           float64\n",
      " 13  HH_jit_L0.1_weight    float64\n",
      " 14  HH_jit_L0.1_mean      float64\n",
      " 15  HH_jit_L0.1_variance  float64\n",
      " 16  HpHp_L0.1_weight      float64\n",
      " 17  HpHp_L0.1_mean        float64\n",
      " 18  HpHp_L0.1_std         float64\n",
      " 19  HpHp_L0.1_magnitude   float64\n",
      " 20  HpHp_L0.1_radius      float64\n",
      " 21  HpHp_L0.1_covariance  float64\n",
      " 22  HpHp_L0.1_pcc         float64\n",
      " 23  Device_Name           object \n",
      " 24  Attack                object \n",
      " 25  Attack_subType        object \n",
      " 26  label                 int64  \n",
      "dtypes: float64(23), int64(1), object(3)\n",
      "memory usage: 1.4+ GB\n",
      "None\n"
     ]
    }
   ],
   "source": [
    "print(data.info())"
   ]
  },
  {
   "cell_type": "code",
   "execution_count": 55,
   "metadata": {},
   "outputs": [
    {
     "data": {
      "text/plain": [
       "<bound method NDFrame.head of          MI_dir_L0.1_weight  MI_dir_L0.1_mean  MI_dir_L0.1_variance  \\\n",
       "0                  1.000000         98.000000          0.000000e+00   \n",
       "1                  1.931640         98.000000          1.818989e-12   \n",
       "2                  2.904273         86.981750          2.311822e+02   \n",
       "3                  3.902546         83.655268          2.040614e+02   \n",
       "4                  4.902545         81.685828          1.775746e+02   \n",
       "...                     ...               ...                   ...   \n",
       "7062601            2.937269        217.763487          1.770682e+04   \n",
       "7062602            1.730254        282.630543          1.054589e+04   \n",
       "7062603            2.730251        299.980395          7.204117e+03   \n",
       "7062604            2.882414        216.723647          1.775308e+04   \n",
       "7062605            2.032574        154.377267          1.303249e+04   \n",
       "\n",
       "         H_L0.1_weight  H_L0.1_mean  H_L0.1_variance  HH_L0.1_weight  \\\n",
       "0             1.000000    98.000000     0.000000e+00        1.000000   \n",
       "1             1.931640    98.000000     1.818989e-12        1.931640   \n",
       "2             2.904273    86.981750     2.311822e+02        1.000000   \n",
       "3             3.902546    83.655268     2.040614e+02        1.000000   \n",
       "4             4.902545    81.685828     1.775746e+02        2.000000   \n",
       "...                ...          ...              ...             ...   \n",
       "7062601       2.937269   217.763487     1.770682e+04        1.220882   \n",
       "7062602       1.730254   282.630543     1.054589e+04        1.213342   \n",
       "7062603       2.730251   299.980395     7.204117e+03        1.213352   \n",
       "7062604       2.882414   216.723647     1.775308e+04        1.209274   \n",
       "7062605       2.032574   154.377267     1.303249e+04        1.299681   \n",
       "\n",
       "         HH_L0.1_mean   HH_L0.1_std  HH_L0.1_magnitude  ...  HpHp_L0.1_mean  \\\n",
       "0           98.000000  0.000000e+00          98.000000  ...       98.000000   \n",
       "1           98.000000  1.348699e-06         138.592929  ...       98.000000   \n",
       "2           66.000000  0.000000e+00         114.856432  ...       66.000000   \n",
       "3           74.000000  0.000000e+00          74.000000  ...       74.000000   \n",
       "4           74.000000  9.536743e-07          74.000000  ...       74.000000   \n",
       "...               ...           ...                ...  ...             ...   \n",
       "7062601     60.000000  9.540000e-07          84.852814  ...       60.000000   \n",
       "7062602    330.000000  5.390000e-06         431.490440  ...      330.000000   \n",
       "7062603    330.000000  6.610000e-06         431.490440  ...      330.000000   \n",
       "7062604     60.000000  6.740000e-07          84.852814  ...       60.000000   \n",
       "7062605    145.339354  1.010891e+02         195.783485  ...      145.339354   \n",
       "\n",
       "         HpHp_L0.1_std  HpHp_L0.1_magnitude  HpHp_L0.1_radius  \\\n",
       "0         0.000000e+00            98.000000      0.000000e+00   \n",
       "1         1.348699e-06           138.592929      1.818989e-12   \n",
       "2         0.000000e+00           114.856432      0.000000e+00   \n",
       "3         0.000000e+00            74.000000      0.000000e+00   \n",
       "4         0.000000e+00            74.000000      0.000000e+00   \n",
       "...                ...                  ...               ...   \n",
       "7062601   9.540000e-07            84.852814      1.290000e-12   \n",
       "7062602   5.390000e-06           431.490440      2.910000e-11   \n",
       "7062603   6.610000e-06           431.490440      4.370000e-11   \n",
       "7062604   6.740000e-07            84.852814      4.550000e-13   \n",
       "7062605   1.010891e+02           195.783485      1.218303e+04   \n",
       "\n",
       "         HpHp_L0.1_covariance  HpHp_L0.1_pcc  \\\n",
       "0                0.000000e+00   0.000000e+00   \n",
       "1                0.000000e+00   0.000000e+00   \n",
       "2                0.000000e+00   0.000000e+00   \n",
       "3                0.000000e+00   0.000000e+00   \n",
       "4                0.000000e+00   0.000000e+00   \n",
       "...                       ...            ...   \n",
       "7062601          1.720000e-29   1.890000e-17   \n",
       "7062602          7.390000e-83   0.000000e+00   \n",
       "7062603          1.560000e-81   0.000000e+00   \n",
       "7062604          8.910000e-30   0.000000e+00   \n",
       "7062605          1.917443e+03   2.328946e-01   \n",
       "\n",
       "                                      Device_Name  Attack  Attack_subType  \\\n",
       "0                                Danmini_Doorbell  gafgyt           combo   \n",
       "1                                Danmini_Doorbell  gafgyt           combo   \n",
       "2                                Danmini_Doorbell  gafgyt           combo   \n",
       "3                                Danmini_Doorbell  gafgyt           combo   \n",
       "4                                Danmini_Doorbell  gafgyt           combo   \n",
       "...                                           ...     ...             ...   \n",
       "7062601  SimpleHome_XCS7_1003_WHT_Security_Camera  Normal          Normal   \n",
       "7062602  SimpleHome_XCS7_1003_WHT_Security_Camera  Normal          Normal   \n",
       "7062603  SimpleHome_XCS7_1003_WHT_Security_Camera  Normal          Normal   \n",
       "7062604  SimpleHome_XCS7_1003_WHT_Security_Camera  Normal          Normal   \n",
       "7062605  SimpleHome_XCS7_1003_WHT_Security_Camera  Normal          Normal   \n",
       "\n",
       "         label  \n",
       "0            0  \n",
       "1            0  \n",
       "2            0  \n",
       "3            0  \n",
       "4            0  \n",
       "...        ...  \n",
       "7062601      1  \n",
       "7062602      1  \n",
       "7062603      1  \n",
       "7062604      1  \n",
       "7062605      1  \n",
       "\n",
       "[7062606 rows x 27 columns]>"
      ]
     },
     "execution_count": 55,
     "metadata": {},
     "output_type": "execute_result"
    }
   ],
   "source": [
    "#display first 10 rows in the dataset\n",
    "data.head"
   ]
  },
  {
   "cell_type": "code",
   "execution_count": 56,
   "metadata": {},
   "outputs": [
    {
     "data": {
      "text/html": [
       "<div>\n",
       "<style scoped>\n",
       "    .dataframe tbody tr th:only-of-type {\n",
       "        vertical-align: middle;\n",
       "    }\n",
       "\n",
       "    .dataframe tbody tr th {\n",
       "        vertical-align: top;\n",
       "    }\n",
       "\n",
       "    .dataframe thead th {\n",
       "        text-align: right;\n",
       "    }\n",
       "</style>\n",
       "<table border=\"1\" class=\"dataframe\">\n",
       "  <thead>\n",
       "    <tr style=\"text-align: right;\">\n",
       "      <th></th>\n",
       "      <th>MI_dir_L0.1_weight</th>\n",
       "      <th>MI_dir_L0.1_mean</th>\n",
       "      <th>MI_dir_L0.1_variance</th>\n",
       "      <th>H_L0.1_weight</th>\n",
       "      <th>H_L0.1_mean</th>\n",
       "      <th>H_L0.1_variance</th>\n",
       "      <th>HH_L0.1_weight</th>\n",
       "      <th>HH_L0.1_mean</th>\n",
       "      <th>HH_L0.1_std</th>\n",
       "      <th>HH_L0.1_magnitude</th>\n",
       "      <th>...</th>\n",
       "      <th>HH_jit_L0.1_mean</th>\n",
       "      <th>HH_jit_L0.1_variance</th>\n",
       "      <th>HpHp_L0.1_weight</th>\n",
       "      <th>HpHp_L0.1_mean</th>\n",
       "      <th>HpHp_L0.1_std</th>\n",
       "      <th>HpHp_L0.1_magnitude</th>\n",
       "      <th>HpHp_L0.1_radius</th>\n",
       "      <th>HpHp_L0.1_covariance</th>\n",
       "      <th>HpHp_L0.1_pcc</th>\n",
       "      <th>label</th>\n",
       "    </tr>\n",
       "  </thead>\n",
       "  <tbody>\n",
       "    <tr>\n",
       "      <th>count</th>\n",
       "      <td>7.062606e+06</td>\n",
       "      <td>7.062606e+06</td>\n",
       "      <td>7.062606e+06</td>\n",
       "      <td>7.062606e+06</td>\n",
       "      <td>7.062606e+06</td>\n",
       "      <td>7.062606e+06</td>\n",
       "      <td>7.062606e+06</td>\n",
       "      <td>7.062606e+06</td>\n",
       "      <td>7.062606e+06</td>\n",
       "      <td>7.062606e+06</td>\n",
       "      <td>...</td>\n",
       "      <td>7.062606e+06</td>\n",
       "      <td>7.062606e+06</td>\n",
       "      <td>7.062606e+06</td>\n",
       "      <td>7.062606e+06</td>\n",
       "      <td>7.062606e+06</td>\n",
       "      <td>7.062606e+06</td>\n",
       "      <td>7.062606e+06</td>\n",
       "      <td>7.062606e+06</td>\n",
       "      <td>7.062606e+06</td>\n",
       "      <td>7.062606e+06</td>\n",
       "    </tr>\n",
       "    <tr>\n",
       "      <th>mean</th>\n",
       "      <td>3.400682e+03</td>\n",
       "      <td>1.794441e+02</td>\n",
       "      <td>1.931062e+04</td>\n",
       "      <td>3.400682e+03</td>\n",
       "      <td>1.794441e+02</td>\n",
       "      <td>1.931066e+04</td>\n",
       "      <td>1.892359e+03</td>\n",
       "      <td>1.792406e+02</td>\n",
       "      <td>4.415659e+00</td>\n",
       "      <td>1.865562e+02</td>\n",
       "      <td>...</td>\n",
       "      <td>7.497349e+08</td>\n",
       "      <td>1.114786e+16</td>\n",
       "      <td>1.369083e+02</td>\n",
       "      <td>1.792334e+02</td>\n",
       "      <td>1.912623e+00</td>\n",
       "      <td>1.842961e+02</td>\n",
       "      <td>9.254144e+02</td>\n",
       "      <td>9.101316e+01</td>\n",
       "      <td>1.845142e-03</td>\n",
       "      <td>7.871485e-02</td>\n",
       "    </tr>\n",
       "    <tr>\n",
       "      <th>std</th>\n",
       "      <td>2.897012e+03</td>\n",
       "      <td>1.537109e+02</td>\n",
       "      <td>2.636844e+04</td>\n",
       "      <td>2.897012e+03</td>\n",
       "      <td>1.537107e+02</td>\n",
       "      <td>2.636842e+04</td>\n",
       "      <td>2.523083e+03</td>\n",
       "      <td>2.059018e+02</td>\n",
       "      <td>2.243629e+01</td>\n",
       "      <td>2.067658e+02</td>\n",
       "      <td>...</td>\n",
       "      <td>7.459028e+08</td>\n",
       "      <td>7.282259e+16</td>\n",
       "      <td>6.510637e+02</td>\n",
       "      <td>2.061473e+02</td>\n",
       "      <td>2.013019e+01</td>\n",
       "      <td>2.077680e+02</td>\n",
       "      <td>1.463365e+04</td>\n",
       "      <td>1.976009e+03</td>\n",
       "      <td>5.208508e-02</td>\n",
       "      <td>2.692932e-01</td>\n",
       "    </tr>\n",
       "    <tr>\n",
       "      <th>min</th>\n",
       "      <td>1.000000e+00</td>\n",
       "      <td>6.000000e+01</td>\n",
       "      <td>0.000000e+00</td>\n",
       "      <td>1.000000e+00</td>\n",
       "      <td>6.000000e+01</td>\n",
       "      <td>0.000000e+00</td>\n",
       "      <td>1.000000e+00</td>\n",
       "      <td>6.000000e+01</td>\n",
       "      <td>0.000000e+00</td>\n",
       "      <td>6.000000e+01</td>\n",
       "      <td>...</td>\n",
       "      <td>2.484468e-03</td>\n",
       "      <td>0.000000e+00</td>\n",
       "      <td>1.000000e+00</td>\n",
       "      <td>6.000000e+01</td>\n",
       "      <td>0.000000e+00</td>\n",
       "      <td>6.000000e+01</td>\n",
       "      <td>0.000000e+00</td>\n",
       "      <td>-1.312975e+05</td>\n",
       "      <td>-1.586467e+00</td>\n",
       "      <td>0.000000e+00</td>\n",
       "    </tr>\n",
       "    <tr>\n",
       "      <th>25%</th>\n",
       "      <td>1.000000e+00</td>\n",
       "      <td>6.000000e+01</td>\n",
       "      <td>0.000000e+00</td>\n",
       "      <td>1.000000e+00</td>\n",
       "      <td>6.000000e+01</td>\n",
       "      <td>0.000000e+00</td>\n",
       "      <td>1.000000e+00</td>\n",
       "      <td>6.000000e+01</td>\n",
       "      <td>0.000000e+00</td>\n",
       "      <td>6.000000e+01</td>\n",
       "      <td>...</td>\n",
       "      <td>4.041758e+01</td>\n",
       "      <td>0.000000e+00</td>\n",
       "      <td>1.000000e+00</td>\n",
       "      <td>6.000000e+01</td>\n",
       "      <td>0.000000e+00</td>\n",
       "      <td>6.000000e+01</td>\n",
       "      <td>0.000000e+00</td>\n",
       "      <td>0.000000e+00</td>\n",
       "      <td>0.000000e+00</td>\n",
       "      <td>0.000000e+00</td>\n",
       "    </tr>\n",
       "    <tr>\n",
       "      <th>50%</th>\n",
       "      <td>3.644882e+03</td>\n",
       "      <td>7.412707e+01</td>\n",
       "      <td>9.807711e+01</td>\n",
       "      <td>3.644882e+03</td>\n",
       "      <td>7.412707e+01</td>\n",
       "      <td>9.810144e+01</td>\n",
       "      <td>1.071281e+00</td>\n",
       "      <td>7.020764e+01</td>\n",
       "      <td>0.000000e+00</td>\n",
       "      <td>7.399665e+01</td>\n",
       "      <td>...</td>\n",
       "      <td>6.745729e+08</td>\n",
       "      <td>1.501619e-03</td>\n",
       "      <td>1.000000e+00</td>\n",
       "      <td>6.600001e+01</td>\n",
       "      <td>0.000000e+00</td>\n",
       "      <td>7.400000e+01</td>\n",
       "      <td>0.000000e+00</td>\n",
       "      <td>0.000000e+00</td>\n",
       "      <td>0.000000e+00</td>\n",
       "      <td>0.000000e+00</td>\n",
       "    </tr>\n",
       "    <tr>\n",
       "      <th>75%</th>\n",
       "      <td>6.354692e+03</td>\n",
       "      <td>3.486463e+02</td>\n",
       "      <td>4.887076e+04</td>\n",
       "      <td>6.354692e+03</td>\n",
       "      <td>3.486463e+02</td>\n",
       "      <td>4.887076e+04</td>\n",
       "      <td>4.201684e+03</td>\n",
       "      <td>9.314709e+01</td>\n",
       "      <td>3.293467e+00</td>\n",
       "      <td>1.344109e+02</td>\n",
       "      <td>...</td>\n",
       "      <td>1.505914e+09</td>\n",
       "      <td>6.062294e+10</td>\n",
       "      <td>1.000000e+00</td>\n",
       "      <td>9.800000e+01</td>\n",
       "      <td>0.000000e+00</td>\n",
       "      <td>1.370625e+02</td>\n",
       "      <td>0.000000e+00</td>\n",
       "      <td>0.000000e+00</td>\n",
       "      <td>0.000000e+00</td>\n",
       "      <td>0.000000e+00</td>\n",
       "    </tr>\n",
       "    <tr>\n",
       "      <th>max</th>\n",
       "      <td>8.946997e+03</td>\n",
       "      <td>1.401994e+03</td>\n",
       "      <td>4.520011e+05</td>\n",
       "      <td>8.946997e+03</td>\n",
       "      <td>1.401994e+03</td>\n",
       "      <td>4.520011e+05</td>\n",
       "      <td>7.944987e+03</td>\n",
       "      <td>1.470000e+03</td>\n",
       "      <td>6.784580e+02</td>\n",
       "      <td>1.470000e+03</td>\n",
       "      <td>...</td>\n",
       "      <td>1.534253e+09</td>\n",
       "      <td>5.880000e+17</td>\n",
       "      <td>4.594455e+03</td>\n",
       "      <td>1.470000e+03</td>\n",
       "      <td>6.863705e+02</td>\n",
       "      <td>1.470000e+03</td>\n",
       "      <td>5.014297e+05</td>\n",
       "      <td>1.406094e+05</td>\n",
       "      <td>2.760701e+00</td>\n",
       "      <td>1.000000e+00</td>\n",
       "    </tr>\n",
       "  </tbody>\n",
       "</table>\n",
       "<p>8 rows × 24 columns</p>\n",
       "</div>"
      ],
      "text/plain": [
       "       MI_dir_L0.1_weight  MI_dir_L0.1_mean  MI_dir_L0.1_variance  \\\n",
       "count        7.062606e+06      7.062606e+06          7.062606e+06   \n",
       "mean         3.400682e+03      1.794441e+02          1.931062e+04   \n",
       "std          2.897012e+03      1.537109e+02          2.636844e+04   \n",
       "min          1.000000e+00      6.000000e+01          0.000000e+00   \n",
       "25%          1.000000e+00      6.000000e+01          0.000000e+00   \n",
       "50%          3.644882e+03      7.412707e+01          9.807711e+01   \n",
       "75%          6.354692e+03      3.486463e+02          4.887076e+04   \n",
       "max          8.946997e+03      1.401994e+03          4.520011e+05   \n",
       "\n",
       "       H_L0.1_weight   H_L0.1_mean  H_L0.1_variance  HH_L0.1_weight  \\\n",
       "count   7.062606e+06  7.062606e+06     7.062606e+06    7.062606e+06   \n",
       "mean    3.400682e+03  1.794441e+02     1.931066e+04    1.892359e+03   \n",
       "std     2.897012e+03  1.537107e+02     2.636842e+04    2.523083e+03   \n",
       "min     1.000000e+00  6.000000e+01     0.000000e+00    1.000000e+00   \n",
       "25%     1.000000e+00  6.000000e+01     0.000000e+00    1.000000e+00   \n",
       "50%     3.644882e+03  7.412707e+01     9.810144e+01    1.071281e+00   \n",
       "75%     6.354692e+03  3.486463e+02     4.887076e+04    4.201684e+03   \n",
       "max     8.946997e+03  1.401994e+03     4.520011e+05    7.944987e+03   \n",
       "\n",
       "       HH_L0.1_mean   HH_L0.1_std  HH_L0.1_magnitude  ...  HH_jit_L0.1_mean  \\\n",
       "count  7.062606e+06  7.062606e+06       7.062606e+06  ...      7.062606e+06   \n",
       "mean   1.792406e+02  4.415659e+00       1.865562e+02  ...      7.497349e+08   \n",
       "std    2.059018e+02  2.243629e+01       2.067658e+02  ...      7.459028e+08   \n",
       "min    6.000000e+01  0.000000e+00       6.000000e+01  ...      2.484468e-03   \n",
       "25%    6.000000e+01  0.000000e+00       6.000000e+01  ...      4.041758e+01   \n",
       "50%    7.020764e+01  0.000000e+00       7.399665e+01  ...      6.745729e+08   \n",
       "75%    9.314709e+01  3.293467e+00       1.344109e+02  ...      1.505914e+09   \n",
       "max    1.470000e+03  6.784580e+02       1.470000e+03  ...      1.534253e+09   \n",
       "\n",
       "       HH_jit_L0.1_variance  HpHp_L0.1_weight  HpHp_L0.1_mean  HpHp_L0.1_std  \\\n",
       "count          7.062606e+06      7.062606e+06    7.062606e+06   7.062606e+06   \n",
       "mean           1.114786e+16      1.369083e+02    1.792334e+02   1.912623e+00   \n",
       "std            7.282259e+16      6.510637e+02    2.061473e+02   2.013019e+01   \n",
       "min            0.000000e+00      1.000000e+00    6.000000e+01   0.000000e+00   \n",
       "25%            0.000000e+00      1.000000e+00    6.000000e+01   0.000000e+00   \n",
       "50%            1.501619e-03      1.000000e+00    6.600001e+01   0.000000e+00   \n",
       "75%            6.062294e+10      1.000000e+00    9.800000e+01   0.000000e+00   \n",
       "max            5.880000e+17      4.594455e+03    1.470000e+03   6.863705e+02   \n",
       "\n",
       "       HpHp_L0.1_magnitude  HpHp_L0.1_radius  HpHp_L0.1_covariance  \\\n",
       "count         7.062606e+06      7.062606e+06          7.062606e+06   \n",
       "mean          1.842961e+02      9.254144e+02          9.101316e+01   \n",
       "std           2.077680e+02      1.463365e+04          1.976009e+03   \n",
       "min           6.000000e+01      0.000000e+00         -1.312975e+05   \n",
       "25%           6.000000e+01      0.000000e+00          0.000000e+00   \n",
       "50%           7.400000e+01      0.000000e+00          0.000000e+00   \n",
       "75%           1.370625e+02      0.000000e+00          0.000000e+00   \n",
       "max           1.470000e+03      5.014297e+05          1.406094e+05   \n",
       "\n",
       "       HpHp_L0.1_pcc         label  \n",
       "count   7.062606e+06  7.062606e+06  \n",
       "mean    1.845142e-03  7.871485e-02  \n",
       "std     5.208508e-02  2.692932e-01  \n",
       "min    -1.586467e+00  0.000000e+00  \n",
       "25%     0.000000e+00  0.000000e+00  \n",
       "50%     0.000000e+00  0.000000e+00  \n",
       "75%     0.000000e+00  0.000000e+00  \n",
       "max     2.760701e+00  1.000000e+00  \n",
       "\n",
       "[8 rows x 24 columns]"
      ]
     },
     "execution_count": 56,
     "metadata": {},
     "output_type": "execute_result"
    }
   ],
   "source": [
    "data.describe()"
   ]
  },
  {
   "cell_type": "code",
   "execution_count": 57,
   "metadata": {},
   "outputs": [
    {
     "data": {
      "image/png": "[encoded data removed]",
      "text/plain": [
       "<Figure size 1000x600 with 1 Axes>"
      ]
     },
     "metadata": {},
     "output_type": "display_data"
    }
   ],
   "source": [
    "plt.figure(figsize=(10, 6))\n",
    "sn.countplot(y=data['Attack'])\n",
    "plt.title('Distribution of Labels')\n",
    "plt.show()"
   ]
  },
  {
   "cell_type": "code",
   "execution_count": 58,
   "metadata": {},
   "outputs": [
    {
     "data": {
      "image/png": "[encoded data removed]",
      "text/plain": [
       "<Figure size 1000x600 with 1 Axes>"
      ]
     },
     "metadata": {},
     "output_type": "display_data"
    }
   ],
   "source": [
    "plt.figure(figsize=(10, 6))\n",
    "sn.countplot(y=data['Device_Name'])\n",
    "plt.title('Distribution of Labels')\n",
    "plt.show()"
   ]
  },
  {
   "cell_type": "code",
   "execution_count": 59,
   "metadata": {},
   "outputs": [
    {
     "data": {
      "image/png": "[encoded data removed]",
      "text/plain": [
       "<Figure size 1000x600 with 1 Axes>"
      ]
     },
     "metadata": {},
     "output_type": "display_data"
    }
   ],
   "source": [
    "plt.figure(figsize=(10, 6))\n",
    "sn.countplot(y=data['Attack_subType'])\n",
    "plt.title('Distribution of Labels')\n",
    "plt.show()"
   ]
  },
  {
   "cell_type": "code",
   "execution_count": 60,
   "metadata": {},
   "outputs": [
    {
     "data": {
      "text/plain": [
       "(7062606, 27)"
      ]
     },
     "execution_count": 60,
     "metadata": {},
     "output_type": "execute_result"
    }
   ],
   "source": [
    "data.shape"
   ]
  },
  {
   "cell_type": "code",
   "execution_count": 61,
   "metadata": {},
   "outputs": [],
   "source": [
    "# Remove duplicates\n",
    "data.drop_duplicates(inplace=True)"
   ]
  },
  {
   "cell_type": "code",
   "execution_count": 62,
   "metadata": {},
   "outputs": [
    {
     "data": {
      "text/plain": [
       "(6440947, 27)"
      ]
     },
     "execution_count": 62,
     "metadata": {},
     "output_type": "execute_result"
    }
   ],
   "source": [
    "data.shape"
   ]
  },
  {
   "cell_type": "code",
   "execution_count": 63,
   "metadata": {},
   "outputs": [],
   "source": [
    "#drop null values\n",
    "data.dropna(inplace=True)"
   ]
  },
  {
   "cell_type": "code",
   "execution_count": 64,
   "metadata": {},
   "outputs": [
    {
     "data": {
      "text/plain": [
       "(6440947, 27)"
      ]
     },
     "execution_count": 64,
     "metadata": {},
     "output_type": "execute_result"
    }
   ],
   "source": [
    "data.shape"
   ]
  },
  {
   "cell_type": "code",
   "execution_count": 65,
   "metadata": {},
   "outputs": [],
   "source": [
    "# Encoding categorical or object fetaures  using Label Encoding\n",
    "from sklearn.preprocessing import LabelEncoder\n",
    "\n",
    "label_encoder = LabelEncoder()\n",
    "\n",
    "data['Device_Name'] = label_encoder.fit_transform(data['Device_Name'])\n",
    "data['Attack'] = label_encoder.fit_transform(data['Attack'])\n",
    "data['Attack_subType'] = label_encoder.fit_transform(data['Attack_subType'])"
   ]
  },
  {
   "cell_type": "code",
   "execution_count": 66,
   "metadata": {},
   "outputs": [
    {
     "data": {
      "text/plain": [
       "<bound method NDFrame.describe of          MI_dir_L0.1_weight  MI_dir_L0.1_mean  MI_dir_L0.1_variance  \\\n",
       "0                  1.000000         98.000000          0.000000e+00   \n",
       "1                  1.931640         98.000000          1.818989e-12   \n",
       "2                  2.904273         86.981750          2.311822e+02   \n",
       "3                  3.902546         83.655268          2.040614e+02   \n",
       "4                  4.902545         81.685828          1.775746e+02   \n",
       "...                     ...               ...                   ...   \n",
       "7062071            2.801727        294.039965          8.416085e+03   \n",
       "7062072            2.979945        215.501627          1.780468e+04   \n",
       "7062073            1.743927        281.157093          1.080196e+04   \n",
       "7062074            2.743925        298.957472          7.417844e+03   \n",
       "7062075            2.898497        216.515613          1.776208e+04   \n",
       "\n",
       "         H_L0.1_weight  H_L0.1_mean  H_L0.1_variance  HH_L0.1_weight  \\\n",
       "0             1.000000    98.000000     0.000000e+00        1.000000   \n",
       "1             1.931640    98.000000     1.818989e-12        1.931640   \n",
       "2             2.904273    86.981750     2.311822e+02        1.000000   \n",
       "3             3.902546    83.655268     2.040614e+02        1.000000   \n",
       "4             4.902545    81.685828     1.775746e+02        2.000000   \n",
       "...                ...          ...              ...             ...   \n",
       "7062071       2.801727   294.039965     8.416085e+03        1.214290   \n",
       "7062072       2.979945   215.501627     1.780468e+04        1.252204   \n",
       "7062073       1.743927   281.157093     1.080196e+04        1.214226   \n",
       "7062074       2.743925   298.957472     7.417844e+03        1.214226   \n",
       "7062075       2.898497   216.515613     1.776208e+04        1.216289   \n",
       "\n",
       "         HH_L0.1_mean   HH_L0.1_std  HH_L0.1_magnitude  ...  HpHp_L0.1_mean  \\\n",
       "0                98.0  0.000000e+00          98.000000  ...            98.0   \n",
       "1                98.0  1.348699e-06         138.592929  ...            98.0   \n",
       "2                66.0  0.000000e+00         114.856432  ...            66.0   \n",
       "3                74.0  0.000000e+00          74.000000  ...            74.0   \n",
       "4                74.0  9.536743e-07          74.000000  ...            74.0   \n",
       "...               ...           ...                ...  ...             ...   \n",
       "7062071         330.0  3.810000e-06         431.490440  ...           330.0   \n",
       "7062072          60.0  0.000000e+00          84.852814  ...            60.0   \n",
       "7062073         330.0  0.000000e+00         431.490440  ...           330.0   \n",
       "7062074         330.0  6.610000e-06         431.490440  ...           330.0   \n",
       "7062075          60.0  6.740000e-07          84.852814  ...            60.0   \n",
       "\n",
       "         HpHp_L0.1_std  HpHp_L0.1_magnitude  HpHp_L0.1_radius  \\\n",
       "0         0.000000e+00            98.000000      0.000000e+00   \n",
       "1         1.348699e-06           138.592929      1.818989e-12   \n",
       "2         0.000000e+00           114.856432      0.000000e+00   \n",
       "3         0.000000e+00            74.000000      0.000000e+00   \n",
       "4         0.000000e+00            74.000000      0.000000e+00   \n",
       "...                ...                  ...               ...   \n",
       "7062071   3.810000e-06           431.490440      2.060000e-11   \n",
       "7062072   0.000000e+00            84.852814      0.000000e+00   \n",
       "7062073   0.000000e+00           431.490440      2.910000e-11   \n",
       "7062074   6.610000e-06           431.490440      4.370000e-11   \n",
       "7062075   9.540000e-07            84.852814      9.090000e-13   \n",
       "\n",
       "         HpHp_L0.1_covariance  HpHp_L0.1_pcc  Device_Name  Attack  \\\n",
       "0                0.000000e+00   0.000000e+00            0       1   \n",
       "1                0.000000e+00   0.000000e+00            0       1   \n",
       "2                0.000000e+00   0.000000e+00            0       1   \n",
       "3                0.000000e+00   0.000000e+00            0       1   \n",
       "4                0.000000e+00   0.000000e+00            0       1   \n",
       "...                       ...            ...          ...     ...   \n",
       "7062071         -8.860000e-49  -6.090000e-38            8       0   \n",
       "7062072         -1.110000e-32   0.000000e+00            8       0   \n",
       "7062073         -1.430000e-28   0.000000e+00            8       0   \n",
       "7062074         -5.120000e-51   0.000000e+00            8       0   \n",
       "7062075         -6.450000e-36   0.000000e+00            8       0   \n",
       "\n",
       "         Attack_subType  label  \n",
       "0                     2      0  \n",
       "1                     2      0  \n",
       "2                     2      0  \n",
       "3                     2      0  \n",
       "4                     2      0  \n",
       "...                 ...    ...  \n",
       "7062071               0      1  \n",
       "7062072               0      1  \n",
       "7062073               0      1  \n",
       "7062074               0      1  \n",
       "7062075               0      1  \n",
       "\n",
       "[6440947 rows x 27 columns]>"
      ]
     },
     "execution_count": 66,
     "metadata": {},
     "output_type": "execute_result"
    }
   ],
   "source": [
    "data.describe"
   ]
  },
  {
   "cell_type": "code",
   "execution_count": 67,
   "metadata": {},
   "outputs": [
    {
     "data": {
      "text/plain": [
       "(6440947, 27)"
      ]
     },
     "execution_count": 67,
     "metadata": {},
     "output_type": "execute_result"
    }
   ],
   "source": [
    "data.shape"
   ]
  },
  {
   "cell_type": "code",
   "execution_count": 68,
   "metadata": {},
   "outputs": [],
   "source": [
    "# Checking data for outliers\n",
    "\n",
    "# Initializing the variables\n",
    "x={}\n",
    "X=[]\n",
    "\n",
    "# Calculating z-scores\n",
    "for i in data.columns.values:\n",
    "    data['z-scores']=(data[i]-data[i].mean())/(data[i].std())\n",
    "    outliers=np.abs(data['z-scores'] > 3).sum()\n",
    "    x[i]=outliers"
   ]
  },
  {
   "cell_type": "code",
   "execution_count": 69,
   "metadata": {},
   "outputs": [
    {
     "name": "stdout",
     "output_type": "stream",
     "text": [
      "{'MI_dir_L0.1_weight': 0, 'MI_dir_L0.1_mean': 887, 'MI_dir_L0.1_variance': 3942, 'H_L0.1_weight': 0, 'H_L0.1_mean': 887, 'H_L0.1_variance': 3942, 'HH_L0.1_weight': 0, 'HH_L0.1_mean': 1710, 'HH_L0.1_std': 60693, 'HH_L0.1_magnitude': 4859, 'HH_L0.1_radius': 51883, 'HH_L0.1_covariance': 6028, 'HH_L0.1_pcc': 74196, 'HH_jit_L0.1_weight': 0, 'HH_jit_L0.1_mean': 0, 'HH_jit_L0.1_variance': 153912, 'HpHp_L0.1_weight': 259771, 'HpHp_L0.1_mean': 2252, 'HpHp_L0.1_std': 46167, 'HpHp_L0.1_magnitude': 5931, 'HpHp_L0.1_radius': 33654, 'HpHp_L0.1_covariance': 22512, 'HpHp_L0.1_pcc': 33883, 'Device_Name': 0, 'Attack': 0, 'Attack_subType': 0, 'label': 513500}\n"
     ]
    }
   ],
   "source": [
    "for keys,values in x.items():\n",
    "    if values>0:\n",
    "        X.append(keys)\n",
    "print(x)"
   ]
  },
  {
   "cell_type": "code",
   "execution_count": 70,
   "metadata": {},
   "outputs": [
    {
     "name": "stdout",
     "output_type": "stream",
     "text": [
      "5465378\n"
     ]
    }
   ],
   "source": [
    "# Removing the outliers based on threshold criteria \n",
    "x=[]\n",
    "\n",
    "# if the data is less than or greater than the 2 standard deviation from mean then it is dropped\n",
    "thresh=2\n",
    "for i in data[X].columns.values:\n",
    "    upper=data[i].mean()+thresh*data[i].std()\n",
    "    lower=data[i].mean()-thresh*data[i].std()\n",
    "    data=data[(data[i]>lower)&(data[i]<upper)]\n",
    "\n",
    "print(len(data))"
   ]
  },
  {
   "cell_type": "code",
   "execution_count": 71,
   "metadata": {},
   "outputs": [
    {
     "data": {
      "text/plain": [
       "<bound method NDFrame.describe of          MI_dir_L0.1_weight  MI_dir_L0.1_mean  MI_dir_L0.1_variance  \\\n",
       "0                  1.000000         98.000000              0.000000   \n",
       "2                  2.904273         86.981750            231.182163   \n",
       "3                  3.902546         83.655268            204.061435   \n",
       "6                613.818538         74.095096              2.659110   \n",
       "7                614.778927         74.094941              2.654800   \n",
       "...                     ...               ...                   ...   \n",
       "6506669         5075.565056        391.477163          53804.160854   \n",
       "6506670         5076.183675        391.411862          53815.202870   \n",
       "6506671         5077.182249        391.346588          53826.232017   \n",
       "6506672         5078.181913        391.281339          53837.248304   \n",
       "6506673         5079.181578        391.216115          53848.251744   \n",
       "\n",
       "         H_L0.1_weight  H_L0.1_mean  H_L0.1_variance  HH_L0.1_weight  \\\n",
       "0             1.000000    98.000000         0.000000        1.000000   \n",
       "2             2.904273    86.981750       231.182163        1.000000   \n",
       "3             3.902546    83.655268       204.061435        1.000000   \n",
       "6           613.818538    74.095096         2.659110      610.152839   \n",
       "7           614.778927    74.094941         2.654800      611.113465   \n",
       "...                ...          ...              ...             ...   \n",
       "6506669    5075.565056   391.477163     53804.160854        1.000000   \n",
       "6506670    5076.183675   391.411862     53815.202870        1.000000   \n",
       "6506671    5077.182249   391.346588     53826.232017        1.000000   \n",
       "6506672    5078.181913   391.281339     53837.248304        1.000000   \n",
       "6506673    5079.181578   391.216115     53848.251744        1.000000   \n",
       "\n",
       "         HH_L0.1_mean  HH_L0.1_std  HH_L0.1_magnitude  ...  HpHp_L0.1_std  \\\n",
       "0                98.0     0.000000          98.000000  ...            0.0   \n",
       "2                66.0     0.000000         114.856432  ...            0.0   \n",
       "3                74.0     0.000000          74.000000  ...            0.0   \n",
       "6                74.0     0.000004          95.268043  ...            0.0   \n",
       "7                74.0     0.000004          95.268043  ...            0.0   \n",
       "...               ...          ...                ...  ...            ...   \n",
       "6506669          60.0     0.000000          60.000000  ...            0.0   \n",
       "6506670          60.0     0.000000          60.000000  ...            0.0   \n",
       "6506671          60.0     0.000000          60.000000  ...            0.0   \n",
       "6506672          60.0     0.000000          60.000000  ...            0.0   \n",
       "6506673          60.0     0.000000          60.000000  ...            0.0   \n",
       "\n",
       "         HpHp_L0.1_magnitude  HpHp_L0.1_radius  HpHp_L0.1_covariance  \\\n",
       "0                  98.000000               0.0                   0.0   \n",
       "2                 114.856432               0.0                   0.0   \n",
       "3                  74.000000               0.0                   0.0   \n",
       "6                  74.000000               0.0                   0.0   \n",
       "7                  74.000000               0.0                   0.0   \n",
       "...                      ...               ...                   ...   \n",
       "6506669            60.000000               0.0                   0.0   \n",
       "6506670            60.000000               0.0                   0.0   \n",
       "6506671            60.000000               0.0                   0.0   \n",
       "6506672            60.000000               0.0                   0.0   \n",
       "6506673            60.000000               0.0                   0.0   \n",
       "\n",
       "         HpHp_L0.1_pcc  Device_Name  Attack  Attack_subType  label  z-scores  \n",
       "0                  0.0            0       1               2      0 -0.294331  \n",
       "2                  0.0            0       1               2      0 -0.294331  \n",
       "3                  0.0            0       1               2      0 -0.294331  \n",
       "6                  0.0            0       1               2      0 -0.294331  \n",
       "7                  0.0            0       1               2      0 -0.294331  \n",
       "...                ...          ...     ...             ...    ...       ...  \n",
       "6506669            0.0            8       2               8      0 -0.294331  \n",
       "6506670            0.0            8       2               8      0 -0.294331  \n",
       "6506671            0.0            8       2               8      0 -0.294331  \n",
       "6506672            0.0            8       2               8      0 -0.294331  \n",
       "6506673            0.0            8       2               8      0 -0.294331  \n",
       "\n",
       "[5465378 rows x 28 columns]>"
      ]
     },
     "execution_count": 71,
     "metadata": {},
     "output_type": "execute_result"
    }
   ],
   "source": [
    "data.describe"
   ]
  },
  {
   "cell_type": "code",
   "execution_count": 72,
   "metadata": {},
   "outputs": [],
   "source": [
    "# Scaling dataset\n",
    "\n",
    "from sklearn.preprocessing import MinMaxScaler\n",
    "scaler = MinMaxScaler()\n",
    "res_data = pd.DataFrame(scaler.fit_transform(data), columns=data.columns)"
   ]
  },
  {
   "cell_type": "code",
   "execution_count": 73,
   "metadata": {},
   "outputs": [
    {
     "name": "stdout",
     "output_type": "stream",
     "text": [
      "MI_dir_L0.1_weight      0\n",
      "MI_dir_L0.1_mean        0\n",
      "MI_dir_L0.1_variance    0\n",
      "H_L0.1_weight           0\n",
      "H_L0.1_mean             0\n",
      "H_L0.1_variance         0\n",
      "HH_L0.1_weight          0\n",
      "HH_L0.1_mean            0\n",
      "HH_L0.1_std             0\n",
      "HH_L0.1_magnitude       0\n",
      "HH_L0.1_radius          0\n",
      "HH_L0.1_covariance      0\n",
      "HH_L0.1_pcc             0\n",
      "HH_jit_L0.1_weight      0\n",
      "HH_jit_L0.1_mean        0\n",
      "HH_jit_L0.1_variance    0\n",
      "HpHp_L0.1_weight        0\n",
      "HpHp_L0.1_mean          0\n",
      "HpHp_L0.1_std           0\n",
      "HpHp_L0.1_magnitude     0\n",
      "HpHp_L0.1_radius        0\n",
      "HpHp_L0.1_covariance    0\n",
      "HpHp_L0.1_pcc           0\n",
      "Device_Name             0\n",
      "Attack                  0\n",
      "Attack_subType          0\n",
      "label                   0\n",
      "z-scores                0\n",
      "dtype: int64\n"
     ]
    }
   ],
   "source": [
    "print(res_data.isna().sum())"
   ]
  },
  {
   "cell_type": "code",
   "execution_count": 74,
   "metadata": {},
   "outputs": [],
   "source": [
    "# dropping z-scores and label columns as they are not required\n",
    "\n",
    "res_data.drop(['z-scores', 'label'], axis=1, inplace=True)"
   ]
  },
  {
   "cell_type": "code",
   "execution_count": 75,
   "metadata": {},
   "outputs": [
    {
     "name": "stdout",
     "output_type": "stream",
     "text": [
      "<class 'pandas.core.frame.DataFrame'>\n",
      "RangeIndex: 5465378 entries, 0 to 5465377\n",
      "Data columns (total 26 columns):\n",
      " #   Column                Dtype  \n",
      "---  ------                -----  \n",
      " 0   MI_dir_L0.1_weight    float64\n",
      " 1   MI_dir_L0.1_mean      float64\n",
      " 2   MI_dir_L0.1_variance  float64\n",
      " 3   H_L0.1_weight         float64\n",
      " 4   H_L0.1_mean           float64\n",
      " 5   H_L0.1_variance       float64\n",
      " 6   HH_L0.1_weight        float64\n",
      " 7   HH_L0.1_mean          float64\n",
      " 8   HH_L0.1_std           float64\n",
      " 9   HH_L0.1_magnitude     float64\n",
      " 10  HH_L0.1_radius        float64\n",
      " 11  HH_L0.1_covariance    float64\n",
      " 12  HH_L0.1_pcc           float64\n",
      " 13  HH_jit_L0.1_weight    float64\n",
      " 14  HH_jit_L0.1_mean      float64\n",
      " 15  HH_jit_L0.1_variance  float64\n",
      " 16  HpHp_L0.1_weight      float64\n",
      " 17  HpHp_L0.1_mean        float64\n",
      " 18  HpHp_L0.1_std         float64\n",
      " 19  HpHp_L0.1_magnitude   float64\n",
      " 20  HpHp_L0.1_radius      float64\n",
      " 21  HpHp_L0.1_covariance  float64\n",
      " 22  HpHp_L0.1_pcc         float64\n",
      " 23  Device_Name           float64\n",
      " 24  Attack                float64\n",
      " 25  Attack_subType        float64\n",
      "dtypes: float64(26)\n",
      "memory usage: 1.1 GB\n"
     ]
    }
   ],
   "source": [
    "res_data.info()"
   ]
  },
  {
   "cell_type": "code",
   "execution_count": 76,
   "metadata": {},
   "outputs": [],
   "source": [
    "# Spliting data into features and target feature \n",
    "X = res_data.drop(['Attack','Attack_subType'], axis=1)\n",
    "y_attack = res_data['Attack']\n",
    "y_subAttack = res_data['Attack_subType']"
   ]
  },
  {
   "cell_type": "code",
   "execution_count": 77,
   "metadata": {},
   "outputs": [
    {
     "name": "stdout",
     "output_type": "stream",
     "text": [
      "Selected Features for Attack: Index(['MI_dir_L0.1_weight', 'MI_dir_L0.1_mean', 'MI_dir_L0.1_variance',\n",
      "       'H_L0.1_weight', 'H_L0.1_mean', 'H_L0.1_variance', 'HH_L0.1_mean',\n",
      "       'HH_L0.1_magnitude', 'HpHp_L0.1_mean', 'HpHp_L0.1_magnitude'],\n",
      "      dtype='object')\n",
      "Selected Features for SubAttackType: Index(['MI_dir_L0.1_weight', 'MI_dir_L0.1_mean', 'MI_dir_L0.1_variance',\n",
      "       'H_L0.1_weight', 'H_L0.1_mean', 'H_L0.1_variance', 'HH_L0.1_weight',\n",
      "       'HH_L0.1_mean', 'HH_jit_L0.1_weight', 'HH_jit_L0.1_mean'],\n",
      "      dtype='object')\n"
     ]
    }
   ],
   "source": [
    "\n",
    "from sklearn.feature_selection import SelectKBest, f_classif\n",
    "\n",
    "selector = SelectKBest(f_classif, k=10)\n",
    "X_new1 = selector.fit_transform(X, y_attack)\n",
    "selected_features_attack = X.columns[selector.get_support()]\n",
    "print(\"Selected Features for Attack:\", selected_features_attack)\n",
    "\n",
    "selector = SelectKBest(f_classif, k=10)\n",
    "X_new2 = selector.fit_transform(X, y_subAttack)\n",
    "selected_features_sub = X.columns[selector.get_support()]\n",
    "print(\"Selected Features for SubAttackType:\", selected_features_sub)\n",
    "\n"
   ]
  },
  {
   "cell_type": "code",
   "execution_count": 78,
   "metadata": {},
   "outputs": [
    {
     "name": "stdout",
     "output_type": "stream",
     "text": [
      "['MI_dir_L0.1_mean', 'HH_L0.1_magnitude', 'HpHp_L0.1_mean', 'HH_L0.1_mean', 'H_L0.1_weight', 'HH_jit_L0.1_mean', 'H_L0.1_mean', 'MI_dir_L0.1_weight', 'H_L0.1_variance', 'HpHp_L0.1_magnitude', 'HH_L0.1_weight', 'MI_dir_L0.1_variance', 'HH_jit_L0.1_weight']\n"
     ]
    }
   ],
   "source": [
    "# Combining selected fetaures without any dupliacation\n",
    "\n",
    "all_selected_features = list(set(selected_features_attack) | set(selected_features_sub))\n",
    "print(all_selected_features)"
   ]
  },
  {
   "cell_type": "code",
   "execution_count": 79,
   "metadata": {},
   "outputs": [
    {
     "name": "stdout",
     "output_type": "stream",
     "text": [
      "         MI_dir_L0.1_weight  MI_dir_L0.1_mean  MI_dir_L0.1_variance  \\\n",
      "0                  0.000000          0.097308              0.000000   \n",
      "1                  0.000213          0.069093              0.003262   \n",
      "2                  0.000324          0.060575              0.002880   \n",
      "3                  0.068502          0.036094              0.000038   \n",
      "4                  0.068609          0.036093              0.000037   \n",
      "...                     ...               ...                   ...   \n",
      "5465373            0.567244          0.848825              0.759266   \n",
      "5465374            0.567313          0.848658              0.759422   \n",
      "5465375            0.567425          0.848490              0.759578   \n",
      "5465376            0.567537          0.848323              0.759733   \n",
      "5465377            0.567648          0.848156              0.759888   \n",
      "\n",
      "         H_L0.1_weight  H_L0.1_mean  H_L0.1_variance  HH_L0.1_mean  \\\n",
      "0             0.000000     0.097308         0.000000      0.075099   \n",
      "1             0.000213     0.069093         0.003262      0.011858   \n",
      "2             0.000324     0.060575         0.002880      0.027668   \n",
      "3             0.068502     0.036094         0.000038      0.027668   \n",
      "4             0.068609     0.036093         0.000037      0.027668   \n",
      "...                ...          ...              ...           ...   \n",
      "5465373       0.567244     0.848825         0.759266      0.000000   \n",
      "5465374       0.567313     0.848658         0.759422      0.000000   \n",
      "5465375       0.567425     0.848490         0.759578      0.000000   \n",
      "5465376       0.567537     0.848323         0.759733      0.000000   \n",
      "5465377       0.567648     0.848156         0.759888      0.000000   \n",
      "\n",
      "         HH_L0.1_magnitude  HpHp_L0.1_mean  HpHp_L0.1_magnitude  \\\n",
      "0                 0.075099        0.075099             0.075099   \n",
      "1                 0.108413        0.011858             0.108412   \n",
      "2                 0.027668        0.027668             0.027668   \n",
      "3                 0.069700        0.027668             0.027668   \n",
      "4                 0.069700        0.027668             0.027668   \n",
      "...                    ...             ...                  ...   \n",
      "5465373           0.000000        0.000000             0.000000   \n",
      "5465374           0.000000        0.000000             0.000000   \n",
      "5465375           0.000000        0.000000             0.000000   \n",
      "5465376           0.000000        0.000000             0.000000   \n",
      "5465377           0.000000        0.000000             0.000000   \n",
      "\n",
      "         MI_dir_L0.1_weight  MI_dir_L0.1_mean  MI_dir_L0.1_variance  \\\n",
      "0                  0.000000          0.097308              0.000000   \n",
      "1                  0.000213          0.069093              0.003262   \n",
      "2                  0.000324          0.060575              0.002880   \n",
      "3                  0.068502          0.036094              0.000038   \n",
      "4                  0.068609          0.036093              0.000037   \n",
      "...                     ...               ...                   ...   \n",
      "5465373            0.567244          0.848825              0.759266   \n",
      "5465374            0.567313          0.848658              0.759422   \n",
      "5465375            0.567425          0.848490              0.759578   \n",
      "5465376            0.567537          0.848323              0.759733   \n",
      "5465377            0.567648          0.848156              0.759888   \n",
      "\n",
      "         H_L0.1_weight  H_L0.1_mean  H_L0.1_variance  HH_L0.1_weight  \\\n",
      "0             0.000000     0.097308         0.000000        0.000000   \n",
      "1             0.000213     0.069093         0.003262        0.000000   \n",
      "2             0.000324     0.060575         0.002880        0.000000   \n",
      "3             0.068502     0.036094         0.000038        0.076681   \n",
      "4             0.068609     0.036093         0.000037        0.076802   \n",
      "...                ...          ...              ...             ...   \n",
      "5465373       0.567244     0.848825         0.759266        0.000000   \n",
      "5465374       0.567313     0.848658         0.759422        0.000000   \n",
      "5465375       0.567425     0.848490         0.759578        0.000000   \n",
      "5465376       0.567537     0.848323         0.759733        0.000000   \n",
      "5465377       0.567648     0.848156         0.759888        0.000000   \n",
      "\n",
      "         HH_L0.1_mean  HH_jit_L0.1_weight  HH_jit_L0.1_mean  \n",
      "0            0.075099            0.000000          0.998842  \n",
      "1            0.011858            0.000000          0.998842  \n",
      "2            0.027668            0.000000          0.998842  \n",
      "3            0.027668            0.076681          0.001515  \n",
      "4            0.027668            0.076802          0.001513  \n",
      "...               ...                 ...               ...  \n",
      "5465373      0.000000            0.000000          1.000000  \n",
      "5465374      0.000000            0.000000          1.000000  \n",
      "5465375      0.000000            0.000000          1.000000  \n",
      "5465376      0.000000            0.000000          1.000000  \n",
      "5465377      0.000000            0.000000          1.000000  \n",
      "\n",
      "[5465378 rows x 20 columns]\n"
     ]
    }
   ],
   "source": [
    "# Create DataFrames for the selected features\n",
    "df_attack = pd.DataFrame(X_new1, columns=selected_features_attack)\n",
    "df_subAttack = pd.DataFrame(X_new2, columns=selected_features_sub)\n",
    "\n",
    "# Concatenate DataFrames into a single DataFrame\n",
    "X_selected = pd.concat([df_attack, df_subAttack], axis=1)\n",
    "\n",
    "# Print the resulting DataFrame\n",
    "print(X_selected)"
   ]
  },
  {
   "cell_type": "code",
   "execution_count": 80,
   "metadata": {},
   "outputs": [
    {
     "name": "stdout",
     "output_type": "stream",
     "text": [
      "MI_dir_L0.1_weight      0\n",
      "MI_dir_L0.1_mean        0\n",
      "MI_dir_L0.1_variance    0\n",
      "H_L0.1_weight           0\n",
      "H_L0.1_mean             0\n",
      "H_L0.1_variance         0\n",
      "HH_L0.1_mean            0\n",
      "HH_L0.1_magnitude       0\n",
      "HpHp_L0.1_mean          0\n",
      "HpHp_L0.1_magnitude     0\n",
      "MI_dir_L0.1_weight      0\n",
      "MI_dir_L0.1_mean        0\n",
      "MI_dir_L0.1_variance    0\n",
      "H_L0.1_weight           0\n",
      "H_L0.1_mean             0\n",
      "H_L0.1_variance         0\n",
      "HH_L0.1_weight          0\n",
      "HH_L0.1_mean            0\n",
      "HH_jit_L0.1_weight      0\n",
      "HH_jit_L0.1_mean        0\n",
      "dtype: int64\n"
     ]
    }
   ],
   "source": [
    "print(X_selected.isna().sum())"
   ]
  },
  {
   "cell_type": "code",
   "execution_count": 81,
   "metadata": {},
   "outputs": [
    {
     "data": {
      "text/plain": [
       "<bound method NDFrame.describe of          MI_dir_L0.1_weight  MI_dir_L0.1_mean  MI_dir_L0.1_variance  \\\n",
       "0                  0.000000          0.097308              0.000000   \n",
       "1                  0.000213          0.069093              0.003262   \n",
       "2                  0.000324          0.060575              0.002880   \n",
       "3                  0.068502          0.036094              0.000038   \n",
       "4                  0.068609          0.036093              0.000037   \n",
       "...                     ...               ...                   ...   \n",
       "5465373            0.567244          0.848825              0.759266   \n",
       "5465374            0.567313          0.848658              0.759422   \n",
       "5465375            0.567425          0.848490              0.759578   \n",
       "5465376            0.567537          0.848323              0.759733   \n",
       "5465377            0.567648          0.848156              0.759888   \n",
       "\n",
       "         H_L0.1_weight  H_L0.1_mean  H_L0.1_variance  HH_L0.1_mean  \\\n",
       "0             0.000000     0.097308         0.000000      0.075099   \n",
       "1             0.000213     0.069093         0.003262      0.011858   \n",
       "2             0.000324     0.060575         0.002880      0.027668   \n",
       "3             0.068502     0.036094         0.000038      0.027668   \n",
       "4             0.068609     0.036093         0.000037      0.027668   \n",
       "...                ...          ...              ...           ...   \n",
       "5465373       0.567244     0.848825         0.759266      0.000000   \n",
       "5465374       0.567313     0.848658         0.759422      0.000000   \n",
       "5465375       0.567425     0.848490         0.759578      0.000000   \n",
       "5465376       0.567537     0.848323         0.759733      0.000000   \n",
       "5465377       0.567648     0.848156         0.759888      0.000000   \n",
       "\n",
       "         HH_L0.1_magnitude  HpHp_L0.1_mean  HpHp_L0.1_magnitude  \\\n",
       "0                 0.075099        0.075099             0.075099   \n",
       "1                 0.108413        0.011858             0.108412   \n",
       "2                 0.027668        0.027668             0.027668   \n",
       "3                 0.069700        0.027668             0.027668   \n",
       "4                 0.069700        0.027668             0.027668   \n",
       "...                    ...             ...                  ...   \n",
       "5465373           0.000000        0.000000             0.000000   \n",
       "5465374           0.000000        0.000000             0.000000   \n",
       "5465375           0.000000        0.000000             0.000000   \n",
       "5465376           0.000000        0.000000             0.000000   \n",
       "5465377           0.000000        0.000000             0.000000   \n",
       "\n",
       "         MI_dir_L0.1_weight  MI_dir_L0.1_mean  MI_dir_L0.1_variance  \\\n",
       "0                  0.000000          0.097308              0.000000   \n",
       "1                  0.000213          0.069093              0.003262   \n",
       "2                  0.000324          0.060575              0.002880   \n",
       "3                  0.068502          0.036094              0.000038   \n",
       "4                  0.068609          0.036093              0.000037   \n",
       "...                     ...               ...                   ...   \n",
       "5465373            0.567244          0.848825              0.759266   \n",
       "5465374            0.567313          0.848658              0.759422   \n",
       "5465375            0.567425          0.848490              0.759578   \n",
       "5465376            0.567537          0.848323              0.759733   \n",
       "5465377            0.567648          0.848156              0.759888   \n",
       "\n",
       "         H_L0.1_weight  H_L0.1_mean  H_L0.1_variance  HH_L0.1_weight  \\\n",
       "0             0.000000     0.097308         0.000000        0.000000   \n",
       "1             0.000213     0.069093         0.003262        0.000000   \n",
       "2             0.000324     0.060575         0.002880        0.000000   \n",
       "3             0.068502     0.036094         0.000038        0.076681   \n",
       "4             0.068609     0.036093         0.000037        0.076802   \n",
       "...                ...          ...              ...             ...   \n",
       "5465373       0.567244     0.848825         0.759266        0.000000   \n",
       "5465374       0.567313     0.848658         0.759422        0.000000   \n",
       "5465375       0.567425     0.848490         0.759578        0.000000   \n",
       "5465376       0.567537     0.848323         0.759733        0.000000   \n",
       "5465377       0.567648     0.848156         0.759888        0.000000   \n",
       "\n",
       "         HH_L0.1_mean  HH_jit_L0.1_weight  HH_jit_L0.1_mean  \n",
       "0            0.075099            0.000000          0.998842  \n",
       "1            0.011858            0.000000          0.998842  \n",
       "2            0.027668            0.000000          0.998842  \n",
       "3            0.027668            0.076681          0.001515  \n",
       "4            0.027668            0.076802          0.001513  \n",
       "...               ...                 ...               ...  \n",
       "5465373      0.000000            0.000000          1.000000  \n",
       "5465374      0.000000            0.000000          1.000000  \n",
       "5465375      0.000000            0.000000          1.000000  \n",
       "5465376      0.000000            0.000000          1.000000  \n",
       "5465377      0.000000            0.000000          1.000000  \n",
       "\n",
       "[5465378 rows x 20 columns]>"
      ]
     },
     "execution_count": 81,
     "metadata": {},
     "output_type": "execute_result"
    }
   ],
   "source": [
    "X_selected.describe"
   ]
  },
  {
   "cell_type": "code",
   "execution_count": 82,
   "metadata": {},
   "outputs": [],
   "source": [
    "# y_attack = res_data['Attack']\n",
    "# y_subAttack = res_data['Attack_subType']\n",
    "\n",
    "# Split the data into training and testing data\n",
    "# Split the data into training and testing sets\n",
    "\n",
    "from sklearn.model_selection import train_test_split\n",
    "X_train, X_test, y1_train, y1_test, y2_train, y2_test = train_test_split(X_selected, y_attack, y_subAttack, test_size=0.2)\n",
    "\n",
    "# label encoding again to convert the data that is continous\n",
    "# X_train, X_test, y1_train, y1_test, y2_train, y2_test\n",
    "\n",
    "y1_train = label_encoder.fit_transform(y1_train)\n",
    "y2_train = label_encoder.fit_transform(y2_train)\n",
    "y1_test = label_encoder.fit_transform(y1_test)\n",
    "y2_test = label_encoder.fit_transform(y2_test)"
   ]
  },
  {
   "cell_type": "code",
   "execution_count": 39,
   "metadata": {},
   "outputs": [
    {
     "name": "stdout",
     "output_type": "stream",
     "text": [
      "Accuracy (Attack): 0.9999981703010586\n"
     ]
    }
   ],
   "source": [
    "\n",
    "###################### MODEL 1 : RANDOM FOREST ##########################\n",
    "\n",
    "\n",
    "# Random Forest for SubAttack\n",
    "from sklearn.ensemble import RandomForestClassifier\n",
    "from sklearn.metrics import accuracy_score, classification_report\n",
    "\n",
    "# Create and train the Random Forest classifier for 'Attack'\n",
    "rf = RandomForestClassifier(n_estimators=75, n_jobs=-1, max_depth=10, random_state=42)  # Example: Use 100 trees\n",
    "rf.fit(X_train, y1_train)\n",
    "\n",
    "# Get feature importances\n",
    "importances = rf.feature_importances_\n",
    "\n",
    "# Sort feature importances in descending order\n",
    "indices = np.argsort(importances)[::-1]\n",
    "\n",
    "# Select the top k most important features\n",
    "k = 5  # Adjust the number of features you want to select\n",
    "selected_features_indices = indices[:k]\n",
    "selected_features = X_train.columns[selected_features_indices]\n",
    "\n",
    "\n",
    "rf.fit(X_train[selected_features], y1_train)\n",
    "\n",
    "# Make predictions for 'Attack'\n",
    "y1_pred_RF = rf.predict(X_test[selected_features])\n",
    "\n",
    "# Evaluate the performance of the classifier for 'Attack'\n",
    "accuracy_attack = accuracy_score(y1_test, y1_pred_RF)\n",
    "print(\"Accuracy (Attack):\", accuracy_attack)\n",
    "#print(\"\\nClassification Report (Attack):\")\n",
    "#print(classification_report(y1_test, y1_pred_RF))\n",
    "\n"
   ]
  },
  {
   "cell_type": "code",
   "execution_count": 41,
   "metadata": {},
   "outputs": [
    {
     "name": "stdout",
     "output_type": "stream",
     "text": [
      "Cross-validation Scores: [0.99998902 0.99998536 0.99999085 0.99999177 0.99999268]\n",
      "Mean Cross-validation Score: 0.9999899366529771\n",
      "Standard Deviation of Cross-validation Scores: 2.587582572260995e-06\n"
     ]
    },
    {
     "ename": "ValueError",
     "evalue": "The feature names should match those that were passed during fit.\nFeature names seen at fit time, yet now missing:\n- HH_L0.1_magnitude\n- HH_L0.1_mean\n- HH_L0.1_weight\n- HH_jit_L0.1_mean\n- HH_jit_L0.1_weight\n- ...\n",
     "output_type": "error",
     "traceback": [
      "\u001b[1;31m---------------------------------------------------------------------------\u001b[0m",
      "\u001b[1;31mValueError\u001b[0m                                Traceback (most recent call last)",
      "Cell \u001b[1;32mIn[41], line 44\u001b[0m\n\u001b[0;32m     40\u001b[0m \u001b[38;5;28mprint\u001b[39m(\u001b[38;5;124m\"\u001b[39m\u001b[38;5;124mStandard Deviation of Cross-validation Scores:\u001b[39m\u001b[38;5;124m\"\u001b[39m, std_cv_score)\n\u001b[0;32m     43\u001b[0m \u001b[38;5;66;03m# Make predictions for 'Attack'\u001b[39;00m\n\u001b[1;32m---> 44\u001b[0m y1_pred_RF \u001b[38;5;241m=\u001b[39m \u001b[43mrf\u001b[49m\u001b[38;5;241;43m.\u001b[39;49m\u001b[43mpredict\u001b[49m\u001b[43m(\u001b[49m\u001b[43mX_test\u001b[49m\u001b[43m[\u001b[49m\u001b[43mselected_features\u001b[49m\u001b[43m]\u001b[49m\u001b[43m)\u001b[49m\n\u001b[0;32m     46\u001b[0m \u001b[38;5;66;03m# Evaluate the performance of the classifier for 'Attack'\u001b[39;00m\n\u001b[0;32m     47\u001b[0m accuracy_attack \u001b[38;5;241m=\u001b[39m accuracy_score(y1_test, y1_pred_RF)\n",
      "File \u001b[1;32mc:\\Users\\Dell\\AppData\\Local\\Programs\\Python\\Python38\\lib\\site-packages\\sklearn\\ensemble\\_forest.py:820\u001b[0m, in \u001b[0;36mForestClassifier.predict\u001b[1;34m(self, X)\u001b[0m\n\u001b[0;32m    799\u001b[0m \u001b[38;5;28;01mdef\u001b[39;00m \u001b[38;5;21mpredict\u001b[39m(\u001b[38;5;28mself\u001b[39m, X):\n\u001b[0;32m    800\u001b[0m \u001b[38;5;250m    \u001b[39m\u001b[38;5;124;03m\"\"\"\u001b[39;00m\n\u001b[0;32m    801\u001b[0m \u001b[38;5;124;03m    Predict class for X.\u001b[39;00m\n\u001b[0;32m    802\u001b[0m \n\u001b[1;32m   (...)\u001b[0m\n\u001b[0;32m    818\u001b[0m \u001b[38;5;124;03m        The predicted classes.\u001b[39;00m\n\u001b[0;32m    819\u001b[0m \u001b[38;5;124;03m    \"\"\"\u001b[39;00m\n\u001b[1;32m--> 820\u001b[0m     proba \u001b[38;5;241m=\u001b[39m \u001b[38;5;28;43mself\u001b[39;49m\u001b[38;5;241;43m.\u001b[39;49m\u001b[43mpredict_proba\u001b[49m\u001b[43m(\u001b[49m\u001b[43mX\u001b[49m\u001b[43m)\u001b[49m\n\u001b[0;32m    822\u001b[0m     \u001b[38;5;28;01mif\u001b[39;00m \u001b[38;5;28mself\u001b[39m\u001b[38;5;241m.\u001b[39mn_outputs_ \u001b[38;5;241m==\u001b[39m \u001b[38;5;241m1\u001b[39m:\n\u001b[0;32m    823\u001b[0m         \u001b[38;5;28;01mreturn\u001b[39;00m \u001b[38;5;28mself\u001b[39m\u001b[38;5;241m.\u001b[39mclasses_\u001b[38;5;241m.\u001b[39mtake(np\u001b[38;5;241m.\u001b[39margmax(proba, axis\u001b[38;5;241m=\u001b[39m\u001b[38;5;241m1\u001b[39m), axis\u001b[38;5;241m=\u001b[39m\u001b[38;5;241m0\u001b[39m)\n",
      "File \u001b[1;32mc:\\Users\\Dell\\AppData\\Local\\Programs\\Python\\Python38\\lib\\site-packages\\sklearn\\ensemble\\_forest.py:862\u001b[0m, in \u001b[0;36mForestClassifier.predict_proba\u001b[1;34m(self, X)\u001b[0m\n\u001b[0;32m    860\u001b[0m check_is_fitted(\u001b[38;5;28mself\u001b[39m)\n\u001b[0;32m    861\u001b[0m \u001b[38;5;66;03m# Check data\u001b[39;00m\n\u001b[1;32m--> 862\u001b[0m X \u001b[38;5;241m=\u001b[39m \u001b[38;5;28;43mself\u001b[39;49m\u001b[38;5;241;43m.\u001b[39;49m\u001b[43m_validate_X_predict\u001b[49m\u001b[43m(\u001b[49m\u001b[43mX\u001b[49m\u001b[43m)\u001b[49m\n\u001b[0;32m    864\u001b[0m \u001b[38;5;66;03m# Assign chunk of trees to jobs\u001b[39;00m\n\u001b[0;32m    865\u001b[0m n_jobs, _, _ \u001b[38;5;241m=\u001b[39m _partition_estimators(\u001b[38;5;28mself\u001b[39m\u001b[38;5;241m.\u001b[39mn_estimators, \u001b[38;5;28mself\u001b[39m\u001b[38;5;241m.\u001b[39mn_jobs)\n",
      "File \u001b[1;32mc:\\Users\\Dell\\AppData\\Local\\Programs\\Python\\Python38\\lib\\site-packages\\sklearn\\ensemble\\_forest.py:602\u001b[0m, in \u001b[0;36mBaseForest._validate_X_predict\u001b[1;34m(self, X)\u001b[0m\n\u001b[0;32m    599\u001b[0m \u001b[38;5;250m\u001b[39m\u001b[38;5;124;03m\"\"\"\u001b[39;00m\n\u001b[0;32m    600\u001b[0m \u001b[38;5;124;03mValidate X whenever one tries to predict, apply, predict_proba.\"\"\"\u001b[39;00m\n\u001b[0;32m    601\u001b[0m check_is_fitted(\u001b[38;5;28mself\u001b[39m)\n\u001b[1;32m--> 602\u001b[0m X \u001b[38;5;241m=\u001b[39m \u001b[38;5;28;43mself\u001b[39;49m\u001b[38;5;241;43m.\u001b[39;49m\u001b[43m_validate_data\u001b[49m\u001b[43m(\u001b[49m\u001b[43mX\u001b[49m\u001b[43m,\u001b[49m\u001b[43m \u001b[49m\u001b[43mdtype\u001b[49m\u001b[38;5;241;43m=\u001b[39;49m\u001b[43mDTYPE\u001b[49m\u001b[43m,\u001b[49m\u001b[43m \u001b[49m\u001b[43maccept_sparse\u001b[49m\u001b[38;5;241;43m=\u001b[39;49m\u001b[38;5;124;43m\"\u001b[39;49m\u001b[38;5;124;43mcsr\u001b[39;49m\u001b[38;5;124;43m\"\u001b[39;49m\u001b[43m,\u001b[49m\u001b[43m \u001b[49m\u001b[43mreset\u001b[49m\u001b[38;5;241;43m=\u001b[39;49m\u001b[38;5;28;43;01mFalse\u001b[39;49;00m\u001b[43m)\u001b[49m\n\u001b[0;32m    603\u001b[0m \u001b[38;5;28;01mif\u001b[39;00m issparse(X) \u001b[38;5;129;01mand\u001b[39;00m (X\u001b[38;5;241m.\u001b[39mindices\u001b[38;5;241m.\u001b[39mdtype \u001b[38;5;241m!=\u001b[39m np\u001b[38;5;241m.\u001b[39mintc \u001b[38;5;129;01mor\u001b[39;00m X\u001b[38;5;241m.\u001b[39mindptr\u001b[38;5;241m.\u001b[39mdtype \u001b[38;5;241m!=\u001b[39m np\u001b[38;5;241m.\u001b[39mintc):\n\u001b[0;32m    604\u001b[0m     \u001b[38;5;28;01mraise\u001b[39;00m \u001b[38;5;167;01mValueError\u001b[39;00m(\u001b[38;5;124m\"\u001b[39m\u001b[38;5;124mNo support for np.int64 index based sparse matrices\u001b[39m\u001b[38;5;124m\"\u001b[39m)\n",
      "File \u001b[1;32mc:\\Users\\Dell\\AppData\\Local\\Programs\\Python\\Python38\\lib\\site-packages\\sklearn\\base.py:529\u001b[0m, in \u001b[0;36mBaseEstimator._validate_data\u001b[1;34m(self, X, y, reset, validate_separately, **check_params)\u001b[0m\n\u001b[0;32m    464\u001b[0m \u001b[38;5;28;01mdef\u001b[39;00m \u001b[38;5;21m_validate_data\u001b[39m(\n\u001b[0;32m    465\u001b[0m     \u001b[38;5;28mself\u001b[39m,\n\u001b[0;32m    466\u001b[0m     X\u001b[38;5;241m=\u001b[39m\u001b[38;5;124m\"\u001b[39m\u001b[38;5;124mno_validation\u001b[39m\u001b[38;5;124m\"\u001b[39m,\n\u001b[1;32m   (...)\u001b[0m\n\u001b[0;32m    470\u001b[0m     \u001b[38;5;241m*\u001b[39m\u001b[38;5;241m*\u001b[39mcheck_params,\n\u001b[0;32m    471\u001b[0m ):\n\u001b[0;32m    472\u001b[0m \u001b[38;5;250m    \u001b[39m\u001b[38;5;124;03m\"\"\"Validate input data and set or check the `n_features_in_` attribute.\u001b[39;00m\n\u001b[0;32m    473\u001b[0m \n\u001b[0;32m    474\u001b[0m \u001b[38;5;124;03m    Parameters\u001b[39;00m\n\u001b[1;32m   (...)\u001b[0m\n\u001b[0;32m    527\u001b[0m \u001b[38;5;124;03m        validated.\u001b[39;00m\n\u001b[0;32m    528\u001b[0m \u001b[38;5;124;03m    \"\"\"\u001b[39;00m\n\u001b[1;32m--> 529\u001b[0m     \u001b[38;5;28;43mself\u001b[39;49m\u001b[38;5;241;43m.\u001b[39;49m\u001b[43m_check_feature_names\u001b[49m\u001b[43m(\u001b[49m\u001b[43mX\u001b[49m\u001b[43m,\u001b[49m\u001b[43m \u001b[49m\u001b[43mreset\u001b[49m\u001b[38;5;241;43m=\u001b[39;49m\u001b[43mreset\u001b[49m\u001b[43m)\u001b[49m\n\u001b[0;32m    531\u001b[0m     \u001b[38;5;28;01mif\u001b[39;00m y \u001b[38;5;129;01mis\u001b[39;00m \u001b[38;5;28;01mNone\u001b[39;00m \u001b[38;5;129;01mand\u001b[39;00m \u001b[38;5;28mself\u001b[39m\u001b[38;5;241m.\u001b[39m_get_tags()[\u001b[38;5;124m\"\u001b[39m\u001b[38;5;124mrequires_y\u001b[39m\u001b[38;5;124m\"\u001b[39m]:\n\u001b[0;32m    532\u001b[0m         \u001b[38;5;28;01mraise\u001b[39;00m \u001b[38;5;167;01mValueError\u001b[39;00m(\n\u001b[0;32m    533\u001b[0m             \u001b[38;5;124mf\u001b[39m\u001b[38;5;124m\"\u001b[39m\u001b[38;5;124mThis \u001b[39m\u001b[38;5;132;01m{\u001b[39;00m\u001b[38;5;28mself\u001b[39m\u001b[38;5;241m.\u001b[39m\u001b[38;5;18m__class__\u001b[39m\u001b[38;5;241m.\u001b[39m\u001b[38;5;18m__name__\u001b[39m\u001b[38;5;132;01m}\u001b[39;00m\u001b[38;5;124m estimator \u001b[39m\u001b[38;5;124m\"\u001b[39m\n\u001b[0;32m    534\u001b[0m             \u001b[38;5;124m\"\u001b[39m\u001b[38;5;124mrequires y to be passed, but the target y is None.\u001b[39m\u001b[38;5;124m\"\u001b[39m\n\u001b[0;32m    535\u001b[0m         )\n",
      "File \u001b[1;32mc:\\Users\\Dell\\AppData\\Local\\Programs\\Python\\Python38\\lib\\site-packages\\sklearn\\base.py:462\u001b[0m, in \u001b[0;36mBaseEstimator._check_feature_names\u001b[1;34m(self, X, reset)\u001b[0m\n\u001b[0;32m    457\u001b[0m \u001b[38;5;28;01mif\u001b[39;00m \u001b[38;5;129;01mnot\u001b[39;00m missing_names \u001b[38;5;129;01mand\u001b[39;00m \u001b[38;5;129;01mnot\u001b[39;00m unexpected_names:\n\u001b[0;32m    458\u001b[0m     message \u001b[38;5;241m+\u001b[39m\u001b[38;5;241m=\u001b[39m (\n\u001b[0;32m    459\u001b[0m         \u001b[38;5;124m\"\u001b[39m\u001b[38;5;124mFeature names must be in the same order as they were in fit.\u001b[39m\u001b[38;5;130;01m\\n\u001b[39;00m\u001b[38;5;124m\"\u001b[39m\n\u001b[0;32m    460\u001b[0m     )\n\u001b[1;32m--> 462\u001b[0m \u001b[38;5;28;01mraise\u001b[39;00m \u001b[38;5;167;01mValueError\u001b[39;00m(message)\n",
      "\u001b[1;31mValueError\u001b[0m: The feature names should match those that were passed during fit.\nFeature names seen at fit time, yet now missing:\n- HH_L0.1_magnitude\n- HH_L0.1_mean\n- HH_L0.1_weight\n- HH_jit_L0.1_mean\n- HH_jit_L0.1_weight\n- ...\n"
     ]
    }
   ],
   "source": [
    "# Random Forest for SubAttack\n",
    "from sklearn.ensemble import RandomForestClassifier\n",
    "from sklearn.metrics import accuracy_score, classification_report\n",
    "from sklearn.model_selection import KFold\n",
    "from sklearn.model_selection import cross_val_score\n",
    "from sklearn.ensemble import RandomForestClassifier\n",
    "\n",
    "# Create and train the Random Forest classifier for 'Attack'\n",
    "rf = RandomForestClassifier(n_estimators=75, n_jobs=-1, max_depth=5, random_state=42)  # Example: Use 100 trees\n",
    "rf.fit(X_train, y1_train)\n",
    "\n",
    "# Get feature importances\n",
    "importances = rf.feature_importances_\n",
    "\n",
    "# Sort feature importances in descending order\n",
    "indices = np.argsort(importances)[::-1]\n",
    "\n",
    "# Select the top k most important features\n",
    "k = 5  # Adjust the number of features you want to select\n",
    "selected_features_indices = indices[:k]\n",
    "selected_features = X_train.columns[selected_features_indices]\n",
    "\n",
    "\n",
    "#rf.fit(X_train[selected_features], y1_train)\n",
    "\n",
    "# Initialize the k-fold cross-validation\n",
    "k_fold = KFold(n_splits=5, shuffle=True, random_state=42)\n",
    "\n",
    "# Perform k-fold cross-validation\n",
    "cv_scores = cross_val_score(rf, X[selected_features], y_attack, cv=k_fold, scoring='accuracy')\n",
    "\n",
    "# Print the cross-validation scores\n",
    "print(\"Cross-validation Scores:\", cv_scores)\n",
    "\n",
    "# Calculate the mean and standard deviation of the cross-validation scores\n",
    "mean_cv_score = cv_scores.mean()\n",
    "std_cv_score = cv_scores.std()\n",
    "\n",
    "print(\"Mean Cross-validation Score:\", mean_cv_score)\n",
    "print(\"Standard Deviation of Cross-validation Scores:\", std_cv_score)\n",
    "\n",
    "\n",
    "# Make predictions for 'Attack'\n",
    "y1_pred_RF = rf.predict(X_test[selected_features])\n",
    "\n",
    "# Evaluate the performance of the classifier for 'Attack'\n",
    "accuracy_attack = accuracy_score(y1_test, y1_pred_RF)\n",
    "print(\"Accuracy (Attack):\", accuracy_attack)\n",
    "#print(\"\\nClassification Report (Attack):\")\n",
    "#print(classification_report(y1_test, y1_pred_RF))"
   ]
  },
  {
   "cell_type": "code",
   "execution_count": 49,
   "metadata": {},
   "outputs": [
    {
     "name": "stdout",
     "output_type": "stream",
     "text": [
      "\n",
      "Accuracy (AttackSubType): 0.7970571122227549\n"
     ]
    }
   ],
   "source": [
    "# Create and train the Random Forest classifier for 'Sub Attack'\n",
    "rf = RandomForestClassifier(n_estimators=75, n_jobs=-1, max_depth=5, random_state=42)  # Example: Use 100 trees\n",
    "rf.fit(X_train, y2_train)\n",
    "\n",
    "# Get feature importances\n",
    "importances = rf.feature_importances_\n",
    "\n",
    "# Sort feature importances in descending order\n",
    "indices = np.argsort(importances)[::-1]\n",
    "\n",
    "# Select the top k most important features\n",
    "k = 5  # Adjust the number of features you want to select\n",
    "selected_features_indices = indices[:k]\n",
    "selected_features = X_train.columns[selected_features_indices]\n",
    "\n",
    "rf.fit(X_train[selected_features], y2_train)\n",
    "\n",
    "# Make predictions for 'AttackSubType'\n",
    "y2_pred_RF = rf.predict(X_test[selected_features])\n",
    "\n",
    "\n",
    "# Evaluate the performance of the classifier for 'AttackSubType'\n",
    "accuracy_subattack = accuracy_score(y2_test, y2_pred_RF)\n",
    "print(\"\\nAccuracy (AttackSubType):\", accuracy_subattack)\n",
    "#print(\"\\nClassification Report (AttackSubType):\")\n",
    "\n",
    "#print(classification_report(y2_test, y2_pred_RF))"
   ]
  },
  {
   "cell_type": "code",
   "execution_count": 42,
   "metadata": {},
   "outputs": [
    {
     "name": "stdout",
     "output_type": "stream",
     "text": [
      "Accuracy (Attack): 1.0\n",
      "\n",
      "Classification Report (Attack):\n",
      "\n",
      "Accuracy (AttackSubType): 0.8792224877318686\n",
      "\n",
      "Classification Report (AttackSubType):\n"
     ]
    }
   ],
   "source": [
    "###################### MODEL 2 : DECISION TREES ##########################\n",
    "\n",
    "from sklearn.tree import DecisionTreeClassifier\n",
    "\n",
    "# Create and train the Decision Tree classifier for 'Attack'\n",
    "dt_attack = DecisionTreeClassifier(max_depth=10, random_state=42)  # Example: Limit maximum depth to 5\n",
    "dt_attack.fit(X_train, y1_train)\n",
    "\n",
    "# Create and train the Decision Tree classifier for 'AttackSubType'\n",
    "dt_subattack = DecisionTreeClassifier(max_depth=10, random_state=42)  # Example: Limit maximum depth to 5\n",
    "dt_subattack.fit(X_train, y2_train)\n",
    "\n",
    "# Make predictions for 'Attack'\n",
    "y_attack_pred_DT = dt_attack.predict(X_test)\n",
    "\n",
    "# Evaluate the performance of the classifier for 'Attack'\n",
    "accuracy_attack = accuracy_score(y1_test, y_attack_pred_DT)\n",
    "print(\"Accuracy (Attack):\", accuracy_attack)\n",
    "print(\"\\nClassification Report (Attack):\")\n",
    "#print(classification_report(y1_test, y_attack_pred_DT))\n",
    "\n",
    "\n",
    "# Make predictions for 'AttackSubType'\n",
    "y_subAttack_pred_DT = dt_subattack.predict(X_test)\n",
    "\n",
    "# Evaluate the performance of the classifier for 'AttackSubType'\n",
    "accuracy_subattack = accuracy_score(y2_test, y_subAttack_pred_DT)\n",
    "print(\"\\nAccuracy (AttackSubType):\", accuracy_subattack)\n",
    "print(\"\\nClassification Report (AttackSubType):\")\n",
    "#print(classification_report(y2_test, y_subAttack_pred_DT))"
   ]
  },
  {
   "cell_type": "code",
   "execution_count": 42,
   "metadata": {},
   "outputs": [
    {
     "data": {
      "text/plain": [
       "dtype('float64')"
      ]
     },
     "execution_count": 42,
     "metadata": {},
     "output_type": "execute_result"
    }
   ],
   "source": [
    "y1_train.dtype\n",
    "\n"
   ]
  },
  {
   "cell_type": "code",
   "execution_count": 43,
   "metadata": {},
   "outputs": [
    {
     "data": {
      "text/plain": [
       "dtype('float64')"
      ]
     },
     "execution_count": 43,
     "metadata": {},
     "output_type": "execute_result"
    }
   ],
   "source": [
    "y2_train.dtype"
   ]
  },
  {
   "cell_type": "code",
   "execution_count": 43,
   "metadata": {},
   "outputs": [
    {
     "name": "stdout",
     "output_type": "stream",
     "text": [
      "Accuracy (Attack): 0.7626450493835745\n",
      "\n",
      "Accuracy (AttackSubType): 0.5715741631871892\n"
     ]
    }
   ],
   "source": [
    "###################### MODEL 3 : NAIVE BAYES ##########################\n",
    "\n",
    "from sklearn.naive_bayes import GaussianNB\n",
    "\n",
    "# Create and train the Naive Bayes classifier for 'Attack'\n",
    "nb_attack = GaussianNB()\n",
    "nb_attack.fit(X_train, y1_train)\n",
    "\n",
    "# Create and train the Naive Bayes classifier for 'AttackSubType'\n",
    "nb_subattack = GaussianNB()\n",
    "nb_subattack.fit(X_train, y2_train)\n",
    "\n",
    "# Make predictions for 'Attack'\n",
    "y_attack_pred_NB = nb_attack.predict(X_test)\n",
    "\n",
    "# Evaluate the performance of the classifier for 'Attack'\n",
    "accuracy_attack = accuracy_score(y1_test, y_attack_pred_NB)\n",
    "print(\"Accuracy (Attack):\", accuracy_attack)\n",
    "#print(\"\\nClassification Report (Attack):\")\n",
    "#print(classification_report(y1_test, y_attack_pred_NB))\n",
    "\n",
    "# Make predictions for 'AttackSubType'\n",
    "y_subAttack_pred_NB = nb_subattack.predict(X_test)\n",
    "\n",
    "# Evaluate the performance of the classifier for 'AttackSubType'\n",
    "accuracy_subattack = accuracy_score(y2_test, y_subAttack_pred_NB)\n",
    "print(\"\\nAccuracy (AttackSubType):\", accuracy_subattack)\n",
    "#print(\"\\nClassification Report (AttackSubType):\")\n",
    "#print(classification_report(y2_test, y_subAttack_pred_NB))"
   ]
  },
  {
   "cell_type": "code",
   "execution_count": 38,
   "metadata": {},
   "outputs": [],
   "source": [
    "###################### MODEL 5 : Gradient Boosting Classifier ##########################\n",
    "\n",
    "from sklearn.ensemble import GradientBoostingClassifier\n",
    "\n",
    "# Create and train the Gradient Boosting classifier for 'Attack'\n",
    "gb_attack = GradientBoostingClassifier()\n",
    "gb_attack.fit(X_train, y1_train)\n",
    "\n",
    "# Create and train the Gradient Boosting classifier for 'AttackSubType'\n",
    "gb_subattack = GradientBoostingClassifier()\n",
    "gb_subattack.fit(X_train, y2_train)\n",
    "\n",
    "# Make predictions for 'Attack'\n",
    "y_attack_pred_GB = gb_attack.predict(X_test)\n",
    "\n",
    "# Evaluate the performance of the classifier for 'Attack'\n",
    "accuracy_attack = accuracy_score(y1_test, y_attack_pred_GB)\n",
    "print(\"Accuracy (Attack):\", accuracy_attack)\n",
    "\n",
    "# Make predictions for 'AttackSubType'\n",
    "y_subAttack_pred_GB = gb_subattack.predict(X_test)\n",
    "\n",
    "# Evaluate the performance of the classifier for 'AttackSubType'\n",
    "accuracy_subattack = accuracy_score(y2_test, y_subAttack_pred_GB)\n",
    "print(\"Accuracy (AttackSubType):\", accuracy_subattack)"
   ]
  },
  {
   "cell_type": "code",
   "execution_count": 38,
   "metadata": {},
   "outputs": [
    {
     "ename": "KeyboardInterrupt",
     "evalue": "",
     "output_type": "error",
     "traceback": [
      "\u001b[1;31m---------------------------------------------------------------------------\u001b[0m",
      "\u001b[1;31mKeyboardInterrupt\u001b[0m                         Traceback (most recent call last)",
      "Cell \u001b[1;32mIn[38], line 11\u001b[0m\n\u001b[0;32m      9\u001b[0m \u001b[38;5;66;03m# Create and train the AdaBoost classifier for 'AttackSubType'\u001b[39;00m\n\u001b[0;32m     10\u001b[0m adaboost_subattack \u001b[38;5;241m=\u001b[39m AdaBoostClassifier()\n\u001b[1;32m---> 11\u001b[0m \u001b[43madaboost_subattack\u001b[49m\u001b[38;5;241;43m.\u001b[39;49m\u001b[43mfit\u001b[49m\u001b[43m(\u001b[49m\u001b[43mX_train\u001b[49m\u001b[43m,\u001b[49m\u001b[43m \u001b[49m\u001b[43my2_train\u001b[49m\u001b[43m)\u001b[49m\n\u001b[0;32m     13\u001b[0m \u001b[38;5;66;03m# Make predictions for 'Attack'\u001b[39;00m\n\u001b[0;32m     14\u001b[0m y_attack_pred_adaboost \u001b[38;5;241m=\u001b[39m adaboost_attack\u001b[38;5;241m.\u001b[39mpredict(X_test)\n",
      "File \u001b[1;32mc:\\Users\\Dell\\AppData\\Local\\Programs\\Python\\Python38\\lib\\site-packages\\sklearn\\ensemble\\_weight_boosting.py:162\u001b[0m, in \u001b[0;36mBaseWeightBoosting.fit\u001b[1;34m(self, X, y, sample_weight)\u001b[0m\n\u001b[0;32m    159\u001b[0m sample_weight[zero_weight_mask] \u001b[38;5;241m=\u001b[39m \u001b[38;5;241m0.0\u001b[39m\n\u001b[0;32m    161\u001b[0m \u001b[38;5;66;03m# Boosting step\u001b[39;00m\n\u001b[1;32m--> 162\u001b[0m sample_weight, estimator_weight, estimator_error \u001b[38;5;241m=\u001b[39m \u001b[38;5;28;43mself\u001b[39;49m\u001b[38;5;241;43m.\u001b[39;49m\u001b[43m_boost\u001b[49m\u001b[43m(\u001b[49m\n\u001b[0;32m    163\u001b[0m \u001b[43m    \u001b[49m\u001b[43miboost\u001b[49m\u001b[43m,\u001b[49m\u001b[43m \u001b[49m\u001b[43mX\u001b[49m\u001b[43m,\u001b[49m\u001b[43m \u001b[49m\u001b[43my\u001b[49m\u001b[43m,\u001b[49m\u001b[43m \u001b[49m\u001b[43msample_weight\u001b[49m\u001b[43m,\u001b[49m\u001b[43m \u001b[49m\u001b[43mrandom_state\u001b[49m\n\u001b[0;32m    164\u001b[0m \u001b[43m\u001b[49m\u001b[43m)\u001b[49m\n\u001b[0;32m    166\u001b[0m \u001b[38;5;66;03m# Early termination\u001b[39;00m\n\u001b[0;32m    167\u001b[0m \u001b[38;5;28;01mif\u001b[39;00m sample_weight \u001b[38;5;129;01mis\u001b[39;00m \u001b[38;5;28;01mNone\u001b[39;00m:\n",
      "File \u001b[1;32mc:\\Users\\Dell\\AppData\\Local\\Programs\\Python\\Python38\\lib\\site-packages\\sklearn\\ensemble\\_weight_boosting.py:569\u001b[0m, in \u001b[0;36mAdaBoostClassifier._boost\u001b[1;34m(self, iboost, X, y, sample_weight, random_state)\u001b[0m\n\u001b[0;32m    530\u001b[0m \u001b[38;5;250m\u001b[39m\u001b[38;5;124;03m\"\"\"Implement a single boost.\u001b[39;00m\n\u001b[0;32m    531\u001b[0m \n\u001b[0;32m    532\u001b[0m \u001b[38;5;124;03mPerform a single boost according to the real multi-class SAMME.R\u001b[39;00m\n\u001b[1;32m   (...)\u001b[0m\n\u001b[0;32m    566\u001b[0m \u001b[38;5;124;03m    If None then boosting has terminated early.\u001b[39;00m\n\u001b[0;32m    567\u001b[0m \u001b[38;5;124;03m\"\"\"\u001b[39;00m\n\u001b[0;32m    568\u001b[0m \u001b[38;5;28;01mif\u001b[39;00m \u001b[38;5;28mself\u001b[39m\u001b[38;5;241m.\u001b[39malgorithm \u001b[38;5;241m==\u001b[39m \u001b[38;5;124m\"\u001b[39m\u001b[38;5;124mSAMME.R\u001b[39m\u001b[38;5;124m\"\u001b[39m:\n\u001b[1;32m--> 569\u001b[0m     \u001b[38;5;28;01mreturn\u001b[39;00m \u001b[38;5;28;43mself\u001b[39;49m\u001b[38;5;241;43m.\u001b[39;49m\u001b[43m_boost_real\u001b[49m\u001b[43m(\u001b[49m\u001b[43miboost\u001b[49m\u001b[43m,\u001b[49m\u001b[43m \u001b[49m\u001b[43mX\u001b[49m\u001b[43m,\u001b[49m\u001b[43m \u001b[49m\u001b[43my\u001b[49m\u001b[43m,\u001b[49m\u001b[43m \u001b[49m\u001b[43msample_weight\u001b[49m\u001b[43m,\u001b[49m\u001b[43m \u001b[49m\u001b[43mrandom_state\u001b[49m\u001b[43m)\u001b[49m\n\u001b[0;32m    571\u001b[0m \u001b[38;5;28;01melse\u001b[39;00m:  \u001b[38;5;66;03m# elif self.algorithm == \"SAMME\":\u001b[39;00m\n\u001b[0;32m    572\u001b[0m     \u001b[38;5;28;01mreturn\u001b[39;00m \u001b[38;5;28mself\u001b[39m\u001b[38;5;241m.\u001b[39m_boost_discrete(iboost, X, y, sample_weight, random_state)\n",
      "File \u001b[1;32mc:\\Users\\Dell\\AppData\\Local\\Programs\\Python\\Python38\\lib\\site-packages\\sklearn\\ensemble\\_weight_boosting.py:578\u001b[0m, in \u001b[0;36mAdaBoostClassifier._boost_real\u001b[1;34m(self, iboost, X, y, sample_weight, random_state)\u001b[0m\n\u001b[0;32m    575\u001b[0m \u001b[38;5;250m\u001b[39m\u001b[38;5;124;03m\"\"\"Implement a single boost using the SAMME.R real algorithm.\"\"\"\u001b[39;00m\n\u001b[0;32m    576\u001b[0m estimator \u001b[38;5;241m=\u001b[39m \u001b[38;5;28mself\u001b[39m\u001b[38;5;241m.\u001b[39m_make_estimator(random_state\u001b[38;5;241m=\u001b[39mrandom_state)\n\u001b[1;32m--> 578\u001b[0m \u001b[43mestimator\u001b[49m\u001b[38;5;241;43m.\u001b[39;49m\u001b[43mfit\u001b[49m\u001b[43m(\u001b[49m\u001b[43mX\u001b[49m\u001b[43m,\u001b[49m\u001b[43m \u001b[49m\u001b[43my\u001b[49m\u001b[43m,\u001b[49m\u001b[43m \u001b[49m\u001b[43msample_weight\u001b[49m\u001b[38;5;241;43m=\u001b[39;49m\u001b[43msample_weight\u001b[49m\u001b[43m)\u001b[49m\n\u001b[0;32m    580\u001b[0m y_predict_proba \u001b[38;5;241m=\u001b[39m estimator\u001b[38;5;241m.\u001b[39mpredict_proba(X)\n\u001b[0;32m    582\u001b[0m \u001b[38;5;28;01mif\u001b[39;00m iboost \u001b[38;5;241m==\u001b[39m \u001b[38;5;241m0\u001b[39m:\n",
      "File \u001b[1;32mc:\\Users\\Dell\\AppData\\Local\\Programs\\Python\\Python38\\lib\\site-packages\\sklearn\\tree\\_classes.py:889\u001b[0m, in \u001b[0;36mDecisionTreeClassifier.fit\u001b[1;34m(self, X, y, sample_weight, check_input)\u001b[0m\n\u001b[0;32m    859\u001b[0m \u001b[38;5;28;01mdef\u001b[39;00m \u001b[38;5;21mfit\u001b[39m(\u001b[38;5;28mself\u001b[39m, X, y, sample_weight\u001b[38;5;241m=\u001b[39m\u001b[38;5;28;01mNone\u001b[39;00m, check_input\u001b[38;5;241m=\u001b[39m\u001b[38;5;28;01mTrue\u001b[39;00m):\n\u001b[0;32m    860\u001b[0m \u001b[38;5;250m    \u001b[39m\u001b[38;5;124;03m\"\"\"Build a decision tree classifier from the training set (X, y).\u001b[39;00m\n\u001b[0;32m    861\u001b[0m \n\u001b[0;32m    862\u001b[0m \u001b[38;5;124;03m    Parameters\u001b[39;00m\n\u001b[1;32m   (...)\u001b[0m\n\u001b[0;32m    886\u001b[0m \u001b[38;5;124;03m        Fitted estimator.\u001b[39;00m\n\u001b[0;32m    887\u001b[0m \u001b[38;5;124;03m    \"\"\"\u001b[39;00m\n\u001b[1;32m--> 889\u001b[0m     \u001b[38;5;28;43msuper\u001b[39;49m\u001b[43m(\u001b[49m\u001b[43m)\u001b[49m\u001b[38;5;241;43m.\u001b[39;49m\u001b[43mfit\u001b[49m\u001b[43m(\u001b[49m\n\u001b[0;32m    890\u001b[0m \u001b[43m        \u001b[49m\u001b[43mX\u001b[49m\u001b[43m,\u001b[49m\n\u001b[0;32m    891\u001b[0m \u001b[43m        \u001b[49m\u001b[43my\u001b[49m\u001b[43m,\u001b[49m\n\u001b[0;32m    892\u001b[0m \u001b[43m        \u001b[49m\u001b[43msample_weight\u001b[49m\u001b[38;5;241;43m=\u001b[39;49m\u001b[43msample_weight\u001b[49m\u001b[43m,\u001b[49m\n\u001b[0;32m    893\u001b[0m \u001b[43m        \u001b[49m\u001b[43mcheck_input\u001b[49m\u001b[38;5;241;43m=\u001b[39;49m\u001b[43mcheck_input\u001b[49m\u001b[43m,\u001b[49m\n\u001b[0;32m    894\u001b[0m \u001b[43m    \u001b[49m\u001b[43m)\u001b[49m\n\u001b[0;32m    895\u001b[0m     \u001b[38;5;28;01mreturn\u001b[39;00m \u001b[38;5;28mself\u001b[39m\n",
      "File \u001b[1;32mc:\\Users\\Dell\\AppData\\Local\\Programs\\Python\\Python38\\lib\\site-packages\\sklearn\\tree\\_classes.py:379\u001b[0m, in \u001b[0;36mBaseDecisionTree.fit\u001b[1;34m(self, X, y, sample_weight, check_input)\u001b[0m\n\u001b[0;32m    368\u001b[0m \u001b[38;5;28;01melse\u001b[39;00m:\n\u001b[0;32m    369\u001b[0m     builder \u001b[38;5;241m=\u001b[39m BestFirstTreeBuilder(\n\u001b[0;32m    370\u001b[0m         splitter,\n\u001b[0;32m    371\u001b[0m         min_samples_split,\n\u001b[1;32m   (...)\u001b[0m\n\u001b[0;32m    376\u001b[0m         \u001b[38;5;28mself\u001b[39m\u001b[38;5;241m.\u001b[39mmin_impurity_decrease,\n\u001b[0;32m    377\u001b[0m     )\n\u001b[1;32m--> 379\u001b[0m \u001b[43mbuilder\u001b[49m\u001b[38;5;241;43m.\u001b[39;49m\u001b[43mbuild\u001b[49m\u001b[43m(\u001b[49m\u001b[38;5;28;43mself\u001b[39;49m\u001b[38;5;241;43m.\u001b[39;49m\u001b[43mtree_\u001b[49m\u001b[43m,\u001b[49m\u001b[43m \u001b[49m\u001b[43mX\u001b[49m\u001b[43m,\u001b[49m\u001b[43m \u001b[49m\u001b[43my\u001b[49m\u001b[43m,\u001b[49m\u001b[43m \u001b[49m\u001b[43msample_weight\u001b[49m\u001b[43m)\u001b[49m\n\u001b[0;32m    381\u001b[0m \u001b[38;5;28;01mif\u001b[39;00m \u001b[38;5;28mself\u001b[39m\u001b[38;5;241m.\u001b[39mn_outputs_ \u001b[38;5;241m==\u001b[39m \u001b[38;5;241m1\u001b[39m \u001b[38;5;129;01mand\u001b[39;00m is_classifier(\u001b[38;5;28mself\u001b[39m):\n\u001b[0;32m    382\u001b[0m     \u001b[38;5;28mself\u001b[39m\u001b[38;5;241m.\u001b[39mn_classes_ \u001b[38;5;241m=\u001b[39m \u001b[38;5;28mself\u001b[39m\u001b[38;5;241m.\u001b[39mn_classes_[\u001b[38;5;241m0\u001b[39m]\n",
      "\u001b[1;31mKeyboardInterrupt\u001b[0m: "
     ]
    }
   ],
   "source": [
    "###################### MODEL 6 : Ada Boosting Classifier ##########################\n",
    "\n",
    "from sklearn.ensemble import AdaBoostClassifier\n",
    "\n",
    "# Create and train the AdaBoost classifier for 'Attack'\n",
    "adaboost_attack = AdaBoostClassifier()\n",
    "adaboost_attack.fit(X_train, y1_train)\n",
    "\n",
    "# Create and train the AdaBoost classifier for 'AttackSubType'\n",
    "adaboost_subattack = AdaBoostClassifier()\n",
    "adaboost_subattack.fit(X_train, y2_train)\n",
    "\n",
    "# Make predictions for 'Attack'\n",
    "y_attack_pred_adaboost = adaboost_attack.predict(X_test)\n",
    "\n",
    "# Evaluate the performance of the classifier for 'Attack'\n",
    "accuracy_attack = accuracy_score(y1_test, y_attack_pred_adaboost)\n",
    "print(\"Accuracy (Attack):\", accuracy_attack)\n",
    "\n",
    "# Make predictions for 'AttackSubType'\n",
    "y_subAttack_pred_adaboost = adaboost_subattack.predict(X_test)\n",
    "\n",
    "# Evaluate the performance of the classifier for 'AttackSubType'\n",
    "accuracy_subattack = accuracy_score(y2_test, y_subAttack_pred_adaboost)\n",
    "print(\"Accuracy (AttackSubType):\", accuracy_subattack)"
   ]
  },
  {
   "cell_type": "code",
   "execution_count": 39,
   "metadata": {},
   "outputs": [],
   "source": [
    "###################### MODEL 7 : SVM ##########################\n",
    "\n",
    "\n",
    "from sklearn.svm import SVC\n",
    "\n",
    "# Create and train the SVM classifier for 'Attack'\n",
    "svm_attack = SVC(probability=True)\n",
    "svm_attack.fit(X_train, y1_train)\n",
    "\n",
    "# Create and train the SVM classifier for 'AttackSubType'\n",
    "svm_subattack = SVC(probability=True)\n",
    "svm_subattack.fit(X_train, y2_train)\n",
    "\n",
    "# Make predictions for 'Attack'\n",
    "y_attack_pred_svm = svm_attack.predict(X_test)\n",
    "\n",
    "# Evaluate the performance of the classifier for 'Attack'\n",
    "accuracy_attack = accuracy_score(y1_test, y_attack_pred_svm)\n",
    "print(\"Accuracy (Attack):\", accuracy_attack)\n",
    "\n",
    "# Make predictions for 'AttackSubType'\n",
    "y_subAttack_pred_svm = svm_subattack.predict(X_test)\n",
    "\n",
    "# Evaluate the performance of the classifier for 'AttackSubType'\n",
    "accuracy_subattack = accuracy_score(y2_test, y_subAttack_pred_svm)\n",
    "print(\"Accuracy (AttackSubType):\", accuracy_subattack)"
   ]
  },
  {
   "cell_type": "code",
   "execution_count": null,
   "metadata": {},
   "outputs": [],
   "source": [
    "###################### MODEL 8 : MLPClassifier ##########################\n",
    "\n",
    "from sklearn.neural_network import MLPClassifier\n",
    "\n",
    "# Create and train the MLP classifier for 'Attack'\n",
    "mlp_attack = MLPClassifier(max_iter=10000)\n",
    "mlp_attack.fit(X_train, y1_train)\n",
    "\n",
    "# Create and train the MLP classifier for 'AttackSubType'\n",
    "mlp_subattack = MLPClassifier()\n",
    "mlp_subattack.fit(X_train, y2_train)\n",
    "\n",
    "# Make predictions for 'Attack'\n",
    "y_attack_pred_mlp = mlp_attack.predict(X_test)\n",
    "\n",
    "# Evaluate the performance of the classifier for 'Attack'\n",
    "accuracy_attack = accuracy_score(y1_test, y_attack_pred_mlp)\n",
    "print(\"Accuracy (Attack):\", accuracy_attack)\n",
    "\n",
    "# Make predictions for 'AttackSubType'\n",
    "y_subAttack_pred_mlp = mlp_subattack.predict(X_test)\n",
    "\n",
    "# Evaluate the performance of the classifier for 'AttackSubType'\n",
    "accuracy_subattack = accuracy_score(y2_test, y_subAttack_pred_mlp)\n",
    "print(\"Accuracy (AttackSubType):\", accuracy_subattack)"
   ]
  },
  {
   "cell_type": "code",
   "execution_count": 38,
   "metadata": {},
   "outputs": [],
   "source": [
    "############################ Creating ENSEMBLE model ###########################\n",
    "from sklearn.naive_bayes import GaussianNB\n",
    "from sklearn.tree import DecisionTreeClassifier\n",
    "from sklearn.ensemble import RandomForestClassifier\n",
    "from sklearn.metrics import precision_score, recall_score\n",
    "from sklearn.metrics import accuracy_score\n",
    "\n",
    "# Define the models\n",
    "models = {\n",
    "    'Decision Tree': DecisionTreeClassifier(max_depth=10, random_state=42),\n",
    "    'Random Forest': RandomForestClassifier(n_estimators=100, n_jobs=-1, max_depth=10, random_state=42),\n",
    "    'Gaussian Naive Bayes': GaussianNB()\n",
    "}\n",
    "\n",
    "attack_results = []\n",
    "\n",
    "# Train, test and evaluate each model\n",
    "for name, attack_model in models.items():\n",
    "    attack_model.fit(X_train, y1_train)\n",
    "\n",
    "    # selecting important features only to make model efficient\n",
    "\n",
    "    # Get feature importances\n",
    "    #importances = attack_model.feature_importances_\n",
    "\n",
    "    # Sort feature importances in descending order\n",
    "    #indices = np.argsort(importances)[::-1]\n",
    "\n",
    "    # Select the top k most important features\n",
    "    #k = 5  # Adjust the number of features you want to select\n",
    "    #selected_features_indices = indices[:k]\n",
    "    #selected_features = X_train.columns[selected_features_indices]\n",
    "\n",
    "    #attack_model.fit(X_train[selected_features], y1_train)\n",
    "\n",
    "    # Make predictions for 'Attack'\n",
    "    #y1_pred_RF = attack_model.predict(X_test[selected_features])\n",
    "\n",
    "    #### ends feature selection\n",
    "    y_pred = attack_model.predict(X_test)\n",
    "\n",
    "    accuracy = accuracy_score(y1_test, y_pred)\n",
    "    precision = precision_score(y1_test, y_pred, average='weighted')\n",
    "    recall = recall_score(y1_test, y_pred, average='weighted')\n",
    "\n",
    "    attack_results.append({\n",
    "\n",
    "        'Model': name,\n",
    "        'Accuracy': accuracy,\n",
    "        'Precision': precision,\n",
    "        'Recall': recall\n",
    "    })"
   ]
  },
  {
   "cell_type": "code",
   "execution_count": 39,
   "metadata": {},
   "outputs": [
    {
     "name": "stdout",
     "output_type": "stream",
     "text": [
      "Results for Attack Type :\n"
     ]
    },
    {
     "data": {
      "text/html": [
       "<div>\n",
       "<style scoped>\n",
       "    .dataframe tbody tr th:only-of-type {\n",
       "        vertical-align: middle;\n",
       "    }\n",
       "\n",
       "    .dataframe tbody tr th {\n",
       "        vertical-align: top;\n",
       "    }\n",
       "\n",
       "    .dataframe thead th {\n",
       "        text-align: right;\n",
       "    }\n",
       "</style>\n",
       "<table border=\"1\" class=\"dataframe\">\n",
       "  <thead>\n",
       "    <tr style=\"text-align: right;\">\n",
       "      <th></th>\n",
       "      <th>Model</th>\n",
       "      <th>Accuracy</th>\n",
       "      <th>Precision</th>\n",
       "      <th>Recall</th>\n",
       "    </tr>\n",
       "  </thead>\n",
       "  <tbody>\n",
       "    <tr>\n",
       "      <th>0</th>\n",
       "      <td>Decision Tree</td>\n",
       "      <td>1.000000</td>\n",
       "      <td>1.000000</td>\n",
       "      <td>1.000000</td>\n",
       "    </tr>\n",
       "    <tr>\n",
       "      <th>1</th>\n",
       "      <td>Random Forest</td>\n",
       "      <td>1.000000</td>\n",
       "      <td>1.000000</td>\n",
       "      <td>1.000000</td>\n",
       "    </tr>\n",
       "    <tr>\n",
       "      <th>2</th>\n",
       "      <td>Gaussian Naive Bayes</td>\n",
       "      <td>0.762436</td>\n",
       "      <td>0.846874</td>\n",
       "      <td>0.762436</td>\n",
       "    </tr>\n",
       "  </tbody>\n",
       "</table>\n",
       "</div>"
      ],
      "text/plain": [
       "                  Model  Accuracy  Precision    Recall\n",
       "0         Decision Tree  1.000000   1.000000  1.000000\n",
       "1         Random Forest  1.000000   1.000000  1.000000\n",
       "2  Gaussian Naive Bayes  0.762436   0.846874  0.762436"
      ]
     },
     "execution_count": 39,
     "metadata": {},
     "output_type": "execute_result"
    }
   ],
   "source": [
    "# Convert the results to a DataFrame and sort by Accuracy\n",
    "final_results_df = pd.DataFrame(attack_results).sort_values(by='Accuracy', ascending=False)\n",
    "\n",
    "# Display the results\n",
    "print(\"Results for Attack Type :\")\n",
    "final_results_df.head(10)"
   ]
  },
  {
   "cell_type": "code",
   "execution_count": 40,
   "metadata": {},
   "outputs": [],
   "source": [
    "# Creating a combined ensemble model using all other models\n",
    "from sklearn.ensemble import StackingClassifier\n",
    "\n",
    "attack_ensemble_results =[]\n",
    "\n",
    "attack_ensemble_model = StackingClassifier(estimators=[(name, models[name])])\n",
    "attack_ensemble_model.fit(X_train, y1_train)\n",
    "y_pred_ensemble = attack_ensemble_model.predict(X_test)\n",
    "\n",
    "# Evaluate the ensemble model\n",
    "accuracy_ensemble = accuracy_score(y1_test, y_pred_ensemble)\n",
    "precision_ensemble = precision_score(y1_test, y_pred_ensemble, average='weighted')\n",
    "recall_ensemble = recall_score(y1_test, y_pred_ensemble, average='weighted')\n",
    "\n",
    "# Add the ensemble model's results to the results list\n",
    "attack_ensemble_results.append({\n",
    "    'Model': 'Ensemble Model',\n",
    "    'Accuracy': accuracy_ensemble,\n",
    "    'Precision': precision_ensemble,\n",
    "    'Recall': recall_ensemble\n",
    "})"
   ]
  },
  {
   "cell_type": "code",
   "execution_count": 41,
   "metadata": {},
   "outputs": [
    {
     "name": "stdout",
     "output_type": "stream",
     "text": [
      "Results for Attack Type ensemble model:\n"
     ]
    },
    {
     "data": {
      "text/html": [
       "<div>\n",
       "<style scoped>\n",
       "    .dataframe tbody tr th:only-of-type {\n",
       "        vertical-align: middle;\n",
       "    }\n",
       "\n",
       "    .dataframe tbody tr th {\n",
       "        vertical-align: top;\n",
       "    }\n",
       "\n",
       "    .dataframe thead th {\n",
       "        text-align: right;\n",
       "    }\n",
       "</style>\n",
       "<table border=\"1\" class=\"dataframe\">\n",
       "  <thead>\n",
       "    <tr style=\"text-align: right;\">\n",
       "      <th></th>\n",
       "      <th>Model</th>\n",
       "      <th>Accuracy</th>\n",
       "      <th>Precision</th>\n",
       "      <th>Recall</th>\n",
       "    </tr>\n",
       "  </thead>\n",
       "  <tbody>\n",
       "    <tr>\n",
       "      <th>0</th>\n",
       "      <td>Ensemble Model</td>\n",
       "      <td>0.762273</td>\n",
       "      <td>0.846579</td>\n",
       "      <td>0.762273</td>\n",
       "    </tr>\n",
       "  </tbody>\n",
       "</table>\n",
       "</div>"
      ],
      "text/plain": [
       "            Model  Accuracy  Precision    Recall\n",
       "0  Ensemble Model  0.762273   0.846579  0.762273"
      ]
     },
     "execution_count": 41,
     "metadata": {},
     "output_type": "execute_result"
    }
   ],
   "source": [
    "# Convert the results to a DataFrame and sort by Accuracy\n",
    "en_final_results_df = pd.DataFrame(attack_ensemble_results).sort_values(by='Accuracy', ascending=False)\n",
    "\n",
    "# Display the results\n",
    "print(\"Results for Attack Type ensemble model:\")\n",
    "en_final_results_df.head(10)"
   ]
  },
  {
   "cell_type": "code",
   "execution_count": 44,
   "metadata": {},
   "outputs": [],
   "source": [
    "# Save ensemble model to the disk\n",
    "import pickle\n",
    "file_path= 'attack_ensemble_model.sav'\n",
    "with open(file_path, 'wb') as file:\n",
    "    pickle.dump(attack_ensemble_model, file)\n"
   ]
  },
  {
   "cell_type": "code",
   "execution_count": 42,
   "metadata": {},
   "outputs": [],
   "source": [
    "############################ Creating ENSEMBLE model for subattack type ###########################\n",
    "from sklearn.naive_bayes import GaussianNB\n",
    "from sklearn.tree import DecisionTreeClassifier\n",
    "from sklearn.ensemble import RandomForestClassifier\n",
    "from sklearn.metrics import precision_score, recall_score\n",
    "from sklearn.metrics import accuracy_score\n",
    "\n",
    "# Define the models\n",
    "models = {\n",
    "    'Decision Tree': DecisionTreeClassifier(max_depth=10, random_state=42),\n",
    "    'Random Forest': RandomForestClassifier(n_estimators=100, n_jobs=-1, max_depth=10, random_state=42),\n",
    "    'Gaussian Naive Bayes': GaussianNB()\n",
    "}\n",
    "\n",
    "sub_attack_results = []\n",
    "\n",
    "# Train, test and evaluate each model\n",
    "for name, sub_attack_model in models.items():\n",
    "    sub_attack_model.fit(X_train, y2_train)\n",
    "\n",
    "    # selecting important features only to make model efficient\n",
    "\n",
    "    # Get feature importances\n",
    "    #importances = attack_model.feature_importances_\n",
    "\n",
    "    # Sort feature importances in descending order\n",
    "    #indices = np.argsort(importances)[::-1]\n",
    "\n",
    "    # Select the top k most important features\n",
    "    #k = 5  # Adjust the number of features you want to select\n",
    "    #selected_features_indices = indices[:k]\n",
    "    #selected_features = X_train.columns[selected_features_indices]\n",
    "\n",
    "    #attack_model.fit(X_train[selected_features], y1_train)\n",
    "\n",
    "    # Make predictions for 'Attack'\n",
    "    #y1_pred_RF = attack_model.predict(X_test[selected_features])\n",
    "\n",
    "    #### ends feature selection\n",
    "    y2_pred = sub_attack_model.predict(X_test)\n",
    "\n",
    "    accuracy = accuracy_score(y2_test, y2_pred)\n",
    "    precision = precision_score(y2_test, y2_pred, average='weighted')\n",
    "    recall = recall_score(y2_test, y2_pred, average='weighted')\n",
    "\n",
    "    sub_attack_results.append({\n",
    "\n",
    "        'Model': name,\n",
    "        'Accuracy': accuracy,\n",
    "        'Precision': precision,\n",
    "        'Recall': recall\n",
    "    })"
   ]
  },
  {
   "cell_type": "code",
   "execution_count": 43,
   "metadata": {},
   "outputs": [
    {
     "name": "stdout",
     "output_type": "stream",
     "text": [
      "Results for Sub Attack Type :\n"
     ]
    },
    {
     "data": {
      "text/html": [
       "<div>\n",
       "<style scoped>\n",
       "    .dataframe tbody tr th:only-of-type {\n",
       "        vertical-align: middle;\n",
       "    }\n",
       "\n",
       "    .dataframe tbody tr th {\n",
       "        vertical-align: top;\n",
       "    }\n",
       "\n",
       "    .dataframe thead th {\n",
       "        text-align: right;\n",
       "    }\n",
       "</style>\n",
       "<table border=\"1\" class=\"dataframe\">\n",
       "  <thead>\n",
       "    <tr style=\"text-align: right;\">\n",
       "      <th></th>\n",
       "      <th>Model</th>\n",
       "      <th>Accuracy</th>\n",
       "      <th>Precision</th>\n",
       "      <th>Recall</th>\n",
       "    </tr>\n",
       "  </thead>\n",
       "  <tbody>\n",
       "    <tr>\n",
       "      <th>1</th>\n",
       "      <td>Random Forest</td>\n",
       "      <td>0.888768</td>\n",
       "      <td>0.897045</td>\n",
       "      <td>0.888768</td>\n",
       "    </tr>\n",
       "    <tr>\n",
       "      <th>0</th>\n",
       "      <td>Decision Tree</td>\n",
       "      <td>0.879297</td>\n",
       "      <td>0.887583</td>\n",
       "      <td>0.879297</td>\n",
       "    </tr>\n",
       "    <tr>\n",
       "      <th>2</th>\n",
       "      <td>Gaussian Naive Bayes</td>\n",
       "      <td>0.569628</td>\n",
       "      <td>0.474223</td>\n",
       "      <td>0.569628</td>\n",
       "    </tr>\n",
       "  </tbody>\n",
       "</table>\n",
       "</div>"
      ],
      "text/plain": [
       "                  Model  Accuracy  Precision    Recall\n",
       "1         Random Forest  0.888768   0.897045  0.888768\n",
       "0         Decision Tree  0.879297   0.887583  0.879297\n",
       "2  Gaussian Naive Bayes  0.569628   0.474223  0.569628"
      ]
     },
     "execution_count": 43,
     "metadata": {},
     "output_type": "execute_result"
    }
   ],
   "source": [
    "# Convert the results to a DataFrame and sort by Accuracy\n",
    "final_sub_results_df = pd.DataFrame(sub_attack_results).sort_values(by='Accuracy', ascending=False)\n",
    "\n",
    "# Display the results\n",
    "print(\"Results for Sub Attack Type :\")\n",
    "final_sub_results_df.head(10)"
   ]
  },
  {
   "cell_type": "code",
   "execution_count": 44,
   "metadata": {},
   "outputs": [
    {
     "name": "stdout",
     "output_type": "stream",
     "text": [
      "Models used in the ensemble: Random Forest, Decision Tree\n"
     ]
    }
   ],
   "source": [
    "# Get the top 3 models\n",
    "top_models = final_sub_results_df.head(2)['Model'].tolist()\n",
    "\n",
    "# Print the names of the models used in the ensemble\n",
    "print(f\"Models used in the ensemble: {', '.join(top_models)}\")\n"
   ]
  },
  {
   "cell_type": "code",
   "execution_count": 45,
   "metadata": {},
   "outputs": [
    {
     "name": "stderr",
     "output_type": "stream",
     "text": [
      "c:\\Users\\Dell\\AppData\\Local\\Programs\\Python\\Python38\\lib\\site-packages\\joblib\\externals\\loky\\process_executor.py:700: UserWarning: A worker stopped while some jobs were given to the executor. This can be caused by a too short worker timeout or by a memory leak.\n",
      "  warnings.warn(\n"
     ]
    },
    {
     "ename": "KeyboardInterrupt",
     "evalue": "",
     "output_type": "error",
     "traceback": [
      "\u001b[1;31m---------------------------------------------------------------------------\u001b[0m",
      "\u001b[1;31mKeyboardInterrupt\u001b[0m                         Traceback (most recent call last)",
      "Cell \u001b[1;32mIn[45], line 8\u001b[0m\n\u001b[0;32m      5\u001b[0m sub_attack_ensemble_results \u001b[38;5;241m=\u001b[39m[]\n\u001b[0;32m      7\u001b[0m sub_attack_ensemble_model \u001b[38;5;241m=\u001b[39m StackingClassifier(estimators\u001b[38;5;241m=\u001b[39m[(name, models[name]) \u001b[38;5;28;01mfor\u001b[39;00m name \u001b[38;5;129;01min\u001b[39;00m top_models])\n\u001b[1;32m----> 8\u001b[0m \u001b[43msub_attack_ensemble_model\u001b[49m\u001b[38;5;241;43m.\u001b[39;49m\u001b[43mfit\u001b[49m\u001b[43m(\u001b[49m\u001b[43mX_train\u001b[49m\u001b[43m,\u001b[49m\u001b[43m \u001b[49m\u001b[43my2_train\u001b[49m\u001b[43m)\u001b[49m\n\u001b[0;32m      9\u001b[0m y_sub_pred_ensemble \u001b[38;5;241m=\u001b[39m sub_attack_ensemble_model\u001b[38;5;241m.\u001b[39mpredict(X_test)\n\u001b[0;32m     11\u001b[0m \u001b[38;5;66;03m# Evaluate the ensemble model\u001b[39;00m\n",
      "File \u001b[1;32mc:\\Users\\Dell\\AppData\\Local\\Programs\\Python\\Python38\\lib\\site-packages\\sklearn\\ensemble\\_stacking.py:660\u001b[0m, in \u001b[0;36mStackingClassifier.fit\u001b[1;34m(self, X, y, sample_weight)\u001b[0m\n\u001b[0;32m    658\u001b[0m     \u001b[38;5;28mself\u001b[39m\u001b[38;5;241m.\u001b[39mclasses_ \u001b[38;5;241m=\u001b[39m \u001b[38;5;28mself\u001b[39m\u001b[38;5;241m.\u001b[39m_label_encoder\u001b[38;5;241m.\u001b[39mclasses_\n\u001b[0;32m    659\u001b[0m     y_encoded \u001b[38;5;241m=\u001b[39m \u001b[38;5;28mself\u001b[39m\u001b[38;5;241m.\u001b[39m_label_encoder\u001b[38;5;241m.\u001b[39mtransform(y)\n\u001b[1;32m--> 660\u001b[0m \u001b[38;5;28;01mreturn\u001b[39;00m \u001b[38;5;28;43msuper\u001b[39;49m\u001b[43m(\u001b[49m\u001b[43m)\u001b[49m\u001b[38;5;241;43m.\u001b[39;49m\u001b[43mfit\u001b[49m\u001b[43m(\u001b[49m\u001b[43mX\u001b[49m\u001b[43m,\u001b[49m\u001b[43m \u001b[49m\u001b[43my_encoded\u001b[49m\u001b[43m,\u001b[49m\u001b[43m \u001b[49m\u001b[43msample_weight\u001b[49m\u001b[43m)\u001b[49m\n",
      "File \u001b[1;32mc:\\Users\\Dell\\AppData\\Local\\Programs\\Python\\Python38\\lib\\site-packages\\sklearn\\ensemble\\_stacking.py:252\u001b[0m, in \u001b[0;36m_BaseStacking.fit\u001b[1;34m(self, X, y, sample_weight)\u001b[0m\n\u001b[0;32m    247\u001b[0m         cv\u001b[38;5;241m.\u001b[39mrandom_state \u001b[38;5;241m=\u001b[39m np\u001b[38;5;241m.\u001b[39mrandom\u001b[38;5;241m.\u001b[39mRandomState()\n\u001b[0;32m    249\u001b[0m     fit_params \u001b[38;5;241m=\u001b[39m (\n\u001b[0;32m    250\u001b[0m         {\u001b[38;5;124m\"\u001b[39m\u001b[38;5;124msample_weight\u001b[39m\u001b[38;5;124m\"\u001b[39m: sample_weight} \u001b[38;5;28;01mif\u001b[39;00m sample_weight \u001b[38;5;129;01mis\u001b[39;00m \u001b[38;5;129;01mnot\u001b[39;00m \u001b[38;5;28;01mNone\u001b[39;00m \u001b[38;5;28;01melse\u001b[39;00m \u001b[38;5;28;01mNone\u001b[39;00m\n\u001b[0;32m    251\u001b[0m     )\n\u001b[1;32m--> 252\u001b[0m     predictions \u001b[38;5;241m=\u001b[39m \u001b[43mParallel\u001b[49m\u001b[43m(\u001b[49m\u001b[43mn_jobs\u001b[49m\u001b[38;5;241;43m=\u001b[39;49m\u001b[38;5;28;43mself\u001b[39;49m\u001b[38;5;241;43m.\u001b[39;49m\u001b[43mn_jobs\u001b[49m\u001b[43m)\u001b[49m\u001b[43m(\u001b[49m\n\u001b[0;32m    253\u001b[0m \u001b[43m        \u001b[49m\u001b[43mdelayed\u001b[49m\u001b[43m(\u001b[49m\u001b[43mcross_val_predict\u001b[49m\u001b[43m)\u001b[49m\u001b[43m(\u001b[49m\n\u001b[0;32m    254\u001b[0m \u001b[43m            \u001b[49m\u001b[43mclone\u001b[49m\u001b[43m(\u001b[49m\u001b[43mest\u001b[49m\u001b[43m)\u001b[49m\u001b[43m,\u001b[49m\n\u001b[0;32m    255\u001b[0m \u001b[43m            \u001b[49m\u001b[43mX\u001b[49m\u001b[43m,\u001b[49m\n\u001b[0;32m    256\u001b[0m \u001b[43m            \u001b[49m\u001b[43my\u001b[49m\u001b[43m,\u001b[49m\n\u001b[0;32m    257\u001b[0m \u001b[43m            \u001b[49m\u001b[43mcv\u001b[49m\u001b[38;5;241;43m=\u001b[39;49m\u001b[43mdeepcopy\u001b[49m\u001b[43m(\u001b[49m\u001b[43mcv\u001b[49m\u001b[43m)\u001b[49m\u001b[43m,\u001b[49m\n\u001b[0;32m    258\u001b[0m \u001b[43m            \u001b[49m\u001b[43mmethod\u001b[49m\u001b[38;5;241;43m=\u001b[39;49m\u001b[43mmeth\u001b[49m\u001b[43m,\u001b[49m\n\u001b[0;32m    259\u001b[0m \u001b[43m            \u001b[49m\u001b[43mn_jobs\u001b[49m\u001b[38;5;241;43m=\u001b[39;49m\u001b[38;5;28;43mself\u001b[39;49m\u001b[38;5;241;43m.\u001b[39;49m\u001b[43mn_jobs\u001b[49m\u001b[43m,\u001b[49m\n\u001b[0;32m    260\u001b[0m \u001b[43m            \u001b[49m\u001b[43mfit_params\u001b[49m\u001b[38;5;241;43m=\u001b[39;49m\u001b[43mfit_params\u001b[49m\u001b[43m,\u001b[49m\n\u001b[0;32m    261\u001b[0m \u001b[43m            \u001b[49m\u001b[43mverbose\u001b[49m\u001b[38;5;241;43m=\u001b[39;49m\u001b[38;5;28;43mself\u001b[39;49m\u001b[38;5;241;43m.\u001b[39;49m\u001b[43mverbose\u001b[49m\u001b[43m,\u001b[49m\n\u001b[0;32m    262\u001b[0m \u001b[43m        \u001b[49m\u001b[43m)\u001b[49m\n\u001b[0;32m    263\u001b[0m \u001b[43m        \u001b[49m\u001b[38;5;28;43;01mfor\u001b[39;49;00m\u001b[43m \u001b[49m\u001b[43mest\u001b[49m\u001b[43m,\u001b[49m\u001b[43m \u001b[49m\u001b[43mmeth\u001b[49m\u001b[43m \u001b[49m\u001b[38;5;129;43;01min\u001b[39;49;00m\u001b[43m \u001b[49m\u001b[38;5;28;43mzip\u001b[39;49m\u001b[43m(\u001b[49m\u001b[43mall_estimators\u001b[49m\u001b[43m,\u001b[49m\u001b[43m \u001b[49m\u001b[38;5;28;43mself\u001b[39;49m\u001b[38;5;241;43m.\u001b[39;49m\u001b[43mstack_method_\u001b[49m\u001b[43m)\u001b[49m\n\u001b[0;32m    264\u001b[0m \u001b[43m        \u001b[49m\u001b[38;5;28;43;01mif\u001b[39;49;00m\u001b[43m \u001b[49m\u001b[43mest\u001b[49m\u001b[43m \u001b[49m\u001b[38;5;241;43m!=\u001b[39;49m\u001b[43m \u001b[49m\u001b[38;5;124;43m\"\u001b[39;49m\u001b[38;5;124;43mdrop\u001b[39;49m\u001b[38;5;124;43m\"\u001b[39;49m\n\u001b[0;32m    265\u001b[0m \u001b[43m    \u001b[49m\u001b[43m)\u001b[49m\n\u001b[0;32m    267\u001b[0m \u001b[38;5;66;03m# Only not None or not 'drop' estimators will be used in transform.\u001b[39;00m\n\u001b[0;32m    268\u001b[0m \u001b[38;5;66;03m# Remove the None from the method as well.\u001b[39;00m\n\u001b[0;32m    269\u001b[0m \u001b[38;5;28mself\u001b[39m\u001b[38;5;241m.\u001b[39mstack_method_ \u001b[38;5;241m=\u001b[39m [\n\u001b[0;32m    270\u001b[0m     meth\n\u001b[0;32m    271\u001b[0m     \u001b[38;5;28;01mfor\u001b[39;00m (meth, est) \u001b[38;5;129;01min\u001b[39;00m \u001b[38;5;28mzip\u001b[39m(\u001b[38;5;28mself\u001b[39m\u001b[38;5;241m.\u001b[39mstack_method_, all_estimators)\n\u001b[0;32m    272\u001b[0m     \u001b[38;5;28;01mif\u001b[39;00m est \u001b[38;5;241m!=\u001b[39m \u001b[38;5;124m\"\u001b[39m\u001b[38;5;124mdrop\u001b[39m\u001b[38;5;124m\"\u001b[39m\n\u001b[0;32m    273\u001b[0m ]\n",
      "File \u001b[1;32mc:\\Users\\Dell\\AppData\\Local\\Programs\\Python\\Python38\\lib\\site-packages\\sklearn\\utils\\parallel.py:63\u001b[0m, in \u001b[0;36mParallel.__call__\u001b[1;34m(self, iterable)\u001b[0m\n\u001b[0;32m     58\u001b[0m config \u001b[38;5;241m=\u001b[39m get_config()\n\u001b[0;32m     59\u001b[0m iterable_with_config \u001b[38;5;241m=\u001b[39m (\n\u001b[0;32m     60\u001b[0m     (_with_config(delayed_func, config), args, kwargs)\n\u001b[0;32m     61\u001b[0m     \u001b[38;5;28;01mfor\u001b[39;00m delayed_func, args, kwargs \u001b[38;5;129;01min\u001b[39;00m iterable\n\u001b[0;32m     62\u001b[0m )\n\u001b[1;32m---> 63\u001b[0m \u001b[38;5;28;01mreturn\u001b[39;00m \u001b[38;5;28;43msuper\u001b[39;49m\u001b[43m(\u001b[49m\u001b[43m)\u001b[49m\u001b[38;5;241;43m.\u001b[39;49m\u001b[38;5;21;43m__call__\u001b[39;49m\u001b[43m(\u001b[49m\u001b[43miterable_with_config\u001b[49m\u001b[43m)\u001b[49m\n",
      "File \u001b[1;32mc:\\Users\\Dell\\AppData\\Local\\Programs\\Python\\Python38\\lib\\site-packages\\joblib\\parallel.py:1085\u001b[0m, in \u001b[0;36mParallel.__call__\u001b[1;34m(self, iterable)\u001b[0m\n\u001b[0;32m   1076\u001b[0m \u001b[38;5;28;01mtry\u001b[39;00m:\n\u001b[0;32m   1077\u001b[0m     \u001b[38;5;66;03m# Only set self._iterating to True if at least a batch\u001b[39;00m\n\u001b[0;32m   1078\u001b[0m     \u001b[38;5;66;03m# was dispatched. In particular this covers the edge\u001b[39;00m\n\u001b[1;32m   (...)\u001b[0m\n\u001b[0;32m   1082\u001b[0m     \u001b[38;5;66;03m# was very quick and its callback already dispatched all the\u001b[39;00m\n\u001b[0;32m   1083\u001b[0m     \u001b[38;5;66;03m# remaining jobs.\u001b[39;00m\n\u001b[0;32m   1084\u001b[0m     \u001b[38;5;28mself\u001b[39m\u001b[38;5;241m.\u001b[39m_iterating \u001b[38;5;241m=\u001b[39m \u001b[38;5;28;01mFalse\u001b[39;00m\n\u001b[1;32m-> 1085\u001b[0m     \u001b[38;5;28;01mif\u001b[39;00m \u001b[38;5;28;43mself\u001b[39;49m\u001b[38;5;241;43m.\u001b[39;49m\u001b[43mdispatch_one_batch\u001b[49m\u001b[43m(\u001b[49m\u001b[43miterator\u001b[49m\u001b[43m)\u001b[49m:\n\u001b[0;32m   1086\u001b[0m         \u001b[38;5;28mself\u001b[39m\u001b[38;5;241m.\u001b[39m_iterating \u001b[38;5;241m=\u001b[39m \u001b[38;5;28mself\u001b[39m\u001b[38;5;241m.\u001b[39m_original_iterator \u001b[38;5;129;01mis\u001b[39;00m \u001b[38;5;129;01mnot\u001b[39;00m \u001b[38;5;28;01mNone\u001b[39;00m\n\u001b[0;32m   1088\u001b[0m     \u001b[38;5;28;01mwhile\u001b[39;00m \u001b[38;5;28mself\u001b[39m\u001b[38;5;241m.\u001b[39mdispatch_one_batch(iterator):\n",
      "File \u001b[1;32mc:\\Users\\Dell\\AppData\\Local\\Programs\\Python\\Python38\\lib\\site-packages\\joblib\\parallel.py:901\u001b[0m, in \u001b[0;36mParallel.dispatch_one_batch\u001b[1;34m(self, iterator)\u001b[0m\n\u001b[0;32m    899\u001b[0m     \u001b[38;5;28;01mreturn\u001b[39;00m \u001b[38;5;28;01mFalse\u001b[39;00m\n\u001b[0;32m    900\u001b[0m \u001b[38;5;28;01melse\u001b[39;00m:\n\u001b[1;32m--> 901\u001b[0m     \u001b[38;5;28;43mself\u001b[39;49m\u001b[38;5;241;43m.\u001b[39;49m\u001b[43m_dispatch\u001b[49m\u001b[43m(\u001b[49m\u001b[43mtasks\u001b[49m\u001b[43m)\u001b[49m\n\u001b[0;32m    902\u001b[0m     \u001b[38;5;28;01mreturn\u001b[39;00m \u001b[38;5;28;01mTrue\u001b[39;00m\n",
      "File \u001b[1;32mc:\\Users\\Dell\\AppData\\Local\\Programs\\Python\\Python38\\lib\\site-packages\\joblib\\parallel.py:819\u001b[0m, in \u001b[0;36mParallel._dispatch\u001b[1;34m(self, batch)\u001b[0m\n\u001b[0;32m    817\u001b[0m \u001b[38;5;28;01mwith\u001b[39;00m \u001b[38;5;28mself\u001b[39m\u001b[38;5;241m.\u001b[39m_lock:\n\u001b[0;32m    818\u001b[0m     job_idx \u001b[38;5;241m=\u001b[39m \u001b[38;5;28mlen\u001b[39m(\u001b[38;5;28mself\u001b[39m\u001b[38;5;241m.\u001b[39m_jobs)\n\u001b[1;32m--> 819\u001b[0m     job \u001b[38;5;241m=\u001b[39m \u001b[38;5;28;43mself\u001b[39;49m\u001b[38;5;241;43m.\u001b[39;49m\u001b[43m_backend\u001b[49m\u001b[38;5;241;43m.\u001b[39;49m\u001b[43mapply_async\u001b[49m\u001b[43m(\u001b[49m\u001b[43mbatch\u001b[49m\u001b[43m,\u001b[49m\u001b[43m \u001b[49m\u001b[43mcallback\u001b[49m\u001b[38;5;241;43m=\u001b[39;49m\u001b[43mcb\u001b[49m\u001b[43m)\u001b[49m\n\u001b[0;32m    820\u001b[0m     \u001b[38;5;66;03m# A job can complete so quickly than its callback is\u001b[39;00m\n\u001b[0;32m    821\u001b[0m     \u001b[38;5;66;03m# called before we get here, causing self._jobs to\u001b[39;00m\n\u001b[0;32m    822\u001b[0m     \u001b[38;5;66;03m# grow. To ensure correct results ordering, .insert is\u001b[39;00m\n\u001b[0;32m    823\u001b[0m     \u001b[38;5;66;03m# used (rather than .append) in the following line\u001b[39;00m\n\u001b[0;32m    824\u001b[0m     \u001b[38;5;28mself\u001b[39m\u001b[38;5;241m.\u001b[39m_jobs\u001b[38;5;241m.\u001b[39minsert(job_idx, job)\n",
      "File \u001b[1;32mc:\\Users\\Dell\\AppData\\Local\\Programs\\Python\\Python38\\lib\\site-packages\\joblib\\_parallel_backends.py:208\u001b[0m, in \u001b[0;36mSequentialBackend.apply_async\u001b[1;34m(self, func, callback)\u001b[0m\n\u001b[0;32m    206\u001b[0m \u001b[38;5;28;01mdef\u001b[39;00m \u001b[38;5;21mapply_async\u001b[39m(\u001b[38;5;28mself\u001b[39m, func, callback\u001b[38;5;241m=\u001b[39m\u001b[38;5;28;01mNone\u001b[39;00m):\n\u001b[0;32m    207\u001b[0m \u001b[38;5;250m    \u001b[39m\u001b[38;5;124;03m\"\"\"Schedule a func to be run\"\"\"\u001b[39;00m\n\u001b[1;32m--> 208\u001b[0m     result \u001b[38;5;241m=\u001b[39m \u001b[43mImmediateResult\u001b[49m\u001b[43m(\u001b[49m\u001b[43mfunc\u001b[49m\u001b[43m)\u001b[49m\n\u001b[0;32m    209\u001b[0m     \u001b[38;5;28;01mif\u001b[39;00m callback:\n\u001b[0;32m    210\u001b[0m         callback(result)\n",
      "File \u001b[1;32mc:\\Users\\Dell\\AppData\\Local\\Programs\\Python\\Python38\\lib\\site-packages\\joblib\\_parallel_backends.py:597\u001b[0m, in \u001b[0;36mImmediateResult.__init__\u001b[1;34m(self, batch)\u001b[0m\n\u001b[0;32m    594\u001b[0m \u001b[38;5;28;01mdef\u001b[39;00m \u001b[38;5;21m__init__\u001b[39m(\u001b[38;5;28mself\u001b[39m, batch):\n\u001b[0;32m    595\u001b[0m     \u001b[38;5;66;03m# Don't delay the application, to avoid keeping the input\u001b[39;00m\n\u001b[0;32m    596\u001b[0m     \u001b[38;5;66;03m# arguments in memory\u001b[39;00m\n\u001b[1;32m--> 597\u001b[0m     \u001b[38;5;28mself\u001b[39m\u001b[38;5;241m.\u001b[39mresults \u001b[38;5;241m=\u001b[39m \u001b[43mbatch\u001b[49m\u001b[43m(\u001b[49m\u001b[43m)\u001b[49m\n",
      "File \u001b[1;32mc:\\Users\\Dell\\AppData\\Local\\Programs\\Python\\Python38\\lib\\site-packages\\joblib\\parallel.py:288\u001b[0m, in \u001b[0;36mBatchedCalls.__call__\u001b[1;34m(self)\u001b[0m\n\u001b[0;32m    284\u001b[0m \u001b[38;5;28;01mdef\u001b[39;00m \u001b[38;5;21m__call__\u001b[39m(\u001b[38;5;28mself\u001b[39m):\n\u001b[0;32m    285\u001b[0m     \u001b[38;5;66;03m# Set the default nested backend to self._backend but do not set the\u001b[39;00m\n\u001b[0;32m    286\u001b[0m     \u001b[38;5;66;03m# change the default number of processes to -1\u001b[39;00m\n\u001b[0;32m    287\u001b[0m     \u001b[38;5;28;01mwith\u001b[39;00m parallel_backend(\u001b[38;5;28mself\u001b[39m\u001b[38;5;241m.\u001b[39m_backend, n_jobs\u001b[38;5;241m=\u001b[39m\u001b[38;5;28mself\u001b[39m\u001b[38;5;241m.\u001b[39m_n_jobs):\n\u001b[1;32m--> 288\u001b[0m         \u001b[38;5;28;01mreturn\u001b[39;00m [func(\u001b[38;5;241m*\u001b[39margs, \u001b[38;5;241m*\u001b[39m\u001b[38;5;241m*\u001b[39mkwargs)\n\u001b[0;32m    289\u001b[0m                 \u001b[38;5;28;01mfor\u001b[39;00m func, args, kwargs \u001b[38;5;129;01min\u001b[39;00m \u001b[38;5;28mself\u001b[39m\u001b[38;5;241m.\u001b[39mitems]\n",
      "File \u001b[1;32mc:\\Users\\Dell\\AppData\\Local\\Programs\\Python\\Python38\\lib\\site-packages\\joblib\\parallel.py:288\u001b[0m, in \u001b[0;36m<listcomp>\u001b[1;34m(.0)\u001b[0m\n\u001b[0;32m    284\u001b[0m \u001b[38;5;28;01mdef\u001b[39;00m \u001b[38;5;21m__call__\u001b[39m(\u001b[38;5;28mself\u001b[39m):\n\u001b[0;32m    285\u001b[0m     \u001b[38;5;66;03m# Set the default nested backend to self._backend but do not set the\u001b[39;00m\n\u001b[0;32m    286\u001b[0m     \u001b[38;5;66;03m# change the default number of processes to -1\u001b[39;00m\n\u001b[0;32m    287\u001b[0m     \u001b[38;5;28;01mwith\u001b[39;00m parallel_backend(\u001b[38;5;28mself\u001b[39m\u001b[38;5;241m.\u001b[39m_backend, n_jobs\u001b[38;5;241m=\u001b[39m\u001b[38;5;28mself\u001b[39m\u001b[38;5;241m.\u001b[39m_n_jobs):\n\u001b[1;32m--> 288\u001b[0m         \u001b[38;5;28;01mreturn\u001b[39;00m [\u001b[43mfunc\u001b[49m\u001b[43m(\u001b[49m\u001b[38;5;241;43m*\u001b[39;49m\u001b[43margs\u001b[49m\u001b[43m,\u001b[49m\u001b[43m \u001b[49m\u001b[38;5;241;43m*\u001b[39;49m\u001b[38;5;241;43m*\u001b[39;49m\u001b[43mkwargs\u001b[49m\u001b[43m)\u001b[49m\n\u001b[0;32m    289\u001b[0m                 \u001b[38;5;28;01mfor\u001b[39;00m func, args, kwargs \u001b[38;5;129;01min\u001b[39;00m \u001b[38;5;28mself\u001b[39m\u001b[38;5;241m.\u001b[39mitems]\n",
      "File \u001b[1;32mc:\\Users\\Dell\\AppData\\Local\\Programs\\Python\\Python38\\lib\\site-packages\\sklearn\\utils\\parallel.py:123\u001b[0m, in \u001b[0;36m_FuncWrapper.__call__\u001b[1;34m(self, *args, **kwargs)\u001b[0m\n\u001b[0;32m    121\u001b[0m     config \u001b[38;5;241m=\u001b[39m {}\n\u001b[0;32m    122\u001b[0m \u001b[38;5;28;01mwith\u001b[39;00m config_context(\u001b[38;5;241m*\u001b[39m\u001b[38;5;241m*\u001b[39mconfig):\n\u001b[1;32m--> 123\u001b[0m     \u001b[38;5;28;01mreturn\u001b[39;00m \u001b[38;5;28;43mself\u001b[39;49m\u001b[38;5;241;43m.\u001b[39;49m\u001b[43mfunction\u001b[49m\u001b[43m(\u001b[49m\u001b[38;5;241;43m*\u001b[39;49m\u001b[43margs\u001b[49m\u001b[43m,\u001b[49m\u001b[43m \u001b[49m\u001b[38;5;241;43m*\u001b[39;49m\u001b[38;5;241;43m*\u001b[39;49m\u001b[43mkwargs\u001b[49m\u001b[43m)\u001b[49m\n",
      "File \u001b[1;32mc:\\Users\\Dell\\AppData\\Local\\Programs\\Python\\Python38\\lib\\site-packages\\sklearn\\model_selection\\_validation.py:986\u001b[0m, in \u001b[0;36mcross_val_predict\u001b[1;34m(estimator, X, y, groups, cv, n_jobs, verbose, fit_params, pre_dispatch, method)\u001b[0m\n\u001b[0;32m    983\u001b[0m \u001b[38;5;66;03m# We clone the estimator to make sure that all the folds are\u001b[39;00m\n\u001b[0;32m    984\u001b[0m \u001b[38;5;66;03m# independent, and that it is pickle-able.\u001b[39;00m\n\u001b[0;32m    985\u001b[0m parallel \u001b[38;5;241m=\u001b[39m Parallel(n_jobs\u001b[38;5;241m=\u001b[39mn_jobs, verbose\u001b[38;5;241m=\u001b[39mverbose, pre_dispatch\u001b[38;5;241m=\u001b[39mpre_dispatch)\n\u001b[1;32m--> 986\u001b[0m predictions \u001b[38;5;241m=\u001b[39m \u001b[43mparallel\u001b[49m\u001b[43m(\u001b[49m\n\u001b[0;32m    987\u001b[0m \u001b[43m    \u001b[49m\u001b[43mdelayed\u001b[49m\u001b[43m(\u001b[49m\u001b[43m_fit_and_predict\u001b[49m\u001b[43m)\u001b[49m\u001b[43m(\u001b[49m\n\u001b[0;32m    988\u001b[0m \u001b[43m        \u001b[49m\u001b[43mclone\u001b[49m\u001b[43m(\u001b[49m\u001b[43mestimator\u001b[49m\u001b[43m)\u001b[49m\u001b[43m,\u001b[49m\u001b[43m \u001b[49m\u001b[43mX\u001b[49m\u001b[43m,\u001b[49m\u001b[43m \u001b[49m\u001b[43my\u001b[49m\u001b[43m,\u001b[49m\u001b[43m \u001b[49m\u001b[43mtrain\u001b[49m\u001b[43m,\u001b[49m\u001b[43m \u001b[49m\u001b[43mtest\u001b[49m\u001b[43m,\u001b[49m\u001b[43m \u001b[49m\u001b[43mverbose\u001b[49m\u001b[43m,\u001b[49m\u001b[43m \u001b[49m\u001b[43mfit_params\u001b[49m\u001b[43m,\u001b[49m\u001b[43m \u001b[49m\u001b[43mmethod\u001b[49m\n\u001b[0;32m    989\u001b[0m \u001b[43m    \u001b[49m\u001b[43m)\u001b[49m\n\u001b[0;32m    990\u001b[0m \u001b[43m    \u001b[49m\u001b[38;5;28;43;01mfor\u001b[39;49;00m\u001b[43m \u001b[49m\u001b[43mtrain\u001b[49m\u001b[43m,\u001b[49m\u001b[43m \u001b[49m\u001b[43mtest\u001b[49m\u001b[43m \u001b[49m\u001b[38;5;129;43;01min\u001b[39;49;00m\u001b[43m \u001b[49m\u001b[43msplits\u001b[49m\n\u001b[0;32m    991\u001b[0m \u001b[43m\u001b[49m\u001b[43m)\u001b[49m\n\u001b[0;32m    993\u001b[0m inv_test_indices \u001b[38;5;241m=\u001b[39m np\u001b[38;5;241m.\u001b[39mempty(\u001b[38;5;28mlen\u001b[39m(test_indices), dtype\u001b[38;5;241m=\u001b[39m\u001b[38;5;28mint\u001b[39m)\n\u001b[0;32m    994\u001b[0m inv_test_indices[test_indices] \u001b[38;5;241m=\u001b[39m np\u001b[38;5;241m.\u001b[39marange(\u001b[38;5;28mlen\u001b[39m(test_indices))\n",
      "File \u001b[1;32mc:\\Users\\Dell\\AppData\\Local\\Programs\\Python\\Python38\\lib\\site-packages\\sklearn\\utils\\parallel.py:63\u001b[0m, in \u001b[0;36mParallel.__call__\u001b[1;34m(self, iterable)\u001b[0m\n\u001b[0;32m     58\u001b[0m config \u001b[38;5;241m=\u001b[39m get_config()\n\u001b[0;32m     59\u001b[0m iterable_with_config \u001b[38;5;241m=\u001b[39m (\n\u001b[0;32m     60\u001b[0m     (_with_config(delayed_func, config), args, kwargs)\n\u001b[0;32m     61\u001b[0m     \u001b[38;5;28;01mfor\u001b[39;00m delayed_func, args, kwargs \u001b[38;5;129;01min\u001b[39;00m iterable\n\u001b[0;32m     62\u001b[0m )\n\u001b[1;32m---> 63\u001b[0m \u001b[38;5;28;01mreturn\u001b[39;00m \u001b[38;5;28;43msuper\u001b[39;49m\u001b[43m(\u001b[49m\u001b[43m)\u001b[49m\u001b[38;5;241;43m.\u001b[39;49m\u001b[38;5;21;43m__call__\u001b[39;49m\u001b[43m(\u001b[49m\u001b[43miterable_with_config\u001b[49m\u001b[43m)\u001b[49m\n",
      "File \u001b[1;32mc:\\Users\\Dell\\AppData\\Local\\Programs\\Python\\Python38\\lib\\site-packages\\joblib\\parallel.py:1088\u001b[0m, in \u001b[0;36mParallel.__call__\u001b[1;34m(self, iterable)\u001b[0m\n\u001b[0;32m   1085\u001b[0m \u001b[38;5;28;01mif\u001b[39;00m \u001b[38;5;28mself\u001b[39m\u001b[38;5;241m.\u001b[39mdispatch_one_batch(iterator):\n\u001b[0;32m   1086\u001b[0m     \u001b[38;5;28mself\u001b[39m\u001b[38;5;241m.\u001b[39m_iterating \u001b[38;5;241m=\u001b[39m \u001b[38;5;28mself\u001b[39m\u001b[38;5;241m.\u001b[39m_original_iterator \u001b[38;5;129;01mis\u001b[39;00m \u001b[38;5;129;01mnot\u001b[39;00m \u001b[38;5;28;01mNone\u001b[39;00m\n\u001b[1;32m-> 1088\u001b[0m \u001b[38;5;28;01mwhile\u001b[39;00m \u001b[38;5;28;43mself\u001b[39;49m\u001b[38;5;241;43m.\u001b[39;49m\u001b[43mdispatch_one_batch\u001b[49m\u001b[43m(\u001b[49m\u001b[43miterator\u001b[49m\u001b[43m)\u001b[49m:\n\u001b[0;32m   1089\u001b[0m     \u001b[38;5;28;01mpass\u001b[39;00m\n\u001b[0;32m   1091\u001b[0m \u001b[38;5;28;01mif\u001b[39;00m pre_dispatch \u001b[38;5;241m==\u001b[39m \u001b[38;5;124m\"\u001b[39m\u001b[38;5;124mall\u001b[39m\u001b[38;5;124m\"\u001b[39m \u001b[38;5;129;01mor\u001b[39;00m n_jobs \u001b[38;5;241m==\u001b[39m \u001b[38;5;241m1\u001b[39m:\n\u001b[0;32m   1092\u001b[0m     \u001b[38;5;66;03m# The iterable was consumed all at once by the above for loop.\u001b[39;00m\n\u001b[0;32m   1093\u001b[0m     \u001b[38;5;66;03m# No need to wait for async callbacks to trigger to\u001b[39;00m\n\u001b[0;32m   1094\u001b[0m     \u001b[38;5;66;03m# consumption.\u001b[39;00m\n",
      "File \u001b[1;32mc:\\Users\\Dell\\AppData\\Local\\Programs\\Python\\Python38\\lib\\site-packages\\joblib\\parallel.py:901\u001b[0m, in \u001b[0;36mParallel.dispatch_one_batch\u001b[1;34m(self, iterator)\u001b[0m\n\u001b[0;32m    899\u001b[0m     \u001b[38;5;28;01mreturn\u001b[39;00m \u001b[38;5;28;01mFalse\u001b[39;00m\n\u001b[0;32m    900\u001b[0m \u001b[38;5;28;01melse\u001b[39;00m:\n\u001b[1;32m--> 901\u001b[0m     \u001b[38;5;28;43mself\u001b[39;49m\u001b[38;5;241;43m.\u001b[39;49m\u001b[43m_dispatch\u001b[49m\u001b[43m(\u001b[49m\u001b[43mtasks\u001b[49m\u001b[43m)\u001b[49m\n\u001b[0;32m    902\u001b[0m     \u001b[38;5;28;01mreturn\u001b[39;00m \u001b[38;5;28;01mTrue\u001b[39;00m\n",
      "File \u001b[1;32mc:\\Users\\Dell\\AppData\\Local\\Programs\\Python\\Python38\\lib\\site-packages\\joblib\\parallel.py:819\u001b[0m, in \u001b[0;36mParallel._dispatch\u001b[1;34m(self, batch)\u001b[0m\n\u001b[0;32m    817\u001b[0m \u001b[38;5;28;01mwith\u001b[39;00m \u001b[38;5;28mself\u001b[39m\u001b[38;5;241m.\u001b[39m_lock:\n\u001b[0;32m    818\u001b[0m     job_idx \u001b[38;5;241m=\u001b[39m \u001b[38;5;28mlen\u001b[39m(\u001b[38;5;28mself\u001b[39m\u001b[38;5;241m.\u001b[39m_jobs)\n\u001b[1;32m--> 819\u001b[0m     job \u001b[38;5;241m=\u001b[39m \u001b[38;5;28;43mself\u001b[39;49m\u001b[38;5;241;43m.\u001b[39;49m\u001b[43m_backend\u001b[49m\u001b[38;5;241;43m.\u001b[39;49m\u001b[43mapply_async\u001b[49m\u001b[43m(\u001b[49m\u001b[43mbatch\u001b[49m\u001b[43m,\u001b[49m\u001b[43m \u001b[49m\u001b[43mcallback\u001b[49m\u001b[38;5;241;43m=\u001b[39;49m\u001b[43mcb\u001b[49m\u001b[43m)\u001b[49m\n\u001b[0;32m    820\u001b[0m     \u001b[38;5;66;03m# A job can complete so quickly than its callback is\u001b[39;00m\n\u001b[0;32m    821\u001b[0m     \u001b[38;5;66;03m# called before we get here, causing self._jobs to\u001b[39;00m\n\u001b[0;32m    822\u001b[0m     \u001b[38;5;66;03m# grow. To ensure correct results ordering, .insert is\u001b[39;00m\n\u001b[0;32m    823\u001b[0m     \u001b[38;5;66;03m# used (rather than .append) in the following line\u001b[39;00m\n\u001b[0;32m    824\u001b[0m     \u001b[38;5;28mself\u001b[39m\u001b[38;5;241m.\u001b[39m_jobs\u001b[38;5;241m.\u001b[39minsert(job_idx, job)\n",
      "File \u001b[1;32mc:\\Users\\Dell\\AppData\\Local\\Programs\\Python\\Python38\\lib\\site-packages\\joblib\\_parallel_backends.py:208\u001b[0m, in \u001b[0;36mSequentialBackend.apply_async\u001b[1;34m(self, func, callback)\u001b[0m\n\u001b[0;32m    206\u001b[0m \u001b[38;5;28;01mdef\u001b[39;00m \u001b[38;5;21mapply_async\u001b[39m(\u001b[38;5;28mself\u001b[39m, func, callback\u001b[38;5;241m=\u001b[39m\u001b[38;5;28;01mNone\u001b[39;00m):\n\u001b[0;32m    207\u001b[0m \u001b[38;5;250m    \u001b[39m\u001b[38;5;124;03m\"\"\"Schedule a func to be run\"\"\"\u001b[39;00m\n\u001b[1;32m--> 208\u001b[0m     result \u001b[38;5;241m=\u001b[39m \u001b[43mImmediateResult\u001b[49m\u001b[43m(\u001b[49m\u001b[43mfunc\u001b[49m\u001b[43m)\u001b[49m\n\u001b[0;32m    209\u001b[0m     \u001b[38;5;28;01mif\u001b[39;00m callback:\n\u001b[0;32m    210\u001b[0m         callback(result)\n",
      "File \u001b[1;32mc:\\Users\\Dell\\AppData\\Local\\Programs\\Python\\Python38\\lib\\site-packages\\joblib\\_parallel_backends.py:597\u001b[0m, in \u001b[0;36mImmediateResult.__init__\u001b[1;34m(self, batch)\u001b[0m\n\u001b[0;32m    594\u001b[0m \u001b[38;5;28;01mdef\u001b[39;00m \u001b[38;5;21m__init__\u001b[39m(\u001b[38;5;28mself\u001b[39m, batch):\n\u001b[0;32m    595\u001b[0m     \u001b[38;5;66;03m# Don't delay the application, to avoid keeping the input\u001b[39;00m\n\u001b[0;32m    596\u001b[0m     \u001b[38;5;66;03m# arguments in memory\u001b[39;00m\n\u001b[1;32m--> 597\u001b[0m     \u001b[38;5;28mself\u001b[39m\u001b[38;5;241m.\u001b[39mresults \u001b[38;5;241m=\u001b[39m \u001b[43mbatch\u001b[49m\u001b[43m(\u001b[49m\u001b[43m)\u001b[49m\n",
      "File \u001b[1;32mc:\\Users\\Dell\\AppData\\Local\\Programs\\Python\\Python38\\lib\\site-packages\\joblib\\parallel.py:288\u001b[0m, in \u001b[0;36mBatchedCalls.__call__\u001b[1;34m(self)\u001b[0m\n\u001b[0;32m    284\u001b[0m \u001b[38;5;28;01mdef\u001b[39;00m \u001b[38;5;21m__call__\u001b[39m(\u001b[38;5;28mself\u001b[39m):\n\u001b[0;32m    285\u001b[0m     \u001b[38;5;66;03m# Set the default nested backend to self._backend but do not set the\u001b[39;00m\n\u001b[0;32m    286\u001b[0m     \u001b[38;5;66;03m# change the default number of processes to -1\u001b[39;00m\n\u001b[0;32m    287\u001b[0m     \u001b[38;5;28;01mwith\u001b[39;00m parallel_backend(\u001b[38;5;28mself\u001b[39m\u001b[38;5;241m.\u001b[39m_backend, n_jobs\u001b[38;5;241m=\u001b[39m\u001b[38;5;28mself\u001b[39m\u001b[38;5;241m.\u001b[39m_n_jobs):\n\u001b[1;32m--> 288\u001b[0m         \u001b[38;5;28;01mreturn\u001b[39;00m [func(\u001b[38;5;241m*\u001b[39margs, \u001b[38;5;241m*\u001b[39m\u001b[38;5;241m*\u001b[39mkwargs)\n\u001b[0;32m    289\u001b[0m                 \u001b[38;5;28;01mfor\u001b[39;00m func, args, kwargs \u001b[38;5;129;01min\u001b[39;00m \u001b[38;5;28mself\u001b[39m\u001b[38;5;241m.\u001b[39mitems]\n",
      "File \u001b[1;32mc:\\Users\\Dell\\AppData\\Local\\Programs\\Python\\Python38\\lib\\site-packages\\joblib\\parallel.py:288\u001b[0m, in \u001b[0;36m<listcomp>\u001b[1;34m(.0)\u001b[0m\n\u001b[0;32m    284\u001b[0m \u001b[38;5;28;01mdef\u001b[39;00m \u001b[38;5;21m__call__\u001b[39m(\u001b[38;5;28mself\u001b[39m):\n\u001b[0;32m    285\u001b[0m     \u001b[38;5;66;03m# Set the default nested backend to self._backend but do not set the\u001b[39;00m\n\u001b[0;32m    286\u001b[0m     \u001b[38;5;66;03m# change the default number of processes to -1\u001b[39;00m\n\u001b[0;32m    287\u001b[0m     \u001b[38;5;28;01mwith\u001b[39;00m parallel_backend(\u001b[38;5;28mself\u001b[39m\u001b[38;5;241m.\u001b[39m_backend, n_jobs\u001b[38;5;241m=\u001b[39m\u001b[38;5;28mself\u001b[39m\u001b[38;5;241m.\u001b[39m_n_jobs):\n\u001b[1;32m--> 288\u001b[0m         \u001b[38;5;28;01mreturn\u001b[39;00m [\u001b[43mfunc\u001b[49m\u001b[43m(\u001b[49m\u001b[38;5;241;43m*\u001b[39;49m\u001b[43margs\u001b[49m\u001b[43m,\u001b[49m\u001b[43m \u001b[49m\u001b[38;5;241;43m*\u001b[39;49m\u001b[38;5;241;43m*\u001b[39;49m\u001b[43mkwargs\u001b[49m\u001b[43m)\u001b[49m\n\u001b[0;32m    289\u001b[0m                 \u001b[38;5;28;01mfor\u001b[39;00m func, args, kwargs \u001b[38;5;129;01min\u001b[39;00m \u001b[38;5;28mself\u001b[39m\u001b[38;5;241m.\u001b[39mitems]\n",
      "File \u001b[1;32mc:\\Users\\Dell\\AppData\\Local\\Programs\\Python\\Python38\\lib\\site-packages\\sklearn\\utils\\parallel.py:123\u001b[0m, in \u001b[0;36m_FuncWrapper.__call__\u001b[1;34m(self, *args, **kwargs)\u001b[0m\n\u001b[0;32m    121\u001b[0m     config \u001b[38;5;241m=\u001b[39m {}\n\u001b[0;32m    122\u001b[0m \u001b[38;5;28;01mwith\u001b[39;00m config_context(\u001b[38;5;241m*\u001b[39m\u001b[38;5;241m*\u001b[39mconfig):\n\u001b[1;32m--> 123\u001b[0m     \u001b[38;5;28;01mreturn\u001b[39;00m \u001b[38;5;28;43mself\u001b[39;49m\u001b[38;5;241;43m.\u001b[39;49m\u001b[43mfunction\u001b[49m\u001b[43m(\u001b[49m\u001b[38;5;241;43m*\u001b[39;49m\u001b[43margs\u001b[49m\u001b[43m,\u001b[49m\u001b[43m \u001b[49m\u001b[38;5;241;43m*\u001b[39;49m\u001b[38;5;241;43m*\u001b[39;49m\u001b[43mkwargs\u001b[49m\u001b[43m)\u001b[49m\n",
      "File \u001b[1;32mc:\\Users\\Dell\\AppData\\Local\\Programs\\Python\\Python38\\lib\\site-packages\\sklearn\\model_selection\\_validation.py:1068\u001b[0m, in \u001b[0;36m_fit_and_predict\u001b[1;34m(estimator, X, y, train, test, verbose, fit_params, method)\u001b[0m\n\u001b[0;32m   1066\u001b[0m     estimator\u001b[38;5;241m.\u001b[39mfit(X_train, \u001b[38;5;241m*\u001b[39m\u001b[38;5;241m*\u001b[39mfit_params)\n\u001b[0;32m   1067\u001b[0m \u001b[38;5;28;01melse\u001b[39;00m:\n\u001b[1;32m-> 1068\u001b[0m     \u001b[43mestimator\u001b[49m\u001b[38;5;241;43m.\u001b[39;49m\u001b[43mfit\u001b[49m\u001b[43m(\u001b[49m\u001b[43mX_train\u001b[49m\u001b[43m,\u001b[49m\u001b[43m \u001b[49m\u001b[43my_train\u001b[49m\u001b[43m,\u001b[49m\u001b[43m \u001b[49m\u001b[38;5;241;43m*\u001b[39;49m\u001b[38;5;241;43m*\u001b[39;49m\u001b[43mfit_params\u001b[49m\u001b[43m)\u001b[49m\n\u001b[0;32m   1069\u001b[0m func \u001b[38;5;241m=\u001b[39m \u001b[38;5;28mgetattr\u001b[39m(estimator, method)\n\u001b[0;32m   1070\u001b[0m predictions \u001b[38;5;241m=\u001b[39m func(X_test)\n",
      "File \u001b[1;32mc:\\Users\\Dell\\AppData\\Local\\Programs\\Python\\Python38\\lib\\site-packages\\sklearn\\ensemble\\_forest.py:473\u001b[0m, in \u001b[0;36mBaseForest.fit\u001b[1;34m(self, X, y, sample_weight)\u001b[0m\n\u001b[0;32m    462\u001b[0m trees \u001b[38;5;241m=\u001b[39m [\n\u001b[0;32m    463\u001b[0m     \u001b[38;5;28mself\u001b[39m\u001b[38;5;241m.\u001b[39m_make_estimator(append\u001b[38;5;241m=\u001b[39m\u001b[38;5;28;01mFalse\u001b[39;00m, random_state\u001b[38;5;241m=\u001b[39mrandom_state)\n\u001b[0;32m    464\u001b[0m     \u001b[38;5;28;01mfor\u001b[39;00m i \u001b[38;5;129;01min\u001b[39;00m \u001b[38;5;28mrange\u001b[39m(n_more_estimators)\n\u001b[0;32m    465\u001b[0m ]\n\u001b[0;32m    467\u001b[0m \u001b[38;5;66;03m# Parallel loop: we prefer the threading backend as the Cython code\u001b[39;00m\n\u001b[0;32m    468\u001b[0m \u001b[38;5;66;03m# for fitting the trees is internally releasing the Python GIL\u001b[39;00m\n\u001b[0;32m    469\u001b[0m \u001b[38;5;66;03m# making threading more efficient than multiprocessing in\u001b[39;00m\n\u001b[0;32m    470\u001b[0m \u001b[38;5;66;03m# that case. However, for joblib 0.12+ we respect any\u001b[39;00m\n\u001b[0;32m    471\u001b[0m \u001b[38;5;66;03m# parallel_backend contexts set at a higher level,\u001b[39;00m\n\u001b[0;32m    472\u001b[0m \u001b[38;5;66;03m# since correctness does not rely on using threads.\u001b[39;00m\n\u001b[1;32m--> 473\u001b[0m trees \u001b[38;5;241m=\u001b[39m \u001b[43mParallel\u001b[49m\u001b[43m(\u001b[49m\n\u001b[0;32m    474\u001b[0m \u001b[43m    \u001b[49m\u001b[43mn_jobs\u001b[49m\u001b[38;5;241;43m=\u001b[39;49m\u001b[38;5;28;43mself\u001b[39;49m\u001b[38;5;241;43m.\u001b[39;49m\u001b[43mn_jobs\u001b[49m\u001b[43m,\u001b[49m\n\u001b[0;32m    475\u001b[0m \u001b[43m    \u001b[49m\u001b[43mverbose\u001b[49m\u001b[38;5;241;43m=\u001b[39;49m\u001b[38;5;28;43mself\u001b[39;49m\u001b[38;5;241;43m.\u001b[39;49m\u001b[43mverbose\u001b[49m\u001b[43m,\u001b[49m\n\u001b[0;32m    476\u001b[0m \u001b[43m    \u001b[49m\u001b[43mprefer\u001b[49m\u001b[38;5;241;43m=\u001b[39;49m\u001b[38;5;124;43m\"\u001b[39;49m\u001b[38;5;124;43mthreads\u001b[39;49m\u001b[38;5;124;43m\"\u001b[39;49m\u001b[43m,\u001b[49m\n\u001b[0;32m    477\u001b[0m \u001b[43m\u001b[49m\u001b[43m)\u001b[49m\u001b[43m(\u001b[49m\n\u001b[0;32m    478\u001b[0m \u001b[43m    \u001b[49m\u001b[43mdelayed\u001b[49m\u001b[43m(\u001b[49m\u001b[43m_parallel_build_trees\u001b[49m\u001b[43m)\u001b[49m\u001b[43m(\u001b[49m\n\u001b[0;32m    479\u001b[0m \u001b[43m        \u001b[49m\u001b[43mt\u001b[49m\u001b[43m,\u001b[49m\n\u001b[0;32m    480\u001b[0m \u001b[43m        \u001b[49m\u001b[38;5;28;43mself\u001b[39;49m\u001b[38;5;241;43m.\u001b[39;49m\u001b[43mbootstrap\u001b[49m\u001b[43m,\u001b[49m\n\u001b[0;32m    481\u001b[0m \u001b[43m        \u001b[49m\u001b[43mX\u001b[49m\u001b[43m,\u001b[49m\n\u001b[0;32m    482\u001b[0m \u001b[43m        \u001b[49m\u001b[43my\u001b[49m\u001b[43m,\u001b[49m\n\u001b[0;32m    483\u001b[0m \u001b[43m        \u001b[49m\u001b[43msample_weight\u001b[49m\u001b[43m,\u001b[49m\n\u001b[0;32m    484\u001b[0m \u001b[43m        \u001b[49m\u001b[43mi\u001b[49m\u001b[43m,\u001b[49m\n\u001b[0;32m    485\u001b[0m \u001b[43m        \u001b[49m\u001b[38;5;28;43mlen\u001b[39;49m\u001b[43m(\u001b[49m\u001b[43mtrees\u001b[49m\u001b[43m)\u001b[49m\u001b[43m,\u001b[49m\n\u001b[0;32m    486\u001b[0m \u001b[43m        \u001b[49m\u001b[43mverbose\u001b[49m\u001b[38;5;241;43m=\u001b[39;49m\u001b[38;5;28;43mself\u001b[39;49m\u001b[38;5;241;43m.\u001b[39;49m\u001b[43mverbose\u001b[49m\u001b[43m,\u001b[49m\n\u001b[0;32m    487\u001b[0m \u001b[43m        \u001b[49m\u001b[43mclass_weight\u001b[49m\u001b[38;5;241;43m=\u001b[39;49m\u001b[38;5;28;43mself\u001b[39;49m\u001b[38;5;241;43m.\u001b[39;49m\u001b[43mclass_weight\u001b[49m\u001b[43m,\u001b[49m\n\u001b[0;32m    488\u001b[0m \u001b[43m        \u001b[49m\u001b[43mn_samples_bootstrap\u001b[49m\u001b[38;5;241;43m=\u001b[39;49m\u001b[43mn_samples_bootstrap\u001b[49m\u001b[43m,\u001b[49m\n\u001b[0;32m    489\u001b[0m \u001b[43m    \u001b[49m\u001b[43m)\u001b[49m\n\u001b[0;32m    490\u001b[0m \u001b[43m    \u001b[49m\u001b[38;5;28;43;01mfor\u001b[39;49;00m\u001b[43m \u001b[49m\u001b[43mi\u001b[49m\u001b[43m,\u001b[49m\u001b[43m \u001b[49m\u001b[43mt\u001b[49m\u001b[43m \u001b[49m\u001b[38;5;129;43;01min\u001b[39;49;00m\u001b[43m \u001b[49m\u001b[38;5;28;43menumerate\u001b[39;49m\u001b[43m(\u001b[49m\u001b[43mtrees\u001b[49m\u001b[43m)\u001b[49m\n\u001b[0;32m    491\u001b[0m \u001b[43m\u001b[49m\u001b[43m)\u001b[49m\n\u001b[0;32m    493\u001b[0m \u001b[38;5;66;03m# Collect newly grown trees\u001b[39;00m\n\u001b[0;32m    494\u001b[0m \u001b[38;5;28mself\u001b[39m\u001b[38;5;241m.\u001b[39mestimators_\u001b[38;5;241m.\u001b[39mextend(trees)\n",
      "File \u001b[1;32mc:\\Users\\Dell\\AppData\\Local\\Programs\\Python\\Python38\\lib\\site-packages\\sklearn\\utils\\parallel.py:63\u001b[0m, in \u001b[0;36mParallel.__call__\u001b[1;34m(self, iterable)\u001b[0m\n\u001b[0;32m     58\u001b[0m config \u001b[38;5;241m=\u001b[39m get_config()\n\u001b[0;32m     59\u001b[0m iterable_with_config \u001b[38;5;241m=\u001b[39m (\n\u001b[0;32m     60\u001b[0m     (_with_config(delayed_func, config), args, kwargs)\n\u001b[0;32m     61\u001b[0m     \u001b[38;5;28;01mfor\u001b[39;00m delayed_func, args, kwargs \u001b[38;5;129;01min\u001b[39;00m iterable\n\u001b[0;32m     62\u001b[0m )\n\u001b[1;32m---> 63\u001b[0m \u001b[38;5;28;01mreturn\u001b[39;00m \u001b[38;5;28;43msuper\u001b[39;49m\u001b[43m(\u001b[49m\u001b[43m)\u001b[49m\u001b[38;5;241;43m.\u001b[39;49m\u001b[38;5;21;43m__call__\u001b[39;49m\u001b[43m(\u001b[49m\u001b[43miterable_with_config\u001b[49m\u001b[43m)\u001b[49m\n",
      "File \u001b[1;32mc:\\Users\\Dell\\AppData\\Local\\Programs\\Python\\Python38\\lib\\site-packages\\joblib\\parallel.py:1098\u001b[0m, in \u001b[0;36mParallel.__call__\u001b[1;34m(self, iterable)\u001b[0m\n\u001b[0;32m   1095\u001b[0m     \u001b[38;5;28mself\u001b[39m\u001b[38;5;241m.\u001b[39m_iterating \u001b[38;5;241m=\u001b[39m \u001b[38;5;28;01mFalse\u001b[39;00m\n\u001b[0;32m   1097\u001b[0m \u001b[38;5;28;01mwith\u001b[39;00m \u001b[38;5;28mself\u001b[39m\u001b[38;5;241m.\u001b[39m_backend\u001b[38;5;241m.\u001b[39mretrieval_context():\n\u001b[1;32m-> 1098\u001b[0m     \u001b[38;5;28;43mself\u001b[39;49m\u001b[38;5;241;43m.\u001b[39;49m\u001b[43mretrieve\u001b[49m\u001b[43m(\u001b[49m\u001b[43m)\u001b[49m\n\u001b[0;32m   1099\u001b[0m \u001b[38;5;66;03m# Make sure that we get a last message telling us we are done\u001b[39;00m\n\u001b[0;32m   1100\u001b[0m elapsed_time \u001b[38;5;241m=\u001b[39m time\u001b[38;5;241m.\u001b[39mtime() \u001b[38;5;241m-\u001b[39m \u001b[38;5;28mself\u001b[39m\u001b[38;5;241m.\u001b[39m_start_time\n",
      "File \u001b[1;32mc:\\Users\\Dell\\AppData\\Local\\Programs\\Python\\Python38\\lib\\site-packages\\joblib\\parallel.py:975\u001b[0m, in \u001b[0;36mParallel.retrieve\u001b[1;34m(self)\u001b[0m\n\u001b[0;32m    973\u001b[0m \u001b[38;5;28;01mtry\u001b[39;00m:\n\u001b[0;32m    974\u001b[0m     \u001b[38;5;28;01mif\u001b[39;00m \u001b[38;5;28mgetattr\u001b[39m(\u001b[38;5;28mself\u001b[39m\u001b[38;5;241m.\u001b[39m_backend, \u001b[38;5;124m'\u001b[39m\u001b[38;5;124msupports_timeout\u001b[39m\u001b[38;5;124m'\u001b[39m, \u001b[38;5;28;01mFalse\u001b[39;00m):\n\u001b[1;32m--> 975\u001b[0m         \u001b[38;5;28mself\u001b[39m\u001b[38;5;241m.\u001b[39m_output\u001b[38;5;241m.\u001b[39mextend(\u001b[43mjob\u001b[49m\u001b[38;5;241;43m.\u001b[39;49m\u001b[43mget\u001b[49m\u001b[43m(\u001b[49m\u001b[43mtimeout\u001b[49m\u001b[38;5;241;43m=\u001b[39;49m\u001b[38;5;28;43mself\u001b[39;49m\u001b[38;5;241;43m.\u001b[39;49m\u001b[43mtimeout\u001b[49m\u001b[43m)\u001b[49m)\n\u001b[0;32m    976\u001b[0m     \u001b[38;5;28;01melse\u001b[39;00m:\n\u001b[0;32m    977\u001b[0m         \u001b[38;5;28mself\u001b[39m\u001b[38;5;241m.\u001b[39m_output\u001b[38;5;241m.\u001b[39mextend(job\u001b[38;5;241m.\u001b[39mget())\n",
      "File \u001b[1;32mc:\\Users\\Dell\\AppData\\Local\\Programs\\Python\\Python38\\lib\\site-packages\\joblib\\_parallel_backends.py:567\u001b[0m, in \u001b[0;36mLokyBackend.wrap_future_result\u001b[1;34m(future, timeout)\u001b[0m\n\u001b[0;32m    564\u001b[0m \u001b[38;5;250m\u001b[39m\u001b[38;5;124;03m\"\"\"Wrapper for Future.result to implement the same behaviour as\u001b[39;00m\n\u001b[0;32m    565\u001b[0m \u001b[38;5;124;03mAsyncResults.get from multiprocessing.\"\"\"\u001b[39;00m\n\u001b[0;32m    566\u001b[0m \u001b[38;5;28;01mtry\u001b[39;00m:\n\u001b[1;32m--> 567\u001b[0m     \u001b[38;5;28;01mreturn\u001b[39;00m \u001b[43mfuture\u001b[49m\u001b[38;5;241;43m.\u001b[39;49m\u001b[43mresult\u001b[49m\u001b[43m(\u001b[49m\u001b[43mtimeout\u001b[49m\u001b[38;5;241;43m=\u001b[39;49m\u001b[43mtimeout\u001b[49m\u001b[43m)\u001b[49m\n\u001b[0;32m    568\u001b[0m \u001b[38;5;28;01mexcept\u001b[39;00m CfTimeoutError \u001b[38;5;28;01mas\u001b[39;00m e:\n\u001b[0;32m    569\u001b[0m     \u001b[38;5;28;01mraise\u001b[39;00m \u001b[38;5;167;01mTimeoutError\u001b[39;00m \u001b[38;5;28;01mfrom\u001b[39;00m \u001b[38;5;21;01me\u001b[39;00m\n",
      "File \u001b[1;32mc:\\Users\\Dell\\AppData\\Local\\Programs\\Python\\Python38\\lib\\concurrent\\futures\\_base.py:434\u001b[0m, in \u001b[0;36mFuture.result\u001b[1;34m(self, timeout)\u001b[0m\n\u001b[0;32m    431\u001b[0m \u001b[38;5;28;01melif\u001b[39;00m \u001b[38;5;28mself\u001b[39m\u001b[38;5;241m.\u001b[39m_state \u001b[38;5;241m==\u001b[39m FINISHED:\n\u001b[0;32m    432\u001b[0m     \u001b[38;5;28;01mreturn\u001b[39;00m \u001b[38;5;28mself\u001b[39m\u001b[38;5;241m.\u001b[39m__get_result()\n\u001b[1;32m--> 434\u001b[0m \u001b[38;5;28;43mself\u001b[39;49m\u001b[38;5;241;43m.\u001b[39;49m\u001b[43m_condition\u001b[49m\u001b[38;5;241;43m.\u001b[39;49m\u001b[43mwait\u001b[49m\u001b[43m(\u001b[49m\u001b[43mtimeout\u001b[49m\u001b[43m)\u001b[49m\n\u001b[0;32m    436\u001b[0m \u001b[38;5;28;01mif\u001b[39;00m \u001b[38;5;28mself\u001b[39m\u001b[38;5;241m.\u001b[39m_state \u001b[38;5;129;01min\u001b[39;00m [CANCELLED, CANCELLED_AND_NOTIFIED]:\n\u001b[0;32m    437\u001b[0m     \u001b[38;5;28;01mraise\u001b[39;00m CancelledError()\n",
      "File \u001b[1;32mc:\\Users\\Dell\\AppData\\Local\\Programs\\Python\\Python38\\lib\\threading.py:302\u001b[0m, in \u001b[0;36mCondition.wait\u001b[1;34m(self, timeout)\u001b[0m\n\u001b[0;32m    300\u001b[0m \u001b[38;5;28;01mtry\u001b[39;00m:    \u001b[38;5;66;03m# restore state no matter what (e.g., KeyboardInterrupt)\u001b[39;00m\n\u001b[0;32m    301\u001b[0m     \u001b[38;5;28;01mif\u001b[39;00m timeout \u001b[38;5;129;01mis\u001b[39;00m \u001b[38;5;28;01mNone\u001b[39;00m:\n\u001b[1;32m--> 302\u001b[0m         \u001b[43mwaiter\u001b[49m\u001b[38;5;241;43m.\u001b[39;49m\u001b[43macquire\u001b[49m\u001b[43m(\u001b[49m\u001b[43m)\u001b[49m\n\u001b[0;32m    303\u001b[0m         gotit \u001b[38;5;241m=\u001b[39m \u001b[38;5;28;01mTrue\u001b[39;00m\n\u001b[0;32m    304\u001b[0m     \u001b[38;5;28;01melse\u001b[39;00m:\n",
      "\u001b[1;31mKeyboardInterrupt\u001b[0m: "
     ]
    }
   ],
   "source": [
    "# Creating a combined ensemble model for subattack using all other models\n",
    "from sklearn.ensemble import StackingClassifier\n",
    "\n",
    "\n",
    "sub_attack_ensemble_results =[]\n",
    "\n",
    "sub_attack_ensemble_model = StackingClassifier(estimators=[(name, models[name]) for name in top_models])\n",
    "sub_attack_ensemble_model.fit(X_train, y2_train)\n",
    "y_sub_pred_ensemble = sub_attack_ensemble_model.predict(X_test)\n",
    "\n",
    "# Evaluate the ensemble model\n",
    "accuracy_ensemble = accuracy_score(y2_test, y_sub_pred_ensemble)\n",
    "precision_ensemble = precision_score(y2_test, y_sub_pred_ensemble, average='weighted')\n",
    "recall_ensemble = recall_score(y2_test, y_sub_pred_ensemble, average='weighted')\n",
    "\n",
    "# Add the ensemble model's results to the results list\n",
    "sub_attack_ensemble_results.append({\n",
    "    'Model': 'Ensemble Model',\n",
    "    'Accuracy': accuracy_ensemble,\n",
    "    'Precision': precision_ensemble,\n",
    "    'Recall': recall_ensemble\n",
    "})"
   ]
  },
  {
   "cell_type": "code",
   "execution_count": 83,
   "metadata": {},
   "outputs": [
    {
     "name": "stdout",
     "output_type": "stream",
     "text": [
      "Accuracy (Attack): 0.8483618705378217\n"
     ]
    }
   ],
   "source": [
    "###################### MODEL 1 : RANDOM FOREST ##########################\n",
    "\n",
    "\n",
    "# Random Forest for SubAttack\n",
    "from sklearn.ensemble import RandomForestClassifier\n",
    "from sklearn.metrics import accuracy_score, classification_report\n",
    "\n",
    "# Create and train the Random Forest classifier for 'Attack'\n",
    "sub_rf = RandomForestClassifier(n_estimators=100, n_jobs=-1, max_depth=10, random_state=42)  # Example: Use 100 trees\n",
    "sub_rf.fit(X_train, y2_train)\n",
    "\n",
    "# Get feature importances\n",
    "importances = sub_rf.feature_importances_\n",
    "\n",
    "# Sort feature importances in descending order\n",
    "indices = np.argsort(importances)[::-1]\n",
    "\n",
    "# Select the top k most important features\n",
    "k = 5  # Adjust the number of features you want to select\n",
    "selected_features_indices = indices[:k]\n",
    "selected_features = X_train.columns[selected_features_indices]\n",
    "\n",
    "\n",
    "sub_rf.fit(X_train[selected_features], y2_train)\n",
    "\n",
    "# Make predictions for 'Attack'\n",
    "y2_pred_RF = sub_rf.predict(X_test[selected_features])\n",
    "\n",
    "# Evaluate the performance of the classifier for 'Attack'\n",
    "accuracy_attack = accuracy_score(y2_test, y2_pred_RF)\n",
    "print(\"Accuracy (Attack):\", accuracy_attack)\n",
    "#print(\"\\nClassification Report (Attack):\")\n",
    "#print(classification_report(y1_test, y1_pred_RF))\n",
    "accuracy = accuracy_score(y2_test, y2_pred)\n",
    "precision = precision_score(y2_test, y2_pred, average='weighted')\n",
    "recall = recall_score(y2_test, y2_pred, average='weighted')\n"
   ]
  },
  {
   "cell_type": "code",
   "execution_count": 84,
   "metadata": {},
   "outputs": [],
   "source": [
    "# Save ensemble model to the disk\n",
    "import pickle\n",
    "file_path= 'sub_attack_ensemble_model.sav'\n",
    "with open(file_path, 'wb') as file:\n",
    "    pickle.dump(sub_rf, file)"
   ]
  }
 ],
 "metadata": {
  "kernelspec": {
   "display_name": "Python 3",
   "language": "python",
   "name": "python3"
  },
  "language_info": {
   "codemirror_mode": {
    "name": "ipython",
    "version": 3
   },
   "file_extension": ".py",
   "mimetype": "text/x-python",
   "name": "python",
   "nbconvert_exporter": "python",
   "pygments_lexer": "ipython3",
   "version": "3.8.0"
  }
 },
 "nbformat": 4,
 "nbformat_minor": 2
}
